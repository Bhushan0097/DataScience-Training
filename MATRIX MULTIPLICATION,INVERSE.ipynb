{
 "cells": [
  {
   "cell_type": "code",
   "execution_count": 9,
   "metadata": {},
   "outputs": [
    {
     "name": "stdout",
     "output_type": "stream",
     "text": [
      "[[ 1. -1.  1.]\n",
      " [ 1.  1.  1.]\n",
      " [ 1.  2.  4.]] float64\n",
      "\n",
      " ♥ INVERSE ♠ :\n",
      " [[ 0.3333  1.     -0.3333]\n",
      " [-0.5     0.5     0.    ]\n",
      " [ 0.1666 -0.5     0.3333]] float16\n",
      "\n",
      " ♦ Identity : \n",
      " [[ 1.  0.  0.]\n",
      " [-0.  1.  0.]\n",
      " [-0.  0.  1.]]\n"
     ]
    }
   ],
   "source": [
    "#Inverse  of a matrix\n",
    "import math\n",
    "import numpy as np\n",
    "\n",
    "from numpy.linalg import inv\n",
    "b = np.array([[1.,-1.,1.],[1.,1.,1.],[1.,2.,4.]]) #by default the datatype of a np-aaray is float64 \n",
    "                                                  #and  without decimal it's int32\n",
    "print(b,b.dtype)\n",
    "\n",
    "binv  = inv(np.matrix(b))\n",
    "binv = np.float16(binv) #transform the datatype from float64 to float16\n",
    "print(\"\\n ♥ INVERSE ♠ :\\n\",binv,binv.dtype)\n",
    "\n",
    "Id = np.ceil(b.dot(binv)) #but to get identity matrix same approach isn't working for some reasons, so we use np.ceil \n",
    "print(\"\\n ♦ Identity : \\n\",Id) "
   ]
  },
  {
   "cell_type": "code",
   "execution_count": null,
   "metadata": {},
   "outputs": [],
   "source": []
  }
 ],
 "metadata": {
  "kernelspec": {
   "display_name": "Python 3",
   "language": "python",
   "name": "python3"
  },
  "language_info": {
   "codemirror_mode": {
    "name": "ipython",
    "version": 3
   },
   "file_extension": ".py",
   "mimetype": "text/x-python",
   "name": "python",
   "nbconvert_exporter": "python",
   "pygments_lexer": "ipython3",
   "version": "3.7.4"
  }
 },
 "nbformat": 4,
 "nbformat_minor": 2
}
