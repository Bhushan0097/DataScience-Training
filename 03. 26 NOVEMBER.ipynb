{
 "cells": [
  {
   "cell_type": "code",
   "execution_count": 1,
   "metadata": {},
   "outputs": [
    {
     "name": "stdout",
     "output_type": "stream",
     "text": [
      "Prob of ZERO coustomers buying : 0.3430\n",
      "Prob of ONE coustomers buying : 0.4410\n",
      "Prob of TWO coustomers buying : 0.1890\n",
      "Prob of THREE coustomers buying : 0.0270\n"
     ]
    }
   ],
   "source": [
    "#Binomial Distribution\n",
    "#p = prob of success for each trial\n",
    "#n = total no. of trial\n",
    "#k = no. of success expected\n",
    "#binom.pmf(k,n,p)\n",
    "\n",
    "from scipy.stats import binom\n",
    "p0 = binom.pmf(0,3,0.3)\n",
    "p1 = binom.pmf(1,3,0.3)\n",
    "p2 = binom.pmf(2,3,0.3)\n",
    "p3 = binom.pmf(3,3,0.3)\n",
    "\n",
    "print('Prob of ZERO coustomers buying : %2.4f' %(p0),)\n",
    "print('Prob of ONE coustomers buying : %2.4f' %(p1),)\n",
    "print('Prob of TWO coustomers buying : %2.4f' %(p2),)\n",
    "print('Prob of THREE coustomers buying : %2.4f' %(p3),)"
   ]
  },
  {
   "cell_type": "code",
   "execution_count": null,
   "metadata": {},
   "outputs": [],
   "source": []
  }
 ],
 "metadata": {
  "kernelspec": {
   "display_name": "Python 3",
   "language": "python",
   "name": "python3"
  },
  "language_info": {
   "codemirror_mode": {
    "name": "ipython",
    "version": 3
   },
   "file_extension": ".py",
   "mimetype": "text/x-python",
   "name": "python",
   "nbconvert_exporter": "python",
   "pygments_lexer": "ipython3",
   "version": "3.7.4"
  }
 },
 "nbformat": 4,
 "nbformat_minor": 2
}
