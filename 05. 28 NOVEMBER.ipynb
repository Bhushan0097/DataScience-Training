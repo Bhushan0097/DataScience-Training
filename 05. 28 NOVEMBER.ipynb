{
 "cells": [
  {
   "cell_type": "code",
   "execution_count": 53,
   "metadata": {},
   "outputs": [
    {
     "name": "stdout",
     "output_type": "stream",
     "text": [
      "this datascience first file program\n",
      "in python \n",
      "performed in jupyter notebook\n",
      "opened in anaconda environment'\n",
      "\n"
     ]
    }
   ],
   "source": [
    "myfile = open(\"E:\\\\python\\\\myfile.txt\")\n",
    "print(myfile.read())"
   ]
  },
  {
   "cell_type": "code",
   "execution_count": 16,
   "metadata": {},
   "outputs": [
    {
     "data": {
      "text/plain": [
       "''"
      ]
     },
     "execution_count": 16,
     "metadata": {},
     "output_type": "execute_result"
    }
   ],
   "source": [
    "myfile.read() #read the file second time Error"
   ]
  },
  {
   "cell_type": "code",
   "execution_count": 17,
   "metadata": {},
   "outputs": [
    {
     "data": {
      "text/plain": [
       "0"
      ]
     },
     "execution_count": 17,
     "metadata": {},
     "output_type": "execute_result"
    }
   ],
   "source": [
    "myfile.seek(0) #set cursor to begining\n"
   ]
  },
  {
   "cell_type": "code",
   "execution_count": 18,
   "metadata": {},
   "outputs": [
    {
     "data": {
      "text/plain": [
       "'this datascience first file program\\nin python \\nperformed in jupyter notebook\\nin anaconda environment'"
      ]
     },
     "execution_count": 18,
     "metadata": {},
     "output_type": "execute_result"
    }
   ],
   "source": [
    "myfile.read()"
   ]
  },
  {
   "cell_type": "code",
   "execution_count": 54,
   "metadata": {},
   "outputs": [],
   "source": [
    "myfile.close() #must close the file"
   ]
  },
  {
   "cell_type": "code",
   "execution_count": 21,
   "metadata": {},
   "outputs": [
    {
     "data": {
      "text/plain": [
       "['this datascience first file program\\n',\n",
       " 'in python \\n',\n",
       " 'performed in jupyter notebook\\n',\n",
       " 'in anaconda environment']"
      ]
     },
     "execution_count": 21,
     "metadata": {},
     "output_type": "execute_result"
    }
   ],
   "source": [
    "myfile = open(\"E:\\\\python\\\\myfile.txt\")\n",
    "myfile.seek(0)\n",
    "content = myfile.readlines() #read the file\n",
    "content"
   ]
  },
  {
   "cell_type": "code",
   "execution_count": 22,
   "metadata": {},
   "outputs": [
    {
     "data": {
      "text/plain": [
       "list"
      ]
     },
     "execution_count": 22,
     "metadata": {},
     "output_type": "execute_result"
    }
   ],
   "source": [
    "type(content)"
   ]
  },
  {
   "cell_type": "code",
   "execution_count": 36,
   "metadata": {},
   "outputs": [
    {
     "data": {
      "text/plain": [
       "19"
      ]
     },
     "execution_count": 36,
     "metadata": {},
     "output_type": "execute_result"
    }
   ],
   "source": [
    "#write file then read\n",
    "\n",
    "myfile = open(\"E:\\\\python\\\\myfile2.txt\", 'w+') # W+ read and write to file\n",
    "myfile.write(\"This is my new file\")"
   ]
  },
  {
   "cell_type": "code",
   "execution_count": 38,
   "metadata": {},
   "outputs": [
    {
     "data": {
      "text/plain": [
       "'This is my new file'"
      ]
     },
     "execution_count": 38,
     "metadata": {},
     "output_type": "execute_result"
    }
   ],
   "source": [
    "myfile.seek(0)\n",
    "content = myfile.read()\n",
    "content"
   ]
  },
  {
   "cell_type": "code",
   "execution_count": 43,
   "metadata": {},
   "outputs": [
    {
     "name": "stdout",
     "output_type": "stream",
     "text": [
      "\n",
      "This is text being append to test.txt\n",
      "And another line here\n",
      "This is text being append to test.txt\n",
      "And another line here\n",
      "This is text being append to test.txt\n",
      "And another line here\n",
      "This is text being append to test.txt\n",
      "And another line here\n"
     ]
    }
   ],
   "source": [
    "#Append file then read\n",
    "my_file = open(\"E:\\\\python\\\\myfile3.txt\", 'a+') \n",
    "my_file.write(\"\\nThis is text being append to test.txt\")\n",
    "my_file.write(\"\\nAnd another line here\")\n",
    "my_file.seek(0)\n",
    "print(my_file.read())\n",
    "myfile.close()\n"
   ]
  },
  {
   "cell_type": "markdown",
   "metadata": {},
   "source": [
    "## Date and Time"
   ]
  },
  {
   "cell_type": "code",
   "execution_count": 59,
   "metadata": {},
   "outputs": [
    {
     "name": "stdout",
     "output_type": "stream",
     "text": [
      "Now : 2019-11-28 12:41:02.487702\n",
      "Todays date : 2019-11-28\n",
      "year: 2019\n",
      "month: 11\n",
      "day: Thursday\n",
      "day: 28\n",
      "hour: 12\n",
      "minute: 41\n",
      "second: 2\n"
     ]
    }
   ],
   "source": [
    "from datetime import datetime\n",
    "now = datetime.now()\n",
    "\n",
    "print('Now :',now)\n",
    "print('Todays date :',now.strftime('%Y-%m-%d'))\n",
    "print('year:', now.year)\n",
    "print('month:',now.month)\n",
    "print('day:',now.strftime(\"%A\"))\n",
    "print('day:',now.day)\n",
    "print('hour:',now.hour)\n",
    "print('minute:',now.minute)\n",
    "print('second:',now.second)"
   ]
  },
  {
   "cell_type": "code",
   "execution_count": null,
   "metadata": {},
   "outputs": [],
   "source": []
  },
  {
   "cell_type": "code",
   "execution_count": null,
   "metadata": {},
   "outputs": [],
   "source": []
  }
 ],
 "metadata": {
  "kernelspec": {
   "display_name": "Python 3",
   "language": "python",
   "name": "python3"
  },
  "language_info": {
   "codemirror_mode": {
    "name": "ipython",
    "version": 3
   },
   "file_extension": ".py",
   "mimetype": "text/x-python",
   "name": "python",
   "nbconvert_exporter": "python",
   "pygments_lexer": "ipython3",
   "version": "3.7.4"
  }
 },
 "nbformat": 4,
 "nbformat_minor": 2
}
