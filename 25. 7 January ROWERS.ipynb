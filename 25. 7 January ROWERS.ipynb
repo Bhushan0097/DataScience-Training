{
 "cells": [
  {
   "cell_type": "code",
   "execution_count": 1,
   "metadata": {},
   "outputs": [
    {
     "data": {
      "text/html": [
       "<div>\n",
       "<style scoped>\n",
       "    .dataframe tbody tr th:only-of-type {\n",
       "        vertical-align: middle;\n",
       "    }\n",
       "\n",
       "    .dataframe tbody tr th {\n",
       "        vertical-align: top;\n",
       "    }\n",
       "\n",
       "    .dataframe thead th {\n",
       "        text-align: right;\n",
       "    }\n",
       "</style>\n",
       "<table border=\"1\" class=\"dataframe\">\n",
       "  <thead>\n",
       "    <tr style=\"text-align: right;\">\n",
       "      <th></th>\n",
       "      <th>Income</th>\n",
       "      <th>Lot_Size</th>\n",
       "      <th>Response</th>\n",
       "    </tr>\n",
       "  </thead>\n",
       "  <tbody>\n",
       "    <tr>\n",
       "      <td>0</td>\n",
       "      <td>34</td>\n",
       "      <td>26</td>\n",
       "      <td>Not Bought</td>\n",
       "    </tr>\n",
       "    <tr>\n",
       "      <td>1</td>\n",
       "      <td>34</td>\n",
       "      <td>40</td>\n",
       "      <td>Not Bought</td>\n",
       "    </tr>\n",
       "    <tr>\n",
       "      <td>2</td>\n",
       "      <td>34</td>\n",
       "      <td>46</td>\n",
       "      <td>Not Bought</td>\n",
       "    </tr>\n",
       "    <tr>\n",
       "      <td>3</td>\n",
       "      <td>34</td>\n",
       "      <td>48</td>\n",
       "      <td>Not Bought</td>\n",
       "    </tr>\n",
       "    <tr>\n",
       "      <td>4</td>\n",
       "      <td>34</td>\n",
       "      <td>53</td>\n",
       "      <td>Not Bought</td>\n",
       "    </tr>\n",
       "    <tr>\n",
       "      <td>...</td>\n",
       "      <td>...</td>\n",
       "      <td>...</td>\n",
       "      <td>...</td>\n",
       "    </tr>\n",
       "    <tr>\n",
       "      <td>175</td>\n",
       "      <td>86</td>\n",
       "      <td>121</td>\n",
       "      <td>Bought</td>\n",
       "    </tr>\n",
       "    <tr>\n",
       "      <td>176</td>\n",
       "      <td>87</td>\n",
       "      <td>109</td>\n",
       "      <td>Bought</td>\n",
       "    </tr>\n",
       "    <tr>\n",
       "      <td>177</td>\n",
       "      <td>88</td>\n",
       "      <td>119</td>\n",
       "      <td>Bought</td>\n",
       "    </tr>\n",
       "    <tr>\n",
       "      <td>178</td>\n",
       "      <td>89</td>\n",
       "      <td>110</td>\n",
       "      <td>Bought</td>\n",
       "    </tr>\n",
       "    <tr>\n",
       "      <td>179</td>\n",
       "      <td>89</td>\n",
       "      <td>124</td>\n",
       "      <td>Bought</td>\n",
       "    </tr>\n",
       "  </tbody>\n",
       "</table>\n",
       "<p>180 rows × 3 columns</p>\n",
       "</div>"
      ],
      "text/plain": [
       "     Income  Lot_Size    Response\n",
       "0        34        26  Not Bought\n",
       "1        34        40  Not Bought\n",
       "2        34        46  Not Bought\n",
       "3        34        48  Not Bought\n",
       "4        34        53  Not Bought\n",
       "..      ...       ...         ...\n",
       "175      86       121      Bought\n",
       "176      87       109      Bought\n",
       "177      88       119      Bought\n",
       "178      89       110      Bought\n",
       "179      89       124      Bought\n",
       "\n",
       "[180 rows x 3 columns]"
      ]
     },
     "execution_count": 1,
     "metadata": {},
     "output_type": "execute_result"
    }
   ],
   "source": [
    "#RidingMowers.csv\n",
    "\n",
    "import numpy as np\n",
    "import matplotlib.pyplot as plt\n",
    "import pandas as pd\n",
    "import seaborn as sns\n",
    "\n",
    "rm = pd.read_csv('RidingMowers.csv')\n",
    "rm"
   ]
  },
  {
   "cell_type": "code",
   "execution_count": 2,
   "metadata": {},
   "outputs": [
    {
     "name": "stdout",
     "output_type": "stream",
     "text": [
      "Minimum value for Income :  34\n",
      "Max value for Income :  89\n"
     ]
    }
   ],
   "source": [
    "print('Minimum value for Income : ',min(rm['Income']))\n",
    "print('Max value for Income : ',max(rm['Income']))"
   ]
  },
  {
   "cell_type": "code",
   "execution_count": 3,
   "metadata": {},
   "outputs": [
    {
     "name": "stdout",
     "output_type": "stream",
     "text": [
      "Minimum value for Lot_Size : 20\n",
      "Max value for Lot_Size :  124\n"
     ]
    }
   ],
   "source": [
    "print('Minimum value for Lot_Size :' ,min(rm['Lot_Size']))\n",
    "print('Max value for Lot_Size : ',max(rm['Lot_Size']))"
   ]
  },
  {
   "cell_type": "code",
   "execution_count": 4,
   "metadata": {},
   "outputs": [],
   "source": [
    "def max_(x):\n",
    "    Xn = (x-min(rm['Income']))/(max(rm['Income'])- min(rm['Income']) )\n",
    "   # print(Xn)\n",
    "    return Xn\n",
    "    \n",
    "max_Income = []    \n",
    "\n",
    "for x in rm['Income']:\n",
    "   # print(x)\n",
    "    max_(x)\n",
    "    max_Income.append(max_(x))"
   ]
  },
  {
   "cell_type": "code",
   "execution_count": 5,
   "metadata": {},
   "outputs": [
    {
     "name": "stdout",
     "output_type": "stream",
     "text": [
      "[0.0, 0.0, 0.0, 0.0, 0.0, 0.0, 0.0, 0.0, 0.0, 0.0, 0.01818181818181818, 0.01818181818181818, 0.01818181818181818, 0.03636363636363636, 0.03636363636363636, 0.05454545454545454, 0.05454545454545454, 0.05454545454545454, 0.05454545454545454, 0.05454545454545454, 0.05454545454545454, 0.05454545454545454, 0.05454545454545454, 0.07272727272727272, 0.07272727272727272, 0.07272727272727272, 0.07272727272727272, 0.07272727272727272, 0.09090909090909091, 0.09090909090909091, 0.10909090909090909, 0.10909090909090909, 0.12727272727272726, 0.14545454545454545, 0.14545454545454545, 0.14545454545454545, 0.14545454545454545, 0.14545454545454545, 0.14545454545454545, 0.14545454545454545, 0.14545454545454545, 0.16363636363636364, 0.18181818181818182, 0.18181818181818182, 0.18181818181818182, 0.18181818181818182, 0.2, 0.2, 0.2, 0.21818181818181817, 0.21818181818181817, 0.23636363636363636, 0.23636363636363636, 0.23636363636363636, 0.23636363636363636, 0.23636363636363636, 0.2545454545454545, 0.2545454545454545, 0.2545454545454545, 0.2545454545454545, 0.2545454545454545, 0.2545454545454545, 0.2545454545454545, 0.2727272727272727, 0.2727272727272727, 0.2727272727272727, 0.2727272727272727, 0.2909090909090909, 0.2909090909090909, 0.2909090909090909, 0.2909090909090909, 0.3090909090909091, 0.3090909090909091, 0.32727272727272727, 0.32727272727272727, 0.32727272727272727, 0.34545454545454546, 0.34545454545454546, 0.36363636363636365, 0.36363636363636365, 0.36363636363636365, 0.38181818181818183, 0.38181818181818183, 0.38181818181818183, 0.38181818181818183, 0.38181818181818183, 0.38181818181818183, 0.4, 0.4, 0.4, 0.4, 0.4, 0.4, 0.41818181818181815, 0.41818181818181815, 0.41818181818181815, 0.41818181818181815, 0.41818181818181815, 0.45454545454545453, 0.45454545454545453, 0.45454545454545453, 0.45454545454545453, 0.45454545454545453, 0.4727272727272727, 0.4727272727272727, 0.4727272727272727, 0.4909090909090909, 0.5636363636363636, 0.5636363636363636, 0.5818181818181818, 0.5818181818181818, 0.5818181818181818, 0.5818181818181818, 0.5818181818181818, 0.6, 0.6, 0.6, 0.6181818181818182, 0.6363636363636364, 0.6363636363636364, 0.6363636363636364, 0.6363636363636364, 0.6363636363636364, 0.6545454545454545, 0.6545454545454545, 0.6545454545454545, 0.6545454545454545, 0.6727272727272727, 0.6727272727272727, 0.6909090909090909, 0.6909090909090909, 0.6909090909090909, 0.6909090909090909, 0.7090909090909091, 0.7090909090909091, 0.7090909090909091, 0.7090909090909091, 0.7090909090909091, 0.7090909090909091, 0.7272727272727273, 0.7272727272727273, 0.7272727272727273, 0.7454545454545455, 0.7454545454545455, 0.7636363636363637, 0.7636363636363637, 0.7818181818181819, 0.7818181818181819, 0.8, 0.8, 0.8, 0.8, 0.8181818181818182, 0.8181818181818182, 0.8181818181818182, 0.8181818181818182, 0.8363636363636363, 0.8363636363636363, 0.8363636363636363, 0.8727272727272727, 0.8727272727272727, 0.8727272727272727, 0.8727272727272727, 0.8909090909090909, 0.8909090909090909, 0.8909090909090909, 0.8909090909090909, 0.9090909090909091, 0.9090909090909091, 0.9090909090909091, 0.9272727272727272, 0.9272727272727272, 0.9272727272727272, 0.9272727272727272, 0.9454545454545454, 0.9454545454545454, 0.9636363636363636, 0.9818181818181818, 1.0, 1.0]\n"
     ]
    }
   ],
   "source": [
    "print(max_Income)"
   ]
  },
  {
   "cell_type": "code",
   "execution_count": 6,
   "metadata": {},
   "outputs": [],
   "source": [
    "rm['min/max_Income'] = pd.Series(max_Income)"
   ]
  },
  {
   "cell_type": "code",
   "execution_count": 7,
   "metadata": {},
   "outputs": [
    {
     "data": {
      "text/html": [
       "<div>\n",
       "<style scoped>\n",
       "    .dataframe tbody tr th:only-of-type {\n",
       "        vertical-align: middle;\n",
       "    }\n",
       "\n",
       "    .dataframe tbody tr th {\n",
       "        vertical-align: top;\n",
       "    }\n",
       "\n",
       "    .dataframe thead th {\n",
       "        text-align: right;\n",
       "    }\n",
       "</style>\n",
       "<table border=\"1\" class=\"dataframe\">\n",
       "  <thead>\n",
       "    <tr style=\"text-align: right;\">\n",
       "      <th></th>\n",
       "      <th>Income</th>\n",
       "      <th>Lot_Size</th>\n",
       "      <th>Response</th>\n",
       "      <th>min/max_Income</th>\n",
       "    </tr>\n",
       "  </thead>\n",
       "  <tbody>\n",
       "    <tr>\n",
       "      <td>0</td>\n",
       "      <td>34</td>\n",
       "      <td>26</td>\n",
       "      <td>Not Bought</td>\n",
       "      <td>0.000000</td>\n",
       "    </tr>\n",
       "    <tr>\n",
       "      <td>1</td>\n",
       "      <td>34</td>\n",
       "      <td>40</td>\n",
       "      <td>Not Bought</td>\n",
       "      <td>0.000000</td>\n",
       "    </tr>\n",
       "    <tr>\n",
       "      <td>2</td>\n",
       "      <td>34</td>\n",
       "      <td>46</td>\n",
       "      <td>Not Bought</td>\n",
       "      <td>0.000000</td>\n",
       "    </tr>\n",
       "    <tr>\n",
       "      <td>3</td>\n",
       "      <td>34</td>\n",
       "      <td>48</td>\n",
       "      <td>Not Bought</td>\n",
       "      <td>0.000000</td>\n",
       "    </tr>\n",
       "    <tr>\n",
       "      <td>4</td>\n",
       "      <td>34</td>\n",
       "      <td>53</td>\n",
       "      <td>Not Bought</td>\n",
       "      <td>0.000000</td>\n",
       "    </tr>\n",
       "    <tr>\n",
       "      <td>...</td>\n",
       "      <td>...</td>\n",
       "      <td>...</td>\n",
       "      <td>...</td>\n",
       "      <td>...</td>\n",
       "    </tr>\n",
       "    <tr>\n",
       "      <td>175</td>\n",
       "      <td>86</td>\n",
       "      <td>121</td>\n",
       "      <td>Bought</td>\n",
       "      <td>0.945455</td>\n",
       "    </tr>\n",
       "    <tr>\n",
       "      <td>176</td>\n",
       "      <td>87</td>\n",
       "      <td>109</td>\n",
       "      <td>Bought</td>\n",
       "      <td>0.963636</td>\n",
       "    </tr>\n",
       "    <tr>\n",
       "      <td>177</td>\n",
       "      <td>88</td>\n",
       "      <td>119</td>\n",
       "      <td>Bought</td>\n",
       "      <td>0.981818</td>\n",
       "    </tr>\n",
       "    <tr>\n",
       "      <td>178</td>\n",
       "      <td>89</td>\n",
       "      <td>110</td>\n",
       "      <td>Bought</td>\n",
       "      <td>1.000000</td>\n",
       "    </tr>\n",
       "    <tr>\n",
       "      <td>179</td>\n",
       "      <td>89</td>\n",
       "      <td>124</td>\n",
       "      <td>Bought</td>\n",
       "      <td>1.000000</td>\n",
       "    </tr>\n",
       "  </tbody>\n",
       "</table>\n",
       "<p>180 rows × 4 columns</p>\n",
       "</div>"
      ],
      "text/plain": [
       "     Income  Lot_Size    Response  min/max_Income\n",
       "0        34        26  Not Bought        0.000000\n",
       "1        34        40  Not Bought        0.000000\n",
       "2        34        46  Not Bought        0.000000\n",
       "3        34        48  Not Bought        0.000000\n",
       "4        34        53  Not Bought        0.000000\n",
       "..      ...       ...         ...             ...\n",
       "175      86       121      Bought        0.945455\n",
       "176      87       109      Bought        0.963636\n",
       "177      88       119      Bought        0.981818\n",
       "178      89       110      Bought        1.000000\n",
       "179      89       124      Bought        1.000000\n",
       "\n",
       "[180 rows x 4 columns]"
      ]
     },
     "execution_count": 7,
     "metadata": {},
     "output_type": "execute_result"
    }
   ],
   "source": [
    "rm"
   ]
  },
  {
   "cell_type": "code",
   "execution_count": 8,
   "metadata": {},
   "outputs": [],
   "source": [
    "def max_(x):\n",
    "    Xn = (x-min(rm['Lot_Size']))/(max(rm['Lot_Size'])- min(rm['Lot_Size']) )\n",
    "   # print(Xn)\n",
    "    return Xn\n",
    "    \n",
    "max_Lot_Size = []    \n",
    "\n",
    "for x in rm['Lot_Size']:\n",
    "   # print(x)\n",
    "    max_(x)\n",
    "    max_Lot_Size.append(max_(x))"
   ]
  },
  {
   "cell_type": "code",
   "execution_count": 9,
   "metadata": {},
   "outputs": [],
   "source": [
    "rm['min/max_Lot_Size'] = pd.Series(max_Lot_Size)"
   ]
  },
  {
   "cell_type": "code",
   "execution_count": 10,
   "metadata": {},
   "outputs": [
    {
     "data": {
      "text/html": [
       "<div>\n",
       "<style scoped>\n",
       "    .dataframe tbody tr th:only-of-type {\n",
       "        vertical-align: middle;\n",
       "    }\n",
       "\n",
       "    .dataframe tbody tr th {\n",
       "        vertical-align: top;\n",
       "    }\n",
       "\n",
       "    .dataframe thead th {\n",
       "        text-align: right;\n",
       "    }\n",
       "</style>\n",
       "<table border=\"1\" class=\"dataframe\">\n",
       "  <thead>\n",
       "    <tr style=\"text-align: right;\">\n",
       "      <th></th>\n",
       "      <th>Income</th>\n",
       "      <th>Lot_Size</th>\n",
       "      <th>Response</th>\n",
       "      <th>min/max_Income</th>\n",
       "      <th>min/max_Lot_Size</th>\n",
       "    </tr>\n",
       "  </thead>\n",
       "  <tbody>\n",
       "    <tr>\n",
       "      <td>0</td>\n",
       "      <td>34</td>\n",
       "      <td>26</td>\n",
       "      <td>Not Bought</td>\n",
       "      <td>0.000000</td>\n",
       "      <td>0.057692</td>\n",
       "    </tr>\n",
       "    <tr>\n",
       "      <td>1</td>\n",
       "      <td>34</td>\n",
       "      <td>40</td>\n",
       "      <td>Not Bought</td>\n",
       "      <td>0.000000</td>\n",
       "      <td>0.192308</td>\n",
       "    </tr>\n",
       "    <tr>\n",
       "      <td>2</td>\n",
       "      <td>34</td>\n",
       "      <td>46</td>\n",
       "      <td>Not Bought</td>\n",
       "      <td>0.000000</td>\n",
       "      <td>0.250000</td>\n",
       "    </tr>\n",
       "    <tr>\n",
       "      <td>3</td>\n",
       "      <td>34</td>\n",
       "      <td>48</td>\n",
       "      <td>Not Bought</td>\n",
       "      <td>0.000000</td>\n",
       "      <td>0.269231</td>\n",
       "    </tr>\n",
       "    <tr>\n",
       "      <td>4</td>\n",
       "      <td>34</td>\n",
       "      <td>53</td>\n",
       "      <td>Not Bought</td>\n",
       "      <td>0.000000</td>\n",
       "      <td>0.317308</td>\n",
       "    </tr>\n",
       "    <tr>\n",
       "      <td>...</td>\n",
       "      <td>...</td>\n",
       "      <td>...</td>\n",
       "      <td>...</td>\n",
       "      <td>...</td>\n",
       "      <td>...</td>\n",
       "    </tr>\n",
       "    <tr>\n",
       "      <td>175</td>\n",
       "      <td>86</td>\n",
       "      <td>121</td>\n",
       "      <td>Bought</td>\n",
       "      <td>0.945455</td>\n",
       "      <td>0.971154</td>\n",
       "    </tr>\n",
       "    <tr>\n",
       "      <td>176</td>\n",
       "      <td>87</td>\n",
       "      <td>109</td>\n",
       "      <td>Bought</td>\n",
       "      <td>0.963636</td>\n",
       "      <td>0.855769</td>\n",
       "    </tr>\n",
       "    <tr>\n",
       "      <td>177</td>\n",
       "      <td>88</td>\n",
       "      <td>119</td>\n",
       "      <td>Bought</td>\n",
       "      <td>0.981818</td>\n",
       "      <td>0.951923</td>\n",
       "    </tr>\n",
       "    <tr>\n",
       "      <td>178</td>\n",
       "      <td>89</td>\n",
       "      <td>110</td>\n",
       "      <td>Bought</td>\n",
       "      <td>1.000000</td>\n",
       "      <td>0.865385</td>\n",
       "    </tr>\n",
       "    <tr>\n",
       "      <td>179</td>\n",
       "      <td>89</td>\n",
       "      <td>124</td>\n",
       "      <td>Bought</td>\n",
       "      <td>1.000000</td>\n",
       "      <td>1.000000</td>\n",
       "    </tr>\n",
       "  </tbody>\n",
       "</table>\n",
       "<p>180 rows × 5 columns</p>\n",
       "</div>"
      ],
      "text/plain": [
       "     Income  Lot_Size    Response  min/max_Income  min/max_Lot_Size\n",
       "0        34        26  Not Bought        0.000000          0.057692\n",
       "1        34        40  Not Bought        0.000000          0.192308\n",
       "2        34        46  Not Bought        0.000000          0.250000\n",
       "3        34        48  Not Bought        0.000000          0.269231\n",
       "4        34        53  Not Bought        0.000000          0.317308\n",
       "..      ...       ...         ...             ...               ...\n",
       "175      86       121      Bought        0.945455          0.971154\n",
       "176      87       109      Bought        0.963636          0.855769\n",
       "177      88       119      Bought        0.981818          0.951923\n",
       "178      89       110      Bought        1.000000          0.865385\n",
       "179      89       124      Bought        1.000000          1.000000\n",
       "\n",
       "[180 rows x 5 columns]"
      ]
     },
     "execution_count": 10,
     "metadata": {},
     "output_type": "execute_result"
    }
   ],
   "source": [
    "rm"
   ]
  },
  {
   "cell_type": "code",
   "execution_count": 11,
   "metadata": {},
   "outputs": [
    {
     "name": "stdout",
     "output_type": "stream",
     "text": [
      "<class 'pandas.core.frame.DataFrame'>\n",
      "RangeIndex: 180 entries, 0 to 179\n",
      "Data columns (total 5 columns):\n",
      "Income              180 non-null int64\n",
      "Lot_Size            180 non-null int64\n",
      "Response            180 non-null object\n",
      "min/max_Income      180 non-null float64\n",
      "min/max_Lot_Size    180 non-null float64\n",
      "dtypes: float64(2), int64(2), object(1)\n",
      "memory usage: 7.2+ KB\n"
     ]
    }
   ],
   "source": [
    "rm.info()"
   ]
  },
  {
   "cell_type": "code",
   "execution_count": 12,
   "metadata": {},
   "outputs": [
    {
     "data": {
      "text/html": [
       "<div>\n",
       "<style scoped>\n",
       "    .dataframe tbody tr th:only-of-type {\n",
       "        vertical-align: middle;\n",
       "    }\n",
       "\n",
       "    .dataframe tbody tr th {\n",
       "        vertical-align: top;\n",
       "    }\n",
       "\n",
       "    .dataframe thead th {\n",
       "        text-align: right;\n",
       "    }\n",
       "</style>\n",
       "<table border=\"1\" class=\"dataframe\">\n",
       "  <thead>\n",
       "    <tr style=\"text-align: right;\">\n",
       "      <th></th>\n",
       "      <th>Income</th>\n",
       "      <th>Lot_Size</th>\n",
       "      <th>min/max_Income</th>\n",
       "      <th>min/max_Lot_Size</th>\n",
       "    </tr>\n",
       "  </thead>\n",
       "  <tbody>\n",
       "    <tr>\n",
       "      <td>count</td>\n",
       "      <td>180.000000</td>\n",
       "      <td>180.000000</td>\n",
       "      <td>180.000000</td>\n",
       "      <td>180.000000</td>\n",
       "    </tr>\n",
       "    <tr>\n",
       "      <td>mean</td>\n",
       "      <td>58.383333</td>\n",
       "      <td>69.361111</td>\n",
       "      <td>0.443333</td>\n",
       "      <td>0.474626</td>\n",
       "    </tr>\n",
       "    <tr>\n",
       "      <td>std</td>\n",
       "      <td>16.469126</td>\n",
       "      <td>29.641200</td>\n",
       "      <td>0.299439</td>\n",
       "      <td>0.285012</td>\n",
       "    </tr>\n",
       "    <tr>\n",
       "      <td>min</td>\n",
       "      <td>34.000000</td>\n",
       "      <td>20.000000</td>\n",
       "      <td>0.000000</td>\n",
       "      <td>0.000000</td>\n",
       "    </tr>\n",
       "    <tr>\n",
       "      <td>25%</td>\n",
       "      <td>44.000000</td>\n",
       "      <td>42.750000</td>\n",
       "      <td>0.181818</td>\n",
       "      <td>0.218750</td>\n",
       "    </tr>\n",
       "    <tr>\n",
       "      <td>50%</td>\n",
       "      <td>56.000000</td>\n",
       "      <td>69.000000</td>\n",
       "      <td>0.400000</td>\n",
       "      <td>0.471154</td>\n",
       "    </tr>\n",
       "    <tr>\n",
       "      <td>75%</td>\n",
       "      <td>73.000000</td>\n",
       "      <td>93.750000</td>\n",
       "      <td>0.709091</td>\n",
       "      <td>0.709135</td>\n",
       "    </tr>\n",
       "    <tr>\n",
       "      <td>max</td>\n",
       "      <td>89.000000</td>\n",
       "      <td>124.000000</td>\n",
       "      <td>1.000000</td>\n",
       "      <td>1.000000</td>\n",
       "    </tr>\n",
       "  </tbody>\n",
       "</table>\n",
       "</div>"
      ],
      "text/plain": [
       "           Income    Lot_Size  min/max_Income  min/max_Lot_Size\n",
       "count  180.000000  180.000000      180.000000        180.000000\n",
       "mean    58.383333   69.361111        0.443333          0.474626\n",
       "std     16.469126   29.641200        0.299439          0.285012\n",
       "min     34.000000   20.000000        0.000000          0.000000\n",
       "25%     44.000000   42.750000        0.181818          0.218750\n",
       "50%     56.000000   69.000000        0.400000          0.471154\n",
       "75%     73.000000   93.750000        0.709091          0.709135\n",
       "max     89.000000  124.000000        1.000000          1.000000"
      ]
     },
     "execution_count": 12,
     "metadata": {},
     "output_type": "execute_result"
    }
   ],
   "source": [
    "rm.describe()"
   ]
  },
  {
   "cell_type": "code",
   "execution_count": 13,
   "metadata": {},
   "outputs": [
    {
     "name": "stdout",
     "output_type": "stream",
     "text": [
      "   min/max_Income  min/max_Lot_Size\n",
      "0             0.0          0.057692\n",
      "1             0.0          0.192308\n",
      "2             0.0          0.250000\n",
      "3             0.0          0.269231\n",
      "4             0.0          0.317308\n",
      "     Response\n",
      "0  Not Bought\n",
      "1  Not Bought\n",
      "2  Not Bought\n",
      "3  Not Bought\n",
      "4  Not Bought\n"
     ]
    }
   ],
   "source": [
    "X = rm[['min/max_Income','min/max_Lot_Size']]\n",
    "y = pd.DataFrame(rm['Response'])\n",
    "print(X.head())\n",
    "print(y.head())"
   ]
  },
  {
   "cell_type": "code",
   "execution_count": 14,
   "metadata": {},
   "outputs": [],
   "source": [
    "from sklearn import linear_model\n",
    "from sklearn import datasets\n",
    "from sklearn.model_selection import train_test_split\n",
    "\n",
    "X_train, X_test, y_train, y_test = train_test_split(X,y,test_size = 0.2,random_state = 100)"
   ]
  },
  {
   "cell_type": "code",
   "execution_count": 15,
   "metadata": {},
   "outputs": [
    {
     "name": "stderr",
     "output_type": "stream",
     "text": [
      "C:\\Users\\Asus 1\\Anaconda3\\lib\\site-packages\\ipykernel_launcher.py:4: DataConversionWarning: A column-vector y was passed when a 1d array was expected. Please change the shape of y to (n_samples, ), for example using ravel().\n",
      "  after removing the cwd from sys.path.\n"
     ]
    },
    {
     "data": {
      "text/plain": [
       "KNeighborsClassifier(algorithm='auto', leaf_size=30, metric='minkowski',\n",
       "                     metric_params=None, n_jobs=None, n_neighbors=5, p=2,\n",
       "                     weights='uniform')"
      ]
     },
     "execution_count": 15,
     "metadata": {},
     "output_type": "execute_result"
    }
   ],
   "source": [
    "from sklearn.neighbors import KNeighborsClassifier\n",
    "\n",
    "classifier = KNeighborsClassifier(n_neighbors=5)\n",
    "classifier.fit(X_train,y_train)"
   ]
  },
  {
   "cell_type": "code",
   "execution_count": 16,
   "metadata": {},
   "outputs": [],
   "source": [
    "#make prediction for test data\n",
    "y_pred = classifier.predict(X_test)"
   ]
  },
  {
   "cell_type": "code",
   "execution_count": 17,
   "metadata": {},
   "outputs": [
    {
     "name": "stdout",
     "output_type": "stream",
     "text": [
      "[[15  0]\n",
      " [ 0 21]]\n",
      "Test Accuracy :1.000000\n"
     ]
    }
   ],
   "source": [
    "#Evaluation\n",
    "\n",
    "from sklearn.metrics import classification_report, confusion_matrix\n",
    "print(confusion_matrix(y_test, y_pred))\n",
    "\n",
    "from sklearn.metrics import accuracy_score\n",
    "accur = accuracy_score(y_test, y_pred)\n",
    "print('Test Accuracy :{:.6f}'.format(accur))"
   ]
  },
  {
   "cell_type": "code",
   "execution_count": 18,
   "metadata": {},
   "outputs": [
    {
     "data": {
      "text/html": [
       "<div>\n",
       "<style scoped>\n",
       "    .dataframe tbody tr th:only-of-type {\n",
       "        vertical-align: middle;\n",
       "    }\n",
       "\n",
       "    .dataframe tbody tr th {\n",
       "        vertical-align: top;\n",
       "    }\n",
       "\n",
       "    .dataframe thead th {\n",
       "        text-align: right;\n",
       "    }\n",
       "</style>\n",
       "<table border=\"1\" class=\"dataframe\">\n",
       "  <thead>\n",
       "    <tr style=\"text-align: right;\">\n",
       "      <th></th>\n",
       "      <th>Income</th>\n",
       "      <th>Lot_Size</th>\n",
       "      <th>Response</th>\n",
       "    </tr>\n",
       "  </thead>\n",
       "  <tbody>\n",
       "    <tr>\n",
       "      <td>0</td>\n",
       "      <td>34</td>\n",
       "      <td>26</td>\n",
       "      <td>Not Bought</td>\n",
       "    </tr>\n",
       "    <tr>\n",
       "      <td>1</td>\n",
       "      <td>34</td>\n",
       "      <td>40</td>\n",
       "      <td>Not Bought</td>\n",
       "    </tr>\n",
       "    <tr>\n",
       "      <td>2</td>\n",
       "      <td>34</td>\n",
       "      <td>46</td>\n",
       "      <td>Not Bought</td>\n",
       "    </tr>\n",
       "    <tr>\n",
       "      <td>3</td>\n",
       "      <td>34</td>\n",
       "      <td>48</td>\n",
       "      <td>Not Bought</td>\n",
       "    </tr>\n",
       "    <tr>\n",
       "      <td>4</td>\n",
       "      <td>34</td>\n",
       "      <td>53</td>\n",
       "      <td>Not Bought</td>\n",
       "    </tr>\n",
       "    <tr>\n",
       "      <td>...</td>\n",
       "      <td>...</td>\n",
       "      <td>...</td>\n",
       "      <td>...</td>\n",
       "    </tr>\n",
       "    <tr>\n",
       "      <td>175</td>\n",
       "      <td>86</td>\n",
       "      <td>121</td>\n",
       "      <td>Bought</td>\n",
       "    </tr>\n",
       "    <tr>\n",
       "      <td>176</td>\n",
       "      <td>87</td>\n",
       "      <td>109</td>\n",
       "      <td>Bought</td>\n",
       "    </tr>\n",
       "    <tr>\n",
       "      <td>177</td>\n",
       "      <td>88</td>\n",
       "      <td>119</td>\n",
       "      <td>Bought</td>\n",
       "    </tr>\n",
       "    <tr>\n",
       "      <td>178</td>\n",
       "      <td>89</td>\n",
       "      <td>110</td>\n",
       "      <td>Bought</td>\n",
       "    </tr>\n",
       "    <tr>\n",
       "      <td>179</td>\n",
       "      <td>89</td>\n",
       "      <td>124</td>\n",
       "      <td>Bought</td>\n",
       "    </tr>\n",
       "  </tbody>\n",
       "</table>\n",
       "<p>180 rows × 3 columns</p>\n",
       "</div>"
      ],
      "text/plain": [
       "     Income  Lot_Size    Response\n",
       "0        34        26  Not Bought\n",
       "1        34        40  Not Bought\n",
       "2        34        46  Not Bought\n",
       "3        34        48  Not Bought\n",
       "4        34        53  Not Bought\n",
       "..      ...       ...         ...\n",
       "175      86       121      Bought\n",
       "176      87       109      Bought\n",
       "177      88       119      Bought\n",
       "178      89       110      Bought\n",
       "179      89       124      Bought\n",
       "\n",
       "[180 rows x 3 columns]"
      ]
     },
     "execution_count": 18,
     "metadata": {},
     "output_type": "execute_result"
    }
   ],
   "source": [
    "#RidingMowers.csv\n",
    "\n",
    "import numpy as np\n",
    "import matplotlib.pyplot as plt\n",
    "import pandas as pd\n",
    "import seaborn as sns\n",
    "\n",
    "rm = pd.read_csv('RidingMowers.csv')\n",
    "rm"
   ]
  },
  {
   "cell_type": "code",
   "execution_count": 19,
   "metadata": {},
   "outputs": [
    {
     "name": "stdout",
     "output_type": "stream",
     "text": [
      "   Income  Lot_Size\n",
      "0      34        26\n",
      "1      34        40\n",
      "2      34        46\n",
      "3      34        48\n",
      "4      34        53\n",
      "     Response\n",
      "0  Not Bought\n",
      "1  Not Bought\n",
      "2  Not Bought\n",
      "3  Not Bought\n",
      "4  Not Bought\n"
     ]
    }
   ],
   "source": [
    "X = rm[['Income','Lot_Size']]\n",
    "y = pd.DataFrame(rm['Response'])\n",
    "print(X.head())\n",
    "print(y.head())"
   ]
  },
  {
   "cell_type": "code",
   "execution_count": 20,
   "metadata": {},
   "outputs": [],
   "source": [
    "from sklearn import linear_model\n",
    "from sklearn import datasets\n",
    "from sklearn.model_selection import train_test_split\n",
    "\n",
    "X_train, X_test, y_train, y_test = train_test_split(X,y,test_size = 0.30,random_state = 100)"
   ]
  },
  {
   "cell_type": "code",
   "execution_count": 21,
   "metadata": {},
   "outputs": [],
   "source": [
    "##New_SOLUTION\n",
    "from sklearn.preprocessing import MinMaxScaler\n",
    "mms = MinMaxScaler()"
   ]
  },
  {
   "cell_type": "code",
   "execution_count": 22,
   "metadata": {},
   "outputs": [],
   "source": [
    "x_train_norm = mms.fit_transform(X_train)\n",
    "x_test_norm = mms.transform(X_test)"
   ]
  },
  {
   "cell_type": "code",
   "execution_count": 23,
   "metadata": {},
   "outputs": [
    {
     "name": "stdout",
     "output_type": "stream",
     "text": [
      "[[0.81818182 0.80769231]\n",
      " [0.72727273 0.75      ]\n",
      " [0.01818182 0.44230769]\n",
      " [0.05454545 0.18269231]\n",
      " [0.61818182 0.68269231]\n",
      " [0.38181818 0.        ]\n",
      " [0.32727273 0.09615385]\n",
      " [0.58181818 0.74038462]\n",
      " [0.18181818 0.40384615]\n",
      " [0.65454545 0.61538462]\n",
      " [0.38181818 0.46153846]\n",
      " [0.89090909 1.        ]\n",
      " [0.67272727 0.55769231]\n",
      " [0.23636364 0.15384615]\n",
      " [0.14545455 0.44230769]\n",
      " [0.4        0.17307692]\n",
      " [0.14545455 0.22115385]\n",
      " [0.         0.375     ]\n",
      " [0.23636364 0.29807692]\n",
      " [0.07272727 0.43269231]\n",
      " [0.05454545 0.39423077]\n",
      " [0.45454545 0.49038462]\n",
      " [0.         0.44230769]\n",
      " [0.07272727 0.08653846]\n",
      " [0.14545455 0.16346154]\n",
      " [0.38181818 0.15384615]\n",
      " [0.65454545 0.55769231]\n",
      " [0.25454545 0.50961538]\n",
      " [0.65454545 0.56730769]\n",
      " [0.63636364 0.57692308]\n",
      " [0.05454545 0.27884615]\n",
      " [0.23636364 0.56730769]\n",
      " [0.6        0.91346154]\n",
      " [0.05454545 0.53846154]\n",
      " [0.87272727 0.60576923]\n",
      " [0.87272727 0.80769231]\n",
      " [0.14545455 0.05769231]\n",
      " [0.70909091 0.81730769]\n",
      " [0.83636364 0.52884615]\n",
      " [0.18181818 0.10576923]\n",
      " [0.92727273 0.93269231]\n",
      " [0.83636364 0.76923077]\n",
      " [0.70909091 0.5       ]\n",
      " [0.30909091 0.03846154]\n",
      " [0.         0.36538462]\n",
      " [0.14545455 0.18269231]\n",
      " [0.18181818 0.20192308]\n",
      " [0.23636364 0.24038462]\n",
      " [0.2        0.36538462]\n",
      " [0.70909091 0.55769231]\n",
      " [0.89090909 0.50961538]\n",
      " [0.94545455 0.97115385]\n",
      " [0.01818182 0.20192308]\n",
      " [0.94545455 0.84615385]\n",
      " [0.38181818 0.375     ]\n",
      " [0.58181818 0.80769231]\n",
      " [0.29090909 0.38461538]\n",
      " [0.         0.26923077]\n",
      " [0.67272727 0.92307692]\n",
      " [0.34545455 0.47115385]\n",
      " [0.25454545 0.03846154]\n",
      " [0.81818182 0.80769231]\n",
      " [0.         0.05769231]\n",
      " [0.36363636 0.14423077]\n",
      " [0.65454545 0.60576923]\n",
      " [0.38181818 0.18269231]\n",
      " [0.81818182 0.61538462]\n",
      " [0.8        0.58653846]\n",
      " [0.47272727 0.14423077]\n",
      " [0.21818182 0.41346154]\n",
      " [0.29090909 0.05769231]\n",
      " [0.92727273 0.48076923]\n",
      " [0.69090909 0.92307692]\n",
      " [0.10909091 0.39423077]\n",
      " [0.49090909 0.14423077]\n",
      " [0.03636364 0.18269231]\n",
      " [0.30909091 0.08653846]\n",
      " [0.05454545 0.21153846]\n",
      " [0.05454545 0.25      ]\n",
      " [0.14545455 0.33653846]\n",
      " [0.58181818 0.48076923]\n",
      " [0.2        0.24038462]\n",
      " [0.58181818 1.        ]\n",
      " [0.25454545 0.01923077]\n",
      " [0.07272727 0.56730769]\n",
      " [0.27272727 0.09615385]\n",
      " [0.47272727 0.5       ]\n",
      " [0.63636364 0.97115385]\n",
      " [0.         0.25      ]\n",
      " [0.36363636 0.33653846]\n",
      " [0.90909091 0.70192308]\n",
      " [0.25454545 0.50961538]\n",
      " [0.21818182 0.00961538]\n",
      " [0.70909091 0.78846154]\n",
      " [0.98181818 0.95192308]\n",
      " [0.4        0.47115385]\n",
      " [0.         0.31730769]\n",
      " [0.45454545 0.44230769]\n",
      " [0.72727273 0.82692308]\n",
      " [0.69090909 0.65384615]\n",
      " [0.69090909 0.94230769]\n",
      " [0.56363636 0.74038462]\n",
      " [0.81818182 0.84615385]\n",
      " [0.69090909 0.92307692]\n",
      " [0.38181818 0.54807692]\n",
      " [0.41818182 0.14423077]\n",
      " [0.70909091 0.875     ]\n",
      " [0.76363636 0.875     ]\n",
      " [0.25454545 0.05769231]\n",
      " [0.25454545 0.44230769]\n",
      " [0.56363636 0.52884615]\n",
      " [0.74545455 0.90384615]\n",
      " [1.         0.86538462]\n",
      " [0.14545455 0.10576923]\n",
      " [0.03636364 0.39423077]\n",
      " [0.27272727 0.19230769]\n",
      " [0.23636364 0.28846154]\n",
      " [0.45454545 0.25      ]\n",
      " [0.41818182 0.18269231]\n",
      " [0.70909091 1.        ]\n",
      " [0.36363636 0.15384615]\n",
      " [0.4        0.07692308]\n",
      " [0.47272727 0.01923077]\n",
      " [0.29090909 0.01923077]\n",
      " [0.07272727 0.20192308]\n",
      " [0.         0.42307692]]\n",
      "[[0.4        0.11538462]\n",
      " [0.76363636 0.90384615]\n",
      " [0.01818182 0.23076923]\n",
      " [0.32727273 0.29807692]\n",
      " [0.92727273 0.96153846]\n",
      " [0.8        0.77884615]\n",
      " [0.8        0.875     ]\n",
      " [0.41818182 0.55769231]\n",
      " [0.4        0.23076923]\n",
      " [0.41818182 0.53846154]\n",
      " [0.78181818 0.97115385]\n",
      " [0.27272727 0.16346154]\n",
      " [0.72727273 0.54807692]\n",
      " [0.90909091 0.63461538]\n",
      " [0.45454545 0.36538462]\n",
      " [0.05454545 0.06730769]\n",
      " [0.78181818 0.73076923]\n",
      " [0.         0.41346154]\n",
      " [0.34545455 0.5       ]\n",
      " [0.16363636 0.54807692]\n",
      " [0.45454545 0.47115385]\n",
      " [0.12727273 0.32692308]\n",
      " [0.63636364 0.65384615]\n",
      " [0.4        0.56730769]\n",
      " [0.14545455 0.55769231]\n",
      " [0.         0.19230769]\n",
      " [0.32727273 0.56730769]\n",
      " [0.6        0.74038462]\n",
      " [0.27272727 0.15384615]\n",
      " [0.87272727 0.79807692]\n",
      " [0.8        0.55769231]\n",
      " [0.29090909 0.09615385]\n",
      " [0.07272727 0.50961538]\n",
      " [0.92727273 0.52884615]\n",
      " [0.6        0.51923077]\n",
      " [0.74545455 0.75      ]\n",
      " [0.89090909 0.55769231]\n",
      " [0.63636364 0.91346154]\n",
      " [0.41818182 0.39423077]\n",
      " [0.89090909 0.65384615]\n",
      " [0.09090909 0.31730769]\n",
      " [0.83636364 0.61538462]\n",
      " [0.87272727 0.78846154]\n",
      " [0.90909091 0.83653846]\n",
      " [0.2        0.13461538]\n",
      " [0.63636364 0.98076923]\n",
      " [1.         1.        ]\n",
      " [0.58181818 0.83653846]\n",
      " [0.05454545 0.29807692]\n",
      " [0.10909091 0.44230769]\n",
      " [0.09090909 0.30769231]\n",
      " [0.96363636 0.85576923]\n",
      " [0.18181818 0.26923077]\n",
      " [0.25454545 0.09615385]]\n"
     ]
    }
   ],
   "source": [
    "print(x_train_norm )\n",
    "print(x_test_norm )"
   ]
  },
  {
   "cell_type": "code",
   "execution_count": 24,
   "metadata": {},
   "outputs": [
    {
     "name": "stderr",
     "output_type": "stream",
     "text": [
      "C:\\Users\\Asus 1\\Anaconda3\\lib\\site-packages\\ipykernel_launcher.py:4: DataConversionWarning: A column-vector y was passed when a 1d array was expected. Please change the shape of y to (n_samples, ), for example using ravel().\n",
      "  after removing the cwd from sys.path.\n"
     ]
    },
    {
     "data": {
      "text/plain": [
       "KNeighborsClassifier(algorithm='auto', leaf_size=30, metric='minkowski',\n",
       "                     metric_params=None, n_jobs=None, n_neighbors=5, p=2,\n",
       "                     weights='uniform')"
      ]
     },
     "execution_count": 24,
     "metadata": {},
     "output_type": "execute_result"
    }
   ],
   "source": [
    "from sklearn.neighbors import KNeighborsClassifier\n",
    "\n",
    "classifier = KNeighborsClassifier(n_neighbors=5)\n",
    "classifier.fit(x_train_norm,y_train)"
   ]
  },
  {
   "cell_type": "code",
   "execution_count": 25,
   "metadata": {},
   "outputs": [],
   "source": [
    "#make prediction for test data\n",
    "y_pred = classifier.predict(x_test_norm)"
   ]
  },
  {
   "cell_type": "code",
   "execution_count": 26,
   "metadata": {
    "scrolled": true
   },
   "outputs": [
    {
     "name": "stdout",
     "output_type": "stream",
     "text": [
      "[[24  2]\n",
      " [ 1 27]]\n",
      "Test Accuracy :0.944444\n"
     ]
    }
   ],
   "source": [
    "#Evaluation\n",
    "\n",
    "from sklearn.metrics import classification_report, confusion_matrix\n",
    "print(confusion_matrix(y_test, y_pred))\n",
    "\n",
    "from sklearn.metrics import accuracy_score\n",
    "accur = accuracy_score(y_test, y_pred)\n",
    "print('Test Accuracy :{:.6f}'.format(accur))"
   ]
  },
  {
   "cell_type": "code",
   "execution_count": 27,
   "metadata": {},
   "outputs": [],
   "source": [
    "#we randomly chose 5 as the K value and it just happen to result in 100%\n",
    "#One way to help you find  the best value of K is to plot the graph of k\n",
    "#and the corresponding error rate for the dataset.\n",
    "#In this section, we will plot the mean error for the predicted values of\n",
    "# set for all the k values between 1 and 40\n",
    "from sklearn.neighbors import KNeighborsClassifier\n",
    "error = []\n",
    "\n",
    "#calculating error for K values between 1 and 40\n",
    "\n",
    "for i in range(1,40):\n",
    "    knn = KNeighborsClassifier(n_neighbors = i)\n",
    "    knn.fit(X_train, y_train.values.ravel())\n",
    "    pred_i = knn.predict(X_test)\n",
    "    error.append(np.mean(pred_i[i]!= y_test))"
   ]
  },
  {
   "cell_type": "code",
   "execution_count": 28,
   "metadata": {},
   "outputs": [
    {
     "data": {
      "text/plain": [
       "Text(0, 0.5, 'Mean Error')"
      ]
     },
     "execution_count": 28,
     "metadata": {},
     "output_type": "execute_result"
    },
    {
     "data": {
      "image/png": "[encoded data removed]",
      "text/plain": [
       "<Figure size 864x432 with 1 Axes>"
      ]
     },
     "metadata": {
      "needs_background": "light"
     },
     "output_type": "display_data"
    }
   ],
   "source": [
    "#The next step is to plot the error values against K values.\n",
    "\n",
    "plt.figure(figsize=(12,6))\n",
    "plt.plot(range(1,40), error,color = 'red',linestyle= 'dashed',marker = 'o',markerfacecolor= 'blue',markersize = 10 )\n",
    "plt.title('Error Rate K Value')\n",
    "plt.xlabel('K Value')\n",
    "plt.ylabel('Mean Error')"
   ]
  },
  {
   "cell_type": "code",
   "execution_count": null,
   "metadata": {},
   "outputs": [],
   "source": []
  }
 ],
 "metadata": {
  "kernelspec": {
   "display_name": "Python 3",
   "language": "python",
   "name": "python3"
  },
  "language_info": {
   "codemirror_mode": {
    "name": "ipython",
    "version": 3
   },
   "file_extension": ".py",
   "mimetype": "text/x-python",
   "name": "python",
   "nbconvert_exporter": "python",
   "pygments_lexer": "ipython3",
   "version": "3.7.4"
  }
 },
 "nbformat": 4,
 "nbformat_minor": 2
}
