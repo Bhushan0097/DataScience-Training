{
 "cells": [
  {
   "cell_type": "markdown",
   "metadata": {},
   "source": [
    "# FUNCTIONS"
   ]
  },
  {
   "cell_type": "code",
   "execution_count": 5,
   "metadata": {},
   "outputs": [
    {
     "name": "stdout",
     "output_type": "stream",
     "text": [
      "3\n"
     ]
    }
   ],
   "source": [
    "def add(n1,n2):\n",
    "    return n1 + n2\n",
    "\n",
    "result = add(1,2)\n",
    "print(result)\n"
   ]
  },
  {
   "cell_type": "code",
   "execution_count": 12,
   "metadata": {},
   "outputs": [
    {
     "name": "stdout",
     "output_type": "stream",
     "text": [
      "Python 3.0\n"
     ]
    }
   ],
   "source": [
    "\n",
    "def str_add(x,y):\n",
    "    return x+ y\n",
    "\n",
    "result = str_add(\"Python\" ,\" 3.0\")\n",
    "print(result)"
   ]
  },
  {
   "cell_type": "code",
   "execution_count": 16,
   "metadata": {},
   "outputs": [
    {
     "name": "stdout",
     "output_type": "stream",
     "text": [
      "say Hello: Ashok\n"
     ]
    }
   ],
   "source": [
    "#define a function\n",
    "\n",
    "def say_hello(name):\n",
    "    \"\"\"\n",
    "    This Function is to print say hello\n",
    "    Input : no Input\n",
    "    Output : name of the Person\n",
    "    \"\"\"\n",
    "    print('say Hello: '+ name)\n",
    "\n",
    "say_hello('Ashok')\n"
   ]
  },
  {
   "cell_type": "code",
   "execution_count": 17,
   "metadata": {},
   "outputs": [
    {
     "name": "stdout",
     "output_type": "stream",
     "text": [
      "Help on function say_hello in module __main__:\n",
      "\n",
      "say_hello(name)\n",
      "    This Function is to print say hello\n",
      "    Input : no Input\n",
      "    Output : name of the Person\n",
      "\n"
     ]
    }
   ],
   "source": [
    "help(say_hello) #print info about function"
   ]
  },
  {
   "cell_type": "code",
   "execution_count": 21,
   "metadata": {},
   "outputs": [
    {
     "name": "stdout",
     "output_type": "stream",
     "text": [
      "Bye Bye Ashok\n"
     ]
    }
   ],
   "source": [
    "#use of return to store a result\n",
    "\n",
    "def say_bye(name):\n",
    "    return 'Bye Bye '+ name\n",
    "result = say_bye('Ashok')\n",
    "print(result)"
   ]
  },
  {
   "cell_type": "code",
   "execution_count": 20,
   "metadata": {},
   "outputs": [
    {
     "data": {
      "text/plain": [
       "33"
      ]
     },
     "execution_count": 20,
     "metadata": {},
     "output_type": "execute_result"
    }
   ],
   "source": [
    "#use of return for add function\n",
    "\n",
    "def add(n1,n2):\n",
    "    return n1+n2\n",
    "result= add(25,8)\n",
    "result"
   ]
  },
  {
   "cell_type": "code",
   "execution_count": 25,
   "metadata": {},
   "outputs": [
    {
     "name": "stdout",
     "output_type": "stream",
     "text": [
      "True\n",
      "False\n"
     ]
    }
   ],
   "source": [
    "# find if eard boy is present in the string\n",
    "\n",
    "def check_boy(input_str):\n",
    "    if 'boy' in input_str.lower():\n",
    "        return True\n",
    "    else :\n",
    "        return False\n",
    "    \n",
    "#Let us check with Rahul is good boy  \n",
    "\n",
    "print(check_boy('Rahul is good boy')) #Return True\n",
    "print(check_boy('Rahul is good girl')) #Return False\n"
   ]
  },
  {
   "cell_type": "code",
   "execution_count": 26,
   "metadata": {},
   "outputs": [
    {
     "data": {
      "text/plain": [
       "False"
      ]
     },
     "execution_count": 26,
     "metadata": {},
     "output_type": "execute_result"
    }
   ],
   "source": [
    "#expert code for after return is boolean\n",
    "\n",
    "def check_boy(input_str):\n",
    "    return 'boy' in input_str.lower()\n",
    "check_boy('good')"
   ]
  },
  {
   "cell_type": "markdown",
   "metadata": {},
   "source": [
    "# Execise 1"
   ]
  },
  {
   "cell_type": "code",
   "execution_count": 8,
   "metadata": {},
   "outputs": [
    {
     "name": "stdout",
     "output_type": "stream",
     "text": [
      "MacDonald\n"
     ]
    }
   ],
   "source": [
    "def My_func(string):\n",
    "        return (string[0].upper() +string[1:3]+string[3].upper()+string[4:len(string)])\n",
    "        \n",
    "\n",
    "cap_string = My_func('macdonald')\n",
    "\n",
    "print(cap_string)        "
   ]
  },
  {
   "cell_type": "markdown",
   "metadata": {},
   "source": [
    "# EXERCISE 2"
   ]
  },
  {
   "cell_type": "code",
   "execution_count": 108,
   "metadata": {},
   "outputs": [
    {
     "name": "stdout",
     "output_type": "stream",
     "text": [
      "home am I\n",
      "Ready are We\n"
     ]
    }
   ],
   "source": [
    "def master_yoga(string2):\n",
    "    x = string2.split()\n",
    "    y = x[2]+\" \"+x[1]+\" \"+x[0]\n",
    "    return y\n",
    "\n",
    "string1 = master_yoga('I am home')\n",
    "print(string1)\n",
    "\n",
    "string2 = master_yoga('We are Ready')\n",
    "print(string2)\n",
    "    "
   ]
  },
  {
   "cell_type": "code",
   "execution_count": 6,
   "metadata": {},
   "outputs": [
    {
     "name": "stdout",
     "output_type": "stream",
     "text": [
      "home am I\n",
      "Ready are We\n"
     ]
    }
   ],
   "source": [
    "def master_yoga(string):\n",
    "    x = string.split()\n",
    "    str1 = \" \"\n",
    "    y = x[::-1]\n",
    "    s =str1.join(y)\n",
    "    return s\n",
    "\n",
    "stringx = master_yoga('I am home')\n",
    "print(stringx)\n",
    "\n",
    "\n",
    "stringy = master_yoga('We are Ready')\n",
    "print(stringy)"
   ]
  },
  {
   "cell_type": "code",
   "execution_count": 122,
   "metadata": {},
   "outputs": [
    {
     "name": "stdout",
     "output_type": "stream",
     "text": [
      "home am I\n",
      "Ready are We\n"
     ]
    }
   ],
   "source": [
    "#Above Code more compresses\n",
    "def master_yoga(string):\n",
    "    return \" \".join(string.split()[::-1])\n",
    "\n",
    "stringx = master_yoga('I am home')\n",
    "print(stringx)\n",
    "\n",
    "\n",
    "stringz = master_yoga('We are Ready')\n",
    "print(stringz)"
   ]
  },
  {
   "cell_type": "code",
   "execution_count": null,
   "metadata": {},
   "outputs": [],
   "source": []
  }
 ],
 "metadata": {
  "kernelspec": {
   "display_name": "Python 3",
   "language": "python",
   "name": "python3"
  },
  "language_info": {
   "codemirror_mode": {
    "name": "ipython",
    "version": 3
   },
   "file_extension": ".py",
   "mimetype": "text/x-python",
   "name": "python",
   "nbconvert_exporter": "python",
   "pygments_lexer": "ipython3",
   "version": "3.7.4"
  }
 },
 "nbformat": 4,
 "nbformat_minor": 2
}
