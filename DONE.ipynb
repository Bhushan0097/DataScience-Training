{
 "cells": [
  {
   "cell_type": "code",
   "execution_count": 155,
   "metadata": {},
   "outputs": [
    {
     "name": "stdout",
     "output_type": "stream",
     "text": [
      ".. _boston_dataset:\n",
      "\n",
      "Boston house prices dataset\n",
      "---------------------------\n",
      "\n",
      "**Data Set Characteristics:**  \n",
      "\n",
      "    :Number of Instances: 506 \n",
      "\n",
      "    :Number of Attributes: 13 numeric/categorical predictive. Median Value (attribute 14) is usually the target.\n",
      "\n",
      "    :Attribute Information (in order):\n",
      "        - CRIM     per capita crime rate by town\n",
      "        - ZN       proportion of residential land zoned for lots over 25,000 sq.ft.\n",
      "        - INDUS    proportion of non-retail business acres per town\n",
      "        - CHAS     Charles River dummy variable (= 1 if tract bounds river; 0 otherwise)\n",
      "        - NOX      nitric oxides concentration (parts per 10 million)\n",
      "        - RM       average number of rooms per dwelling\n",
      "        - AGE      proportion of owner-occupied units built prior to 1940\n",
      "        - DIS      weighted distances to five Boston employment centres\n",
      "        - RAD      index of accessibility to radial highways\n",
      "        - TAX      full-value property-tax rate per $10,000\n",
      "        - PTRATIO  pupil-teacher ratio by town\n",
      "        - B        1000(Bk - 0.63)^2 where Bk is the proportion of blacks by town\n",
      "        - LSTAT    % lower status of the population\n",
      "        - MEDV     Median value of owner-occupied homes in $1000's\n",
      "\n",
      "    :Missing Attribute Values: None\n",
      "\n",
      "    :Creator: Harrison, D. and Rubinfeld, D.L.\n",
      "\n",
      "This is a copy of UCI ML housing dataset.\n",
      "https://archive.ics.uci.edu/ml/machine-learning-databases/housing/\n",
      "\n",
      "\n",
      "This dataset was taken from the StatLib library which is maintained at Carnegie Mellon University.\n",
      "\n",
      "The Boston house-price data of Harrison, D. and Rubinfeld, D.L. 'Hedonic\n",
      "prices and the demand for clean air', J. Environ. Economics & Management,\n",
      "vol.5, 81-102, 1978.   Used in Belsley, Kuh & Welsch, 'Regression diagnostics\n",
      "...', Wiley, 1980.   N.B. Various transformations are used in the table on\n",
      "pages 244-261 of the latter.\n",
      "\n",
      "The Boston house-price data has been used in many machine learning papers that address regression\n",
      "problems.   \n",
      "     \n",
      ".. topic:: References\n",
      "\n",
      "   - Belsley, Kuh & Welsch, 'Regression diagnostics: Identifying Influential Data and Sources of Collinearity', Wiley, 1980. 244-261.\n",
      "   - Quinlan,R. (1993). Combining Instance-Based and Model-Based Learning. In Proceedings on the Tenth International Conference of Machine Learning, 236-243, University of Massachusetts, Amherst. Morgan Kaufmann.\n",
      "\n"
     ]
    }
   ],
   "source": [
    "#Simple Linear Regression for boston dataset\n",
    "\n",
    "import pandas as pd\n",
    "import numpy as np\n",
    "\n",
    "from sklearn import linear_model\n",
    "from sklearn import datasets\n",
    "from sklearn.model_selection import train_test_split\n",
    "data = datasets.load_boston()\n",
    "print(data.DESCR)"
   ]
  },
  {
   "cell_type": "code",
   "execution_count": 156,
   "metadata": {},
   "outputs": [
    {
     "name": "stdout",
     "output_type": "stream",
     "text": [
      "      CRIM    ZN  INDUS  CHAS    NOX     RM   AGE     DIS  RAD    TAX  \\\n",
      "0  0.00632  18.0   2.31   0.0  0.538  6.575  65.2  4.0900  1.0  296.0   \n",
      "1  0.02731   0.0   7.07   0.0  0.469  6.421  78.9  4.9671  2.0  242.0   \n",
      "2  0.02729   0.0   7.07   0.0  0.469  7.185  61.1  4.9671  2.0  242.0   \n",
      "3  0.03237   0.0   2.18   0.0  0.458  6.998  45.8  6.0622  3.0  222.0   \n",
      "4  0.06905   0.0   2.18   0.0  0.458  7.147  54.2  6.0622  3.0  222.0   \n",
      "\n",
      "   PTRATIO       B  LSTAT  \n",
      "0     15.3  396.90   4.98  \n",
      "1     17.8  396.90   9.14  \n",
      "2     17.8  392.83   4.03  \n",
      "3     18.7  394.63   2.94  \n",
      "4     18.7  396.90   5.33  \n"
     ]
    }
   ],
   "source": [
    "df = pd.DataFrame(data.data, columns = data.feature_names)\n",
    "print(df.head())"
   ]
  },
  {
   "cell_type": "code",
   "execution_count": 157,
   "metadata": {},
   "outputs": [
    {
     "name": "stdout",
     "output_type": "stream",
     "text": [
      "     MEDV\n",
      "0    24.0\n",
      "1    21.6\n",
      "2    34.7\n",
      "3    33.4\n",
      "4    36.2\n",
      "..    ...\n",
      "501  22.4\n",
      "502  20.6\n",
      "503  23.9\n",
      "504  22.0\n",
      "505  11.9\n",
      "\n",
      "[506 rows x 1 columns]\n"
     ]
    }
   ],
   "source": [
    "target = pd.DataFrame(data.target,columns=['MEDV'])\n",
    "print(target)"
   ]
  },
  {
   "cell_type": "code",
   "execution_count": 158,
   "metadata": {},
   "outputs": [
    {
     "name": "stdout",
     "output_type": "stream",
     "text": [
      "NUM in RM Empty DataFrame\n",
      "Columns: [CRIM, ZN, INDUS, CHAS, NOX, RM, AGE, DIS, RAD, TAX, PTRATIO, B, LSTAT]\n",
      "Index: []\n",
      "NUM in MEDV Empty DataFrame\n",
      "Columns: [MEDV]\n",
      "Index: []\n"
     ]
    }
   ],
   "source": [
    "print('NUM in RM',df[df['RM'].isnull()])#chek if there are NULL in the column \n",
    "print('NUM in MEDV',target[target['MEDV'].isnull()])"
   ]
  },
  {
   "cell_type": "code",
   "execution_count": 159,
   "metadata": {},
   "outputs": [],
   "source": [
    "X= pd.DataFrame(df['RM'])\n",
    "y = pd.DataFrame(target['MEDV'])"
   ]
  },
  {
   "cell_type": "code",
   "execution_count": 160,
   "metadata": {},
   "outputs": [
    {
     "name": "stdout",
     "output_type": "stream",
     "text": [
      "        RM\n",
      "0    6.575\n",
      "1    6.421\n",
      "2    7.185\n",
      "3    6.998\n",
      "4    7.147\n",
      "..     ...\n",
      "501  6.593\n",
      "502  6.120\n",
      "503  6.976\n",
      "504  6.794\n",
      "505  6.030\n",
      "\n",
      "[506 rows x 1 columns]\n",
      "     MEDV\n",
      "0    24.0\n",
      "1    21.6\n",
      "2    34.7\n",
      "3    33.4\n",
      "4    36.2\n",
      "..    ...\n",
      "501  22.4\n",
      "502  20.6\n",
      "503  23.9\n",
      "504  22.0\n",
      "505  11.9\n",
      "\n",
      "[506 rows x 1 columns]\n"
     ]
    }
   ],
   "source": [
    "print(X)\n",
    "print(y)"
   ]
  },
  {
   "cell_type": "code",
   "execution_count": 161,
   "metadata": {},
   "outputs": [],
   "source": [
    "df.to_csv('BOSTON_HOUSING2.csv')"
   ]
  },
  {
   "cell_type": "code",
   "execution_count": 162,
   "metadata": {},
   "outputs": [
    {
     "name": "stdout",
     "output_type": "stream",
     "text": [
      "coeficent [[9.10210898]]\n",
      "Intercept [-34.67062078]\n",
      "R square 0.4835254559913343\n"
     ]
    }
   ],
   "source": [
    "X = pd.DataFrame(df['RM'])\n",
    "y= pd.DataFrame(target['MEDV'])\n",
    "lm = linear_model.LinearRegression()\n",
    "model = lm.fit(X,y)\n",
    "print('coeficent',lm.coef_)\n",
    "print('Intercept',lm.intercept_)\n",
    "print('R square',lm.score(X,y))"
   ]
  },
  {
   "cell_type": "code",
   "execution_count": 163,
   "metadata": {},
   "outputs": [],
   "source": [
    "X_train,X_test,y_train,y_test = train_test_split(X,y ,test_size = 0.2, random_state = 0)"
   ]
  },
  {
   "cell_type": "code",
   "execution_count": 164,
   "metadata": {},
   "outputs": [
    {
     "name": "stdout",
     "output_type": "stream",
     "text": [
      "X.shape (506, 1)\n",
      "X_train.shape :  (404, 1)\n",
      "X_test.shape :  (102, 1)\n",
      "\n",
      " y.shape (506, 1)\n",
      "y_train.shape :  (404, 1)\n",
      "y_test.shape:  (102, 1)\n"
     ]
    }
   ],
   "source": [
    "print('X.shape', X.shape)\n",
    "print('X_train.shape : ', X_train.shape)\n",
    "print('X_test.shape : ', X_test.shape)\n",
    "print('\\n y.shape',y.shape)\n",
    "print('y_train.shape : ', y_train.shape)\n",
    "print('y_test.shape: ',  y_test.shape)"
   ]
  },
  {
   "cell_type": "code",
   "execution_count": 165,
   "metadata": {},
   "outputs": [
    {
     "name": "stdout",
     "output_type": "stream",
     "text": [
      "coeficent [[9.37638431]]\n",
      "Intercept [-36.47618963]\n",
      "R square 0.4970800097843844\n",
      "y_pred :  [[22.90445223]\n",
      " [21.80741526]\n",
      " [23.2795076 ]\n",
      " [13.67809006]\n",
      " [21.95743741]]\n"
     ]
    }
   ],
   "source": [
    "lm = linear_model.LinearRegression()\n",
    "model = lm.fit(X_train,y_train)\n",
    "print('coeficent',lm.coef_)\n",
    "print('Intercept',lm.intercept_)\n",
    "print('R square',lm.score(X_train,y_train))\n",
    "\n",
    "y_pred = lm.predict(X_test)\n",
    "print('y_pred : ',y_pred[0:5])"
   ]
  },
  {
   "cell_type": "code",
   "execution_count": 166,
   "metadata": {},
   "outputs": [
    {
     "data": {
      "text/plain": [
       "[[22.904452229344507],\n",
       " [21.80741526467247],\n",
       " [23.27950760188196],\n",
       " [13.678090064923232],\n",
       " [21.95743741368745],\n",
       " [18.22563645693981],\n",
       " [18.89135974319379],\n",
       " [19.482071954940274],\n",
       " [10.15256956307119],\n",
       " [23.57955189991192],\n",
       " [19.37893172749247],\n",
       " [25.94240074689786],\n",
       " [22.979463303852],\n",
       " [7.1427501984581525],\n",
       " [36.67836078578237],\n",
       " [29.542932323257382],\n",
       " [22.051201256821805],\n",
       " [31.849522864362704],\n",
       " [24.901622088106436],\n",
       " [18.37565860595479],\n",
       " [23.776455970494084],\n",
       " [18.65695013535788],\n",
       " [20.972917060776638],\n",
       " [24.301533492046516],\n",
       " [16.800426041297506],\n",
       " [-0.25521702484305564],\n",
       " [19.453942801999965],\n",
       " [17.05358841776028],\n",
       " [39.18185539746987],\n",
       " [20.64474360980637],\n",
       " [21.51674735095594],\n",
       " [20.541603382358574],\n",
       " [21.901179107806826],\n",
       " [20.672872762746678],\n",
       " [23.682692127359722],\n",
       " [17.93496854322329],\n",
       " [19.660223256895563],\n",
       " [18.610068213790704],\n",
       " [23.045097994046053],\n",
       " [21.301090511746906],\n",
       " [20.972917060776638],\n",
       " [17.77557000989487],\n",
       " [21.13231559410506],\n",
       " [14.409448041371249],\n",
       " [24.845363782225817],\n",
       " [23.7295740489269],\n",
       " [17.81307554714862],\n",
       " [20.991669829403506],\n",
       " [9.496222661130652],\n",
       " [26.598747648838398],\n",
       " [21.207326668612545],\n",
       " [16.68790942953627],\n",
       " [19.603964951014945],\n",
       " [40.96336841702276],\n",
       " [17.50365486480522],\n",
       " [18.74133759417881],\n",
       " [17.02545926481998],\n",
       " [18.82572505299973],\n",
       " [17.50365486480522],\n",
       " [19.40706088043278],\n",
       " [18.69445567261163],\n",
       " [20.841647680388533],\n",
       " [28.98972564876464],\n",
       " [24.957880393987047],\n",
       " [17.091093955014024],\n",
       " [24.995385931240797],\n",
       " [25.923647978270985],\n",
       " [23.317013139135703],\n",
       " [27.770795688017934],\n",
       " [18.760090362805684],\n",
       " [22.39812747641895],\n",
       " [22.463762166613],\n",
       " [22.501267703866752],\n",
       " [27.977076142913525],\n",
       " [26.81440448804743],\n",
       " [10.405731939533972],\n",
       " [40.850851805261506],\n",
       " [22.838817539150455],\n",
       " [23.692068511673156],\n",
       " [17.850581084402357],\n",
       " [25.464205146912605],\n",
       " [24.038994731270293],\n",
       " [16.106573602103218],\n",
       " [41.0290031072168],\n",
       " [45.332763507084046],\n",
       " [22.70754815876235],\n",
       " [21.310466896060348],\n",
       " [18.25376560988012],\n",
       " [24.564072252822726],\n",
       " [20.260311852955482],\n",
       " [18.731961209865368],\n",
       " [25.679861986121637],\n",
       " [20.79476575882135],\n",
       " [27.948946989973216],\n",
       " [20.063407782373325],\n",
       " [20.79476575882135],\n",
       " [2.32328866135191],\n",
       " [23.37327144501632],\n",
       " [24.70471801752427],\n",
       " [17.35363271579024],\n",
       " [23.298260370508835],\n",
       " [24.226522417539023]]"
      ]
     },
     "execution_count": 166,
     "metadata": {},
     "output_type": "execute_result"
    }
   ],
   "source": [
    "y_pred.tolist()"
   ]
  },
  {
   "cell_type": "code",
   "execution_count": 175,
   "metadata": {},
   "outputs": [],
   "source": [
    "error = pd.DataFrame(y_pred, columns = ['y_pred'])"
   ]
  },
  {
   "cell_type": "code",
   "execution_count": 176,
   "metadata": {},
   "outputs": [
    {
     "data": {
      "text/html": [
       "<div>\n",
       "<style scoped>\n",
       "    .dataframe tbody tr th:only-of-type {\n",
       "        vertical-align: middle;\n",
       "    }\n",
       "\n",
       "    .dataframe tbody tr th {\n",
       "        vertical-align: top;\n",
       "    }\n",
       "\n",
       "    .dataframe thead th {\n",
       "        text-align: right;\n",
       "    }\n",
       "</style>\n",
       "<table border=\"1\" class=\"dataframe\">\n",
       "  <thead>\n",
       "    <tr style=\"text-align: right;\">\n",
       "      <th></th>\n",
       "      <th>y_pred</th>\n",
       "    </tr>\n",
       "  </thead>\n",
       "  <tbody>\n",
       "    <tr>\n",
       "      <td>0</td>\n",
       "      <td>22.904452</td>\n",
       "    </tr>\n",
       "    <tr>\n",
       "      <td>1</td>\n",
       "      <td>21.807415</td>\n",
       "    </tr>\n",
       "    <tr>\n",
       "      <td>2</td>\n",
       "      <td>23.279508</td>\n",
       "    </tr>\n",
       "    <tr>\n",
       "      <td>3</td>\n",
       "      <td>13.678090</td>\n",
       "    </tr>\n",
       "    <tr>\n",
       "      <td>4</td>\n",
       "      <td>21.957437</td>\n",
       "    </tr>\n",
       "    <tr>\n",
       "      <td>...</td>\n",
       "      <td>...</td>\n",
       "    </tr>\n",
       "    <tr>\n",
       "      <td>97</td>\n",
       "      <td>23.373271</td>\n",
       "    </tr>\n",
       "    <tr>\n",
       "      <td>98</td>\n",
       "      <td>24.704718</td>\n",
       "    </tr>\n",
       "    <tr>\n",
       "      <td>99</td>\n",
       "      <td>17.353633</td>\n",
       "    </tr>\n",
       "    <tr>\n",
       "      <td>100</td>\n",
       "      <td>23.298260</td>\n",
       "    </tr>\n",
       "    <tr>\n",
       "      <td>101</td>\n",
       "      <td>24.226522</td>\n",
       "    </tr>\n",
       "  </tbody>\n",
       "</table>\n",
       "<p>102 rows × 1 columns</p>\n",
       "</div>"
      ],
      "text/plain": [
       "        y_pred\n",
       "0    22.904452\n",
       "1    21.807415\n",
       "2    23.279508\n",
       "3    13.678090\n",
       "4    21.957437\n",
       "..         ...\n",
       "97   23.373271\n",
       "98   24.704718\n",
       "99   17.353633\n",
       "100  23.298260\n",
       "101  24.226522\n",
       "\n",
       "[102 rows x 1 columns]"
      ]
     },
     "execution_count": 176,
     "metadata": {},
     "output_type": "execute_result"
    }
   ],
   "source": [
    "error"
   ]
  },
  {
   "cell_type": "code",
   "execution_count": 197,
   "metadata": {},
   "outputs": [
    {
     "data": {
      "text/plain": [
       "[22.6,\n",
       " 50.0,\n",
       " 23.0,\n",
       " 8.3,\n",
       " 21.2,\n",
       " 19.9,\n",
       " 20.6,\n",
       " 18.7,\n",
       " 16.1,\n",
       " 18.6,\n",
       " 8.8,\n",
       " 17.2,\n",
       " 14.9,\n",
       " 10.5,\n",
       " 50.0,\n",
       " 29.0,\n",
       " 23.0,\n",
       " 33.3,\n",
       " 29.4,\n",
       " 21.0,\n",
       " 23.8,\n",
       " 19.1,\n",
       " 20.4,\n",
       " 29.1,\n",
       " 19.3,\n",
       " 23.1,\n",
       " 19.6,\n",
       " 19.4,\n",
       " 38.7,\n",
       " 18.7,\n",
       " 14.6,\n",
       " 20.0,\n",
       " 20.5,\n",
       " 20.1,\n",
       " 23.6,\n",
       " 16.8,\n",
       " 5.6,\n",
       " 50.0,\n",
       " 14.5,\n",
       " 13.3,\n",
       " 23.9,\n",
       " 20.0,\n",
       " 19.8,\n",
       " 13.8,\n",
       " 16.5,\n",
       " 21.6,\n",
       " 20.3,\n",
       " 17.0,\n",
       " 11.8,\n",
       " 27.5,\n",
       " 15.6,\n",
       " 23.1,\n",
       " 24.3,\n",
       " 42.8,\n",
       " 15.6,\n",
       " 21.7,\n",
       " 17.1,\n",
       " 17.2,\n",
       " 15.0,\n",
       " 21.7,\n",
       " 18.6,\n",
       " 21.0,\n",
       " 33.1,\n",
       " 31.5,\n",
       " 20.1,\n",
       " 29.8,\n",
       " 15.2,\n",
       " 15.0,\n",
       " 27.5,\n",
       " 22.6,\n",
       " 20.0,\n",
       " 21.4,\n",
       " 23.5,\n",
       " 31.2,\n",
       " 23.7,\n",
       " 7.4,\n",
       " 48.3,\n",
       " 24.4,\n",
       " 22.6,\n",
       " 18.3,\n",
       " 23.3,\n",
       " 17.1,\n",
       " 27.9,\n",
       " 44.8,\n",
       " 50.0,\n",
       " 23.0,\n",
       " 21.4,\n",
       " 10.2,\n",
       " 23.3,\n",
       " 23.2,\n",
       " 18.9,\n",
       " 13.4,\n",
       " 21.9,\n",
       " 24.8,\n",
       " 11.9,\n",
       " 24.3,\n",
       " 13.8,\n",
       " 24.7,\n",
       " 14.1,\n",
       " 18.7,\n",
       " 28.1,\n",
       " 19.8]"
      ]
     },
     "execution_count": 197,
     "metadata": {},
     "output_type": "execute_result"
    }
   ],
   "source": [
    "B = [x for x in y_test['MEDV']]\n",
    "B"
   ]
  },
  {
   "cell_type": "code",
   "execution_count": 198,
   "metadata": {},
   "outputs": [],
   "source": [
    "error['y_test'] = pd.Series(B)"
   ]
  },
  {
   "cell_type": "code",
   "execution_count": 220,
   "metadata": {},
   "outputs": [
    {
     "data": {
      "text/html": [
       "<div>\n",
       "<style scoped>\n",
       "    .dataframe tbody tr th:only-of-type {\n",
       "        vertical-align: middle;\n",
       "    }\n",
       "\n",
       "    .dataframe tbody tr th {\n",
       "        vertical-align: top;\n",
       "    }\n",
       "\n",
       "    .dataframe thead th {\n",
       "        text-align: right;\n",
       "    }\n",
       "</style>\n",
       "<table border=\"1\" class=\"dataframe\">\n",
       "  <thead>\n",
       "    <tr style=\"text-align: right;\">\n",
       "      <th></th>\n",
       "      <th>y_pred</th>\n",
       "      <th>y_test</th>\n",
       "      <th>y- ŷ</th>\n",
       "    </tr>\n",
       "  </thead>\n",
       "  <tbody>\n",
       "    <tr>\n",
       "      <td>0</td>\n",
       "      <td>22.904452</td>\n",
       "      <td>22.6</td>\n",
       "      <td>-0.304452</td>\n",
       "    </tr>\n",
       "    <tr>\n",
       "      <td>1</td>\n",
       "      <td>21.807415</td>\n",
       "      <td>50.0</td>\n",
       "      <td>28.192585</td>\n",
       "    </tr>\n",
       "    <tr>\n",
       "      <td>2</td>\n",
       "      <td>23.279508</td>\n",
       "      <td>23.0</td>\n",
       "      <td>-0.279508</td>\n",
       "    </tr>\n",
       "    <tr>\n",
       "      <td>3</td>\n",
       "      <td>13.678090</td>\n",
       "      <td>8.3</td>\n",
       "      <td>-5.378090</td>\n",
       "    </tr>\n",
       "    <tr>\n",
       "      <td>4</td>\n",
       "      <td>21.957437</td>\n",
       "      <td>21.2</td>\n",
       "      <td>-0.757437</td>\n",
       "    </tr>\n",
       "    <tr>\n",
       "      <td>...</td>\n",
       "      <td>...</td>\n",
       "      <td>...</td>\n",
       "      <td>...</td>\n",
       "    </tr>\n",
       "    <tr>\n",
       "      <td>97</td>\n",
       "      <td>23.373271</td>\n",
       "      <td>24.7</td>\n",
       "      <td>1.326729</td>\n",
       "    </tr>\n",
       "    <tr>\n",
       "      <td>98</td>\n",
       "      <td>24.704718</td>\n",
       "      <td>14.1</td>\n",
       "      <td>-10.604718</td>\n",
       "    </tr>\n",
       "    <tr>\n",
       "      <td>99</td>\n",
       "      <td>17.353633</td>\n",
       "      <td>18.7</td>\n",
       "      <td>1.346367</td>\n",
       "    </tr>\n",
       "    <tr>\n",
       "      <td>100</td>\n",
       "      <td>23.298260</td>\n",
       "      <td>28.1</td>\n",
       "      <td>4.801740</td>\n",
       "    </tr>\n",
       "    <tr>\n",
       "      <td>101</td>\n",
       "      <td>24.226522</td>\n",
       "      <td>19.8</td>\n",
       "      <td>-4.426522</td>\n",
       "    </tr>\n",
       "  </tbody>\n",
       "</table>\n",
       "<p>102 rows × 3 columns</p>\n",
       "</div>"
      ],
      "text/plain": [
       "        y_pred  y_test       y- ŷ\n",
       "0    22.904452    22.6  -0.304452\n",
       "1    21.807415    50.0  28.192585\n",
       "2    23.279508    23.0  -0.279508\n",
       "3    13.678090     8.3  -5.378090\n",
       "4    21.957437    21.2  -0.757437\n",
       "..         ...     ...        ...\n",
       "97   23.373271    24.7   1.326729\n",
       "98   24.704718    14.1 -10.604718\n",
       "99   17.353633    18.7   1.346367\n",
       "100  23.298260    28.1   4.801740\n",
       "101  24.226522    19.8  -4.426522\n",
       "\n",
       "[102 rows x 3 columns]"
      ]
     },
     "execution_count": 220,
     "metadata": {},
     "output_type": "execute_result"
    }
   ],
   "source": [
    "error"
   ]
  },
  {
   "cell_type": "code",
   "execution_count": 224,
   "metadata": {},
   "outputs": [],
   "source": [
    "#RMSE \n",
    "import math\n",
    "\n",
    "error['y- ŷ'] = (error['y_test']-error['y_pred'])\n",
    "error['(y- ŷ)^2'] = (error['y- ŷ'])**2"
   ]
  },
  {
   "cell_type": "code",
   "execution_count": 225,
   "metadata": {},
   "outputs": [
    {
     "data": {
      "text/html": [
       "<div>\n",
       "<style scoped>\n",
       "    .dataframe tbody tr th:only-of-type {\n",
       "        vertical-align: middle;\n",
       "    }\n",
       "\n",
       "    .dataframe tbody tr th {\n",
       "        vertical-align: top;\n",
       "    }\n",
       "\n",
       "    .dataframe thead th {\n",
       "        text-align: right;\n",
       "    }\n",
       "</style>\n",
       "<table border=\"1\" class=\"dataframe\">\n",
       "  <thead>\n",
       "    <tr style=\"text-align: right;\">\n",
       "      <th></th>\n",
       "      <th>y_pred</th>\n",
       "      <th>y_test</th>\n",
       "      <th>y- ŷ</th>\n",
       "      <th>(y- ŷ)^2</th>\n",
       "    </tr>\n",
       "  </thead>\n",
       "  <tbody>\n",
       "    <tr>\n",
       "      <td>0</td>\n",
       "      <td>22.904452</td>\n",
       "      <td>22.6</td>\n",
       "      <td>-0.304452</td>\n",
       "      <td>0.092691</td>\n",
       "    </tr>\n",
       "    <tr>\n",
       "      <td>1</td>\n",
       "      <td>21.807415</td>\n",
       "      <td>50.0</td>\n",
       "      <td>28.192585</td>\n",
       "      <td>794.821834</td>\n",
       "    </tr>\n",
       "    <tr>\n",
       "      <td>2</td>\n",
       "      <td>23.279508</td>\n",
       "      <td>23.0</td>\n",
       "      <td>-0.279508</td>\n",
       "      <td>0.078124</td>\n",
       "    </tr>\n",
       "    <tr>\n",
       "      <td>3</td>\n",
       "      <td>13.678090</td>\n",
       "      <td>8.3</td>\n",
       "      <td>-5.378090</td>\n",
       "      <td>28.923853</td>\n",
       "    </tr>\n",
       "    <tr>\n",
       "      <td>4</td>\n",
       "      <td>21.957437</td>\n",
       "      <td>21.2</td>\n",
       "      <td>-0.757437</td>\n",
       "      <td>0.573711</td>\n",
       "    </tr>\n",
       "    <tr>\n",
       "      <td>...</td>\n",
       "      <td>...</td>\n",
       "      <td>...</td>\n",
       "      <td>...</td>\n",
       "      <td>...</td>\n",
       "    </tr>\n",
       "    <tr>\n",
       "      <td>97</td>\n",
       "      <td>23.373271</td>\n",
       "      <td>24.7</td>\n",
       "      <td>1.326729</td>\n",
       "      <td>1.760209</td>\n",
       "    </tr>\n",
       "    <tr>\n",
       "      <td>98</td>\n",
       "      <td>24.704718</td>\n",
       "      <td>14.1</td>\n",
       "      <td>-10.604718</td>\n",
       "      <td>112.460044</td>\n",
       "    </tr>\n",
       "    <tr>\n",
       "      <td>99</td>\n",
       "      <td>17.353633</td>\n",
       "      <td>18.7</td>\n",
       "      <td>1.346367</td>\n",
       "      <td>1.812705</td>\n",
       "    </tr>\n",
       "    <tr>\n",
       "      <td>100</td>\n",
       "      <td>23.298260</td>\n",
       "      <td>28.1</td>\n",
       "      <td>4.801740</td>\n",
       "      <td>23.056703</td>\n",
       "    </tr>\n",
       "    <tr>\n",
       "      <td>101</td>\n",
       "      <td>24.226522</td>\n",
       "      <td>19.8</td>\n",
       "      <td>-4.426522</td>\n",
       "      <td>19.594101</td>\n",
       "    </tr>\n",
       "  </tbody>\n",
       "</table>\n",
       "<p>102 rows × 4 columns</p>\n",
       "</div>"
      ],
      "text/plain": [
       "        y_pred  y_test       y- ŷ    (y- ŷ)^2\n",
       "0    22.904452    22.6  -0.304452    0.092691\n",
       "1    21.807415    50.0  28.192585  794.821834\n",
       "2    23.279508    23.0  -0.279508    0.078124\n",
       "3    13.678090     8.3  -5.378090   28.923853\n",
       "4    21.957437    21.2  -0.757437    0.573711\n",
       "..         ...     ...        ...         ...\n",
       "97   23.373271    24.7   1.326729    1.760209\n",
       "98   24.704718    14.1 -10.604718  112.460044\n",
       "99   17.353633    18.7   1.346367    1.812705\n",
       "100  23.298260    28.1   4.801740   23.056703\n",
       "101  24.226522    19.8  -4.426522   19.594101\n",
       "\n",
       "[102 rows x 4 columns]"
      ]
     },
     "execution_count": 225,
     "metadata": {},
     "output_type": "execute_result"
    }
   ],
   "source": [
    "error"
   ]
  },
  {
   "cell_type": "code",
   "execution_count": 230,
   "metadata": {},
   "outputs": [
    {
     "data": {
      "text/plain": [
       "6.848894190115315"
      ]
     },
     "execution_count": 230,
     "metadata": {},
     "output_type": "execute_result"
    }
   ],
   "source": [
    "#RMSE\n",
    "math.sqrt((error['(y- ŷ)^2'].sum())/102)"
   ]
  },
  {
   "cell_type": "code",
   "execution_count": 242,
   "metadata": {},
   "outputs": [
    {
     "name": "stdout",
     "output_type": "stream",
     "text": [
      "MAPE :  0.23863369521986164\n"
     ]
    }
   ],
   "source": [
    "#MAPE\n",
    "\n",
    "error['|(y- ŷ)/y|'] = abs(error['y- ŷ']/error['y_test'])\n",
    "print('MAPE : ',error['|(y- ŷ)/y|'].sum()/102)"
   ]
  },
  {
   "cell_type": "code",
   "execution_count": 256,
   "metadata": {},
   "outputs": [
    {
     "data": {
      "text/plain": [
       "0.4146421036885942"
      ]
     },
     "execution_count": 256,
     "metadata": {},
     "output_type": "execute_result"
    }
   ],
   "source": [
    "#RMSPE \n",
    "\n",
    "RMSPE = math.sqrt((1/102)*((error['y- ŷ']/error['y_test'])**2).sum())\n",
    "RMSPE"
   ]
  },
  {
   "cell_type": "code",
   "execution_count": null,
   "metadata": {},
   "outputs": [],
   "source": []
  }
 ],
 "metadata": {
  "kernelspec": {
   "display_name": "Python 3",
   "language": "python",
   "name": "python3"
  },
  "language_info": {
   "codemirror_mode": {
    "name": "ipython",
    "version": 3
   },
   "file_extension": ".py",
   "mimetype": "text/x-python",
   "name": "python",
   "nbconvert_exporter": "python",
   "pygments_lexer": "ipython3",
   "version": "3.7.4"
  }
 },
 "nbformat": 4,
 "nbformat_minor": 2
}
