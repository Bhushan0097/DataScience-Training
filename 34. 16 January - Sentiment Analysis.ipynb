{
 "cells": [
  {
   "cell_type": "code",
   "execution_count": 7,
   "metadata": {},
   "outputs": [
    {
     "name": "stdout",
     "output_type": "stream",
     "text": [
      "I hate Monday\n",
      "Sentiment(polarity=-0.8, subjectivity=0.9)\n",
      "\n",
      " I dislike Monday\n",
      "Sentiment(polarity=0.0, subjectivity=0.0)\n"
     ]
    }
   ],
   "source": [
    "from textblob import TextBlob\n",
    "\n",
    "y = 'I hate Monday'\n",
    "print(y)\n",
    "print(TextBlob(y).sentiment)\n",
    "\n",
    "y = 'I dislike Monday'\n",
    "print('\\n',y)\n",
    "print(TextBlob(y).sentiment)"
   ]
  },
  {
   "cell_type": "code",
   "execution_count": 4,
   "metadata": {},
   "outputs": [
    {
     "name": "stdout",
     "output_type": "stream",
     "text": [
      "Monday is boring\n",
      "Sentiment(polarity=-1.0, subjectivity=1.0)\n"
     ]
    }
   ],
   "source": [
    "y = 'Monday is boring'\n",
    "print(y)\n",
    "print(TextBlob(y).sentiment)"
   ]
  },
  {
   "cell_type": "code",
   "execution_count": 5,
   "metadata": {},
   "outputs": [
    {
     "name": "stdout",
     "output_type": "stream",
     "text": [
      "I love Nagpur\n",
      "Sentiment(polarity=0.5, subjectivity=0.6)\n"
     ]
    }
   ],
   "source": [
    "y = 'I love Nagpur'\n",
    "print(y)\n",
    "print(TextBlob(y).sentiment)"
   ]
  },
  {
   "cell_type": "code",
   "execution_count": 8,
   "metadata": {},
   "outputs": [
    {
     "name": "stdout",
     "output_type": "stream",
     "text": [
      "I love Nagpur and fresh oranges\n",
      "Sentiment(polarity=0.4, subjectivity=0.55)\n"
     ]
    }
   ],
   "source": [
    "y = 'I love Nagpur and fresh oranges'\n",
    "print(y)\n",
    "print(TextBlob(y).sentiment)"
   ]
  },
  {
   "cell_type": "code",
   "execution_count": 9,
   "metadata": {},
   "outputs": [
    {
     "name": "stdout",
     "output_type": "stream",
     "text": [
      "I love Nagpur and hate fresh oranges\n",
      "Sentiment(polarity=-1.850371707708594e-17, subjectivity=0.6666666666666666)\n"
     ]
    }
   ],
   "source": [
    "y = 'I love Nagpur and hate fresh oranges'\n",
    "print(y)\n",
    "print(TextBlob(y).sentiment)"
   ]
  },
  {
   "cell_type": "code",
   "execution_count": 10,
   "metadata": {
    "scrolled": true
   },
   "outputs": [
    {
     "name": "stdout",
     "output_type": "stream",
     "text": [
      "director : brian de palma writer : david koepp ( based on the novels \" carlito's way \" and \" after hours \" by edwin torres ) starring : al pacino , sean penn , penelope ann miller , john leguiziamo , luis guzman , john rebhorn , viggio mortensen , jorge porcel what's shocking about \" carlito's way \" is how good it is . having gotten a bit of a bad rap for not being a big box office hit like pacino's previous film , \" scent of a woman , \" and not having as strong a performance as he did in that one ( he had just won an oscar ) , \" carlito's way \" was destined for underrated heaven . that's what it is : an underrated gem of a movie . and what a shame because pacino and de palma both do amazing jobs with it , and turn it into a great piece of a pulpy character study . \" carlito's way \" deals with , well , carlito brigante ( pacino ) , a puerto rican ex-drug kingpin , who gets out of a long jailterm when his coke-addicted , curly-haired lawyer ( sean penn ) points out a legal technicality . of course , carlito was actually awoken in prison , and has decided to go straight , even if he's really a crook at heart . carlito , like barry lyndon , is a man who is trapped by fate at every turn , and can't escape into something he is not . carlito's attempts at a clean , legal life are thwarted at nearly every turn . when he first gets out , a friend of his ends up leading him into a big shoot-out , where he has to kill a couple people to survive . he's constantly getting bugged by the government to see if he's doing anything illegal , and his lawyer finds himself neck-deep in a pile of shit , needing him to try and help him out , which includes him doing some prison breaking . carlito , like ratso rizzo , wants to go to miami ( since , according to film logic , that's where it's at ) , but needs some funding . being a legend , he is quickly able to get a nice job running a big dance club ( this is the 70s , by the way , and since some of this takes place in night clubs , we get to hear all sorts of 70s classics , including several k . c . and the sunshine band tunes - my personal favorite ) . he gets a bodyguard ( the great luis guzman , at his best ) , and is soon running a pretty good business , even if he's constantly attracting underworld young thugs , like benny blanco \" from the bronx \" ( john leguiziamo ) , who is more than once pointed out to be a young version of carlito . on the other side , the symbol of promise and hope , is gail ( penelope ann miller - what happened to her ? ) , his girlfriend from before prison . she's a goregeous ballerina , and a stripper , and soon carlito is trying to get back with her , and take her with him when he finally leaves for miami . while this relationship is never fully defined or anything , we get a sense of love between them , and they have some truly interesting scenes between them ( she never gives him addresses or locales - he always has to track her down ) . all of these elements clash together at the end , in a brilliantly executed , emotional climax , which is inevitable . when i say inevitable , i mean we see it at the beginning and then backtrack , putting a great spin on it . sure , it's going to eleveate some of the tension , but it gives the film a lot of depth , as carlito is seen trapped by fate . what's amazing is the big chase sequence ( amazingly done by de palma ) has a lot of tension and thrills . like \" apollo 13 , \" we know what's going to happen , but we're still thrilled by what happens in the middle . it's also very emotional , thanks to a great script by david koepp , and amazing performances by pacino and miller . de palma is famous ( or infamous ) for lots of violence in his films . his earlier flim , \" scarface \" ( which starred pacino in the lead ) , has a ton of it , especially at the end ( and a nasty chainsaw scene towards the beginning which i'm still not over ) . but de palma actually reigns in more quieter scenes . to me , the best scene in the film is when carlito is on top of a building , looking down into the room where gail is doing ballet . this is the most brilliantly done , and most emotionally stimulating scene in the entire film , and probably the best in de palma film history . with a gorgeous soprano duet in the background , and rain pouring down onto a trashcan lid covering carlito's head , and a saddened , remorseful look on pacino's face , it's a tear-jerker ( well , for me , i dunno about you . . . ) . the acting from all is great , especially from the three leads . pacino was panned for his performance , chiefly because his accent wasn't puerto rican enough and , well , it wasn't as \" strong \" as his oscar-winning role in \" scent of a woman . \" well , his \" scent of a woman \" performance was great and all , but it was nothing really but , as comic kevin pollack said , a \" foghorn leghorn impression . \" in \" carlito's way , \" he's emotional , and strong , despite the fact that he's remorseful over his entire lifestyle , which he cannot change . i felt more for carlito brigante than i did for the tango-dancing , insult-throwing blind guy in \" scent of a woman . \" as i said , penelope ann miller is great , and she and pacino actually have very good chemistry . and they're scenes are well-written , with some good clever dialogue which adds some interest to an otherwise bland relationship . and sean penn is amazing as the coke-addicted rat attorney . every scene he's in , he has great energy , and even measures up to the greatness that is pacino . in smaller roles , john leguiziamo and luis guzman are great . \" carlito's way \" is one of those films which you heard about briefly , but when you finally watch it , you're absolutely blown away . it's a wonderful film , a highly underrated little masterpiece which was shelved after it didn't do so hot . but trust me and check it out . it's a great little film , and proof that the residential critics and mass populus are not always right . \n",
      "\n"
     ]
    }
   ],
   "source": [
    "review = open('cv001_tok-10180.txt', 'r')\n",
    "y = review.read()\n",
    "print(y)"
   ]
  },
  {
   "cell_type": "code",
   "execution_count": 16,
   "metadata": {},
   "outputs": [
    {
     "name": "stdout",
     "output_type": "stream",
     "text": [
      "director  brian de palma writer  david koepp  based on the novels  carlitos way  and  after hours  by edwin torres  starring  al pacino  sean penn  penelope ann miller  john leguiziamo  luis guzman  john rebhorn  viggio mortensen  jorge porcel whats shocking about  carlitos way  is how good it is  having gotten a bit of a bad rap for not being a big box office hit like pacinos previous film   scent of a woman   and not having as strong a performance as he did in that one  he had just won an oscar    carlitos way  was destined for underrated heaven  thats what it is  an underrated gem of a movie  and what a shame because pacino and de palma both do amazing jobs with it  and turn it into a great piece of a pulpy character study   carlitos way  deals with  well  carlito brigante  pacino   a puerto rican exdrug kingpin  who gets out of a long jailterm when his cokeaddicted  curlyhaired lawyer  sean penn  points out a legal technicality  of course  carlito was actually awoken in prison  and has decided to go straight  even if hes really a crook at heart  carlito  like barry lyndon  is a man who is trapped by fate at every turn  and cant escape into something he is not  carlitos attempts at a clean  legal life are thwarted at nearly every turn  when he first gets out  a friend of his ends up leading him into a big shootout  where he has to kill a couple people to survive  hes constantly getting bugged by the government to see if hes doing anything illegal  and his lawyer finds himself neckdeep in a pile of shit  needing him to try and help him out  which includes him doing some prison breaking  carlito  like ratso rizzo  wants to go to miami  since  according to film logic  thats where its at   but needs some funding  being a legend  he is quickly able to get a nice job running a big dance club  this is the 70s  by the way  and since some of this takes place in night clubs  we get to hear all sorts of 70s classics  including several k  c  and the sunshine band tunes  my personal favorite   he gets a bodyguard  the great luis guzman  at his best   and is soon running a pretty good business  even if hes constantly attracting underworld young thugs  like benny blanco  from the bronx   john leguiziamo   who is more than once pointed out to be a young version of carlito  on the other side  the symbol of promise and hope  is gail  penelope ann miller  what happened to her    his girlfriend from before prison  shes a goregeous ballerina  and a stripper  and soon carlito is trying to get back with her  and take her with him when he finally leaves for miami  while this relationship is never fully defined or anything  we get a sense of love between them  and they have some truly interesting scenes between them  she never gives him addresses or locales  he always has to track her down   all of these elements clash together at the end  in a brilliantly executed  emotional climax  which is inevitable  when i say inevitable  i mean we see it at the beginning and then backtrack  putting a great spin on it  sure  its going to eleveate some of the tension  but it gives the film a lot of depth  as carlito is seen trapped by fate  whats amazing is the big chase sequence  amazingly done by de palma  has a lot of tension and thrills  like  apollo 13   we know whats going to happen  but were still thrilled by what happens in the middle  its also very emotional  thanks to a great script by david koepp  and amazing performances by pacino and miller  de palma is famous  or infamous  for lots of violence in his films  his earlier flim   scarface   which starred pacino in the lead   has a ton of it  especially at the end  and a nasty chainsaw scene towards the beginning which im still not over   but de palma actually reigns in more quieter scenes  to me  the best scene in the film is when carlito is on top of a building  looking down into the room where gail is doing ballet  this is the most brilliantly done  and most emotionally stimulating scene in the entire film  and probably the best in de palma film history  with a gorgeous soprano duet in the background  and rain pouring down onto a trashcan lid covering carlitos head  and a saddened  remorseful look on pacinos face  its a tearjerker  well  for me  i dunno about you      the acting from all is great  especially from the three leads  pacino was panned for his performance  chiefly because his accent wasnt puerto rican enough and  well  it wasnt as  strong  as his oscarwinning role in  scent of a woman   well  his  scent of a woman  performance was great and all  but it was nothing really but  as comic kevin pollack said  a  foghorn leghorn impression   in  carlitos way   hes emotional  and strong  despite the fact that hes remorseful over his entire lifestyle  which he cannot change  i felt more for carlito brigante than i did for the tangodancing  insultthrowing blind guy in  scent of a woman   as i said  penelope ann miller is great  and she and pacino actually have very good chemistry  and theyre scenes are wellwritten  with some good clever dialogue which adds some interest to an otherwise bland relationship  and sean penn is amazing as the cokeaddicted rat attorney  every scene hes in  he has great energy  and even measures up to the greatness that is pacino  in smaller roles  john leguiziamo and luis guzman are great   carlitos way  is one of those films which you heard about briefly  but when you finally watch it  youre absolutely blown away  its a wonderful film  a highly underrated little masterpiece which was shelved after it didnt do so hot  but trust me and check it out  its a great little film  and proof that the residential critics and mass populus are not always right  \n",
      "\n"
     ]
    }
   ],
   "source": [
    "#Remove special characters\n",
    "import re\n",
    "y = re.sub(r'[^\\w\\s]','',y)\n",
    "print(y)"
   ]
  },
  {
   "cell_type": "code",
   "execution_count": 15,
   "metadata": {},
   "outputs": [
    {
     "name": "stdout",
     "output_type": "stream",
     "text": [
      "No of Words :  1235\n",
      "No of Characters 5715\n"
     ]
    }
   ],
   "source": [
    "print('No of Words : ',len(str(y).split(' '))) # No of words\n",
    "print('No of Characters',len(y)) #No of Characters"
   ]
  },
  {
   "cell_type": "code",
   "execution_count": 25,
   "metadata": {},
   "outputs": [
    {
     "name": "stdout",
     "output_type": "stream",
     "text": [
      "new out put is : director brian de palma writer david koepp based novels carlitos way hours edwin torres starring al pacino sean penn penelope ann miller john leguiziamo luis guzman john rebhorn viggio mortensen jorge porcel whats shocking carlitos way good gotten bit bad rap big box office hit like pacinos previous film scent woman strong performance one oscar carlitos way destined underrated heaven thats underrated gem movie shame pacino de palma amazing jobs turn great piece pulpy character study carlitos way deals well carlito brigante pacino puerto rican exdrug kingpin gets long jailterm cokeaddicted curlyhaired lawyer sean penn points legal technicality course carlito actually awoken prison decided go straight even hes really crook heart carlito like barry lyndon man trapped fate every turn cant escape something carlitos attempts clean legal life thwarted nearly every turn first gets friend ends leading big shootout kill couple people survive hes constantly getting bugged government see hes anything illegal lawyer finds neckdeep pile shit needing try help includes prison breaking carlito like ratso rizzo wants go miami since according film logic thats needs funding legend quickly able get nice job running big dance club 70s way since takes place night clubs get hear sorts 70s classics including several k c sunshine band tunes personal favorite gets bodyguard great luis guzman best soon running pretty good business even hes constantly attracting underworld young thugs like benny blanco bronx john leguiziamo pointed young version carlito side symbol promise hope gail penelope ann miller happened girlfriend prison shes goregeous ballerina stripper soon carlito trying get back take finally leaves miami relationship never fully defined anything get sense love truly interesting scenes never gives addresses locales always track elements clash together end brilliantly executed emotional climax inevitable say inevitable mean see beginning backtrack putting great spin sure going eleveate tension gives film lot depth carlito seen trapped fate whats amazing big chase sequence amazingly done de palma lot tension thrills like apollo 13 know whats going happen still thrilled happens middle also emotional thanks great script david koepp amazing performances pacino miller de palma famous infamous lots violence films earlier flim scarface starred pacino lead ton especially end nasty chainsaw scene towards beginning im still de palma actually reigns quieter scenes best scene film carlito top building looking room gail ballet brilliantly done emotionally stimulating scene entire film probably best de palma film history gorgeous soprano duet background rain pouring onto trashcan lid covering carlitos head saddened remorseful look pacinos face tearjerker well dunno acting great especially three leads pacino panned performance chiefly accent wasnt puerto rican enough well wasnt strong oscarwinning role scent woman well scent woman performance great nothing really comic kevin pollack said foghorn leghorn impression carlitos way hes emotional strong despite fact hes remorseful entire lifestyle cannot change felt carlito brigante tangodancing insultthrowing blind guy scent woman said penelope ann miller great pacino actually good chemistry theyre scenes wellwritten good clever dialogue adds interest otherwise bland relationship sean penn amazing cokeaddicted rat attorney every scene hes great energy even measures greatness pacino smaller roles john leguiziamo luis guzman great carlitos way one films heard briefly finally watch youre absolutely blown away wonderful film highly underrated little masterpiece shelved didnt hot trust check great little film proof residential critics mass populus always right \n"
     ]
    }
   ],
   "source": [
    "#Removing Stop Words\n",
    "from nltk.corpus import stopwords\n",
    "stop = stopwords.words('english')\n",
    "\n",
    "j = ''\n",
    "for x in y.split():\n",
    "    if x not in stop:\n",
    "        j = j+x+' '\n",
    "print('new out put is :',j)"
   ]
  },
  {
   "cell_type": "code",
   "execution_count": 26,
   "metadata": {},
   "outputs": [
    {
     "name": "stdout",
     "output_type": "stream",
     "text": [
      "No of Words :  546\n",
      "No of Characters 3736\n"
     ]
    }
   ],
   "source": [
    "print('No of Words : ',len(str(j).split(' '))) # No of words\n",
    "print('No of Characters',len(j)) #No of Characters"
   ]
  },
  {
   "cell_type": "code",
   "execution_count": 28,
   "metadata": {},
   "outputs": [
    {
     "name": "stdout",
     "output_type": "stream",
     "text": [
      "Sentiment(polarity=0.24351731601731602, subjectivity=0.5913512105178771)\n"
     ]
    }
   ],
   "source": [
    "print(TextBlob(j).sentiment)"
   ]
  },
  {
   "cell_type": "code",
   "execution_count": null,
   "metadata": {},
   "outputs": [],
   "source": []
  }
 ],
 "metadata": {
  "kernelspec": {
   "display_name": "Python 3",
   "language": "python",
   "name": "python3"
  },
  "language_info": {
   "codemirror_mode": {
    "name": "ipython",
    "version": 3
   },
   "file_extension": ".py",
   "mimetype": "text/x-python",
   "name": "python",
   "nbconvert_exporter": "python",
   "pygments_lexer": "ipython3",
   "version": "3.7.4"
  }
 },
 "nbformat": 4,
 "nbformat_minor": 2
}
