{
 "cells": [
  {
   "cell_type": "markdown",
   "metadata": {},
   "source": [
    "# PROBABILITY DISTRIBUTION"
   ]
  },
  {
   "cell_type": "code",
   "execution_count": 1,
   "metadata": {},
   "outputs": [
    {
     "name": "stdout",
     "output_type": "stream",
     "text": [
      "Prob of ZERO coustomers buying : 0.3430\n",
      "Prob of ONE coustomers buying : 0.4410\n",
      "Prob of TWO coustomers buying : 0.1890\n",
      "Prob of THREE coustomers buying : 0.0270\n"
     ]
    }
   ],
   "source": [
    "#Binomial Distribution \n",
    "#p = prob of success for each trial \n",
    "#n = total no. of trial\n",
    "#k = no. of success expected\n",
    "#binom.pmf(k,n,p)\n",
    "\n",
    "from scipy.stats import binom\n",
    "p0 = binom.pmf(0,3,0.3)\n",
    "p1 = binom.pmf(1,3,0.3)\n",
    "p2 = binom.pmf(2,3,0.3)\n",
    "p3 = binom.pmf(3,3,0.3)\n",
    "\n",
    "\n",
    "print('Prob of ZERO coustomers buying : %2.4f' %(p0))\n",
    "print('Prob of ONE coustomers buying : %2.4f' %(p1))\n",
    "print('Prob of TWO coustomers buying : %2.4f' %(p2))\n",
    "print('Prob of THREE coustomers buying : %0.4f' %(p3))"
   ]
  },
  {
   "cell_type": "code",
   "execution_count": 5,
   "metadata": {},
   "outputs": [
    {
     "name": "stdout",
     "output_type": "stream",
     "text": [
      "Prob of ZERO coustomers buying : 0.3430\n",
      "Prob of ONE coustomers buying : 0.7840\n",
      "Prob of TWO coustomers buying : 0.9730\n",
      "Prob of THREE coustomers buying : 1.0000\n"
     ]
    }
   ],
   "source": [
    "#Cumulative probability\n",
    "c0 = binom.cdf(0,3,0.3)\n",
    "c1 = binom.cdf(1,3,0.3)\n",
    "c2 = binom.cdf(2,3,0.3)\n",
    "c3 = binom.cdf(3,3,0.3)\n",
    "\n",
    "print('Prob of ZERO coustomers buying : %2.4f' %(c0))\n",
    "print('Prob of ONE coustomers buying : %2.4f' %(c1))\n",
    "print('Prob of TWO coustomers buying : %2.4f' %(c2))\n",
    "print('Prob of THREE coustomers buying : %2.4f' %(c3))"
   ]
  },
  {
   "cell_type": "code",
   "execution_count": 7,
   "metadata": {},
   "outputs": [
    {
     "name": "stdout",
     "output_type": "stream",
     "text": [
      "Prob of FIFTEEN coustomers buying : 0.00000000000000036611\n",
      "Prob of more than FIFTEEN coustomers buying : 0.99999999999999988898\n"
     ]
    }
   ],
   "source": [
    "p15 = binom.pmf(15,20,0.05)\n",
    "print('Prob of FIFTEEN coustomers buying : %2.20f' %(p15))\n",
    "\n",
    "c15 = binom.cdf(15,20,0.05) \n",
    "print('Prob of more than FIFTEEN coustomers buying : %2.20f' %(c15))"
   ]
  },
  {
   "cell_type": "code",
   "execution_count": 19,
   "metadata": {},
   "outputs": [
    {
     "name": "stdout",
     "output_type": "stream",
     "text": [
      "Prob of FIFTEEN coustomers buying : 0.99999810859879900704\n"
     ]
    }
   ],
   "source": [
    "c52 = binom.cdf(52,80,0.4)\n",
    "print('Prob of FIFTEEN coustomers buying : %2.20f' %(c52))"
   ]
  },
  {
   "cell_type": "code",
   "execution_count": 6,
   "metadata": {},
   "outputs": [],
   "source": [
    "#c8 = \n",
    "#1- c8 ---> more than 8 purchases will be made"
   ]
  },
  {
   "cell_type": "code",
   "execution_count": 3,
   "metadata": {},
   "outputs": [
    {
     "name": "stdout",
     "output_type": "stream",
     "text": [
      "Prob of 5 customers will buy life insurance :0.02723174275324604862\n",
      "Prob of not more than 10 customers will buy life insurance :0.58390407802878963039\n",
      "Prob of atleast 20 customers will buy life insurance :0.00017485408580453221\n",
      "Mean : 10.0000\n",
      "Standard deviation : 2.738612788\n"
     ]
    }
   ],
   "source": [
    "import math #---> import math library to perform complex arithmetic operations such as determinig square root\n",
    "\n",
    "#probability exactly 3 coustomers will buy insurance from the agent\n",
    "p5 = binom.pmf(5,40,0.25)\n",
    "print('Prob of 5 customers will buy life insurance :%2.20f' %(p5))\n",
    "\n",
    "#probability that not more than 10 coustomers will buy insurance from the agent\n",
    "c10 = binom.cdf(10,40,0.25)\n",
    "print('Prob of not more than 10 customers will buy life insurance :%2.20f' %(c10))\n",
    "\n",
    "#probability that atleast 20 coustomers will buy insurance from the agent\n",
    "c20 = 1-binom.cdf(20,40,0.25)\n",
    "print('Prob of atleast 20 customers will buy life insurance :%2.20f' %(c20))\n",
    "\n",
    "#Mean = n*p\n",
    "Mean = 40*0.25\n",
    "print('Mean : %2.4f'%Mean)\n",
    "\n",
    "#Variance = n*p*q ; q = 1-p\n",
    "Var = 40*0.25*0.75\n",
    "\n",
    "#Standard_Deviation =  sqrt(Variance)\n",
    "StD = math.sqrt(Var) \n",
    "print('Standard deviation : %2.9f' %StD)"
   ]
  },
  {
   "cell_type": "markdown",
   "metadata": {},
   "source": [
    "## 27 NOVEMBER 2019"
   ]
  },
  {
   "cell_type": "code",
   "execution_count": 5,
   "metadata": {},
   "outputs": [
    {
     "name": "stdout",
     "output_type": "stream",
     "text": [
      "Prob of exact FIVE cars arriving : 0.0378\n",
      "Prob of exact FIVE or less cars arriving : 0.0671\n"
     ]
    }
   ],
   "source": [
    "#Poisson Distribution\n",
    "#on an average 10 cars arrive in 15 minuter\n",
    "#prob that exactly 5 cars will arive in 15 minutes\n",
    "\n",
    "from scipy.stats import poisson\n",
    "p0 = poisson.pmf(5,10)\n",
    "print('Prob of exact FIVE cars arriving : %2.4f' %(p0))\n",
    "\n",
    "c0 = poisson.cdf(5,10)\n",
    "print('Prob of exact FIVE or less cars arriving : %2.4f' %(c0))"
   ]
  },
  {
   "cell_type": "code",
   "execution_count": 2,
   "metadata": {},
   "outputs": [
    {
     "name": "stdout",
     "output_type": "stream",
     "text": [
      "Prob of exact TEN cars arriving : 0.1251\n",
      "Prob of exact TEN of less cars arriving : 0.5830\n"
     ]
    }
   ],
   "source": [
    "#prob that exactly 10 cars will arive in 15 minutes\n",
    "from scipy.stats import poisson\n",
    "p0 = poisson.pmf(10,10)\n",
    "print('Prob of exact TEN cars arriving : %2.4f' %(p0))\n",
    "\n",
    "c0 = poisson.cdf(10,10)\n",
    "print('Prob of exact TEN of less cars arriving : %2.4f' %(c0))"
   ]
  },
  {
   "cell_type": "code",
   "execution_count": 10,
   "metadata": {},
   "outputs": [
    {
     "name": "stdout",
     "output_type": "stream",
     "text": [
      "0.037836313039520945\n"
     ]
    }
   ],
   "source": [
    "import math\n",
    "x =((10**5)*(2.71826)**-10)/math.factorial(5)\n",
    "print(x)"
   ]
  },
  {
   "cell_type": "code",
   "execution_count": 3,
   "metadata": {},
   "outputs": [
    {
     "name": "stdout",
     "output_type": "stream",
     "text": [
      "Prob of exact TEN cars arriving : 0.0378\n"
     ]
    }
   ],
   "source": [
    "print('Prob of exact TEN cars arriving : %2.4f' %(poisson.pmf(5,10)))"
   ]
  },
  {
   "cell_type": "code",
   "execution_count": 4,
   "metadata": {},
   "outputs": [
    {
     "name": "stdout",
     "output_type": "stream",
     "text": [
      "Prob of exact TEN cars arriving : 0.0378\n"
     ]
    }
   ],
   "source": [
    "from scipy.stats import poisson\n",
    "p0 = poisson.pmf(5,10)\n",
    "print('Prob of exact TEN cars arriving : %2.4f' %(p0))"
   ]
  },
  {
   "cell_type": "code",
   "execution_count": 12,
   "metadata": {},
   "outputs": [
    {
     "name": "stdout",
     "output_type": "stream",
     "text": [
      "Prob of exact FIVE accident : 0.0127\n",
      "Prob of not more than TWELVE accident: 0.5760\n",
      "Prob atleast 15 accidents: 0.2280\n",
      "Prob of accidents 10 and 15 : 0.6020\n"
     ]
    }
   ],
   "source": [
    "#probability of observing 5 accidents at the plant during the comming year\n",
    "\n",
    "p5 = poisson.pmf(5,12)\n",
    "print('Prob of exact FIVE accident : %2.4f' %(p5))\n",
    "\n",
    "#probability of observing not more than 12 accidents at the plant during the comming year\n",
    "c12 = poisson.cdf(12,12)\n",
    "print('Prob of not more than TWELVE accident: %2.4f' %(c12))\n",
    "\n",
    "#probability of observing atleast 15 accidents at the plant during the comming year\n",
    "c15 = 1 - poisson.cdf(14,12)\n",
    "print('Prob atleast 15 accidents: %2.4f' %(c15))\n",
    "\n",
    "#probability of observing between  10 and 15 accidents (inclusive) at the plant during the comming year\n",
    "c10 = poisson.cdf(15,12)-poisson.cdf(9,12)  \n",
    "print('Prob of accidents 10 and 15 : %2.4f' %(c10))"
   ]
  },
  {
   "cell_type": "code",
   "execution_count": 2,
   "metadata": {},
   "outputs": [
    {
     "name": "stdout",
     "output_type": "stream",
     "text": [
      "Prob of female LESS than 58 inches  0.066807\n",
      "Prob of height for 60percent of female  65.013388\n"
     ]
    }
   ],
   "source": [
    "#height of American Female\n",
    "#mean 64 and std 4\n",
    "\n",
    "from scipy.stats import norm\n",
    "mu, sigma = 64,4\n",
    "\n",
    "#probablilty of finding women less than 58 inches tall\n",
    "p58 = norm.cdf(58,mu,sigma)\n",
    "print('Prob of female LESS than 58 inches  %f' %(p58))\n",
    "\n",
    "# probability of find the height where 60% of female are covered\n",
    "\n",
    "p60 = norm.ppf(0.60,mu,sigma)\n",
    "print('Prob of height for 60percent of female  %f' %(p60))"
   ]
  },
  {
   "cell_type": "code",
   "execution_count": 11,
   "metadata": {},
   "outputs": [
    {
     "name": "stdout",
     "output_type": "stream",
     "text": [
      "Prob of american males weight more than 225 llb  0.066807\n"
     ]
    }
   ],
   "source": [
    "from scipy.stats import norm\n",
    "mu, sigma = 180,30\n",
    "\n",
    "#probablilty of finding american males weight more than 225 llb\n",
    "p225 =1 - norm.cdf(225,mu,sigma)\n",
    "print('Prob of american males weight more than 225 llb  %f' %(p225))"
   ]
  },
  {
   "cell_type": "code",
   "execution_count": 8,
   "metadata": {},
   "outputs": [],
   "source": [
    "from scipy.stats import norm\n",
    "mu, sigma = 0 ,1\n",
    "p60 = norm.ppf(0.95,mu,sigma)"
   ]
  },
  {
   "cell_type": "code",
   "execution_count": 9,
   "metadata": {},
   "outputs": [
    {
     "data": {
      "text/plain": [
       "1.6448536269514722"
      ]
     },
     "execution_count": 9,
     "metadata": {},
     "output_type": "execute_result"
    }
   ],
   "source": [
    "p60"
   ]
  },
  {
   "cell_type": "markdown",
   "metadata": {},
   "source": [
    "## 11/12/2019"
   ]
  },
  {
   "cell_type": "code",
   "execution_count": 3,
   "metadata": {},
   "outputs": [
    {
     "data": {
      "text/plain": [
       "-1.6448536269514729"
      ]
     },
     "execution_count": 3,
     "metadata": {},
     "output_type": "execute_result"
    }
   ],
   "source": [
    "norm.ppf(0.05)"
   ]
  },
  {
   "cell_type": "code",
   "execution_count": 2,
   "metadata": {},
   "outputs": [
    {
     "name": "stdout",
     "output_type": "stream",
     "text": [
      "|    |        z |   Confidence Interval lower  |   Confidence Interval upper  |          E |\n",
      "|----|----------|------------------------------|------------------------------|------------|\n",
      "| 90 | -1.64485 |                      2.78658 |                      2.63342 | -0.0765785 |\n",
      "| 95 | -1.95996 |                      2.80125 |                      2.61875 | -0.0912489 |\n",
      "| 98 | -2.32635 |                      2.78658 |                      2.63342 | -0.108306  |\n"
     ]
    }
   ],
   "source": [
    "from scipy.stats import norm\n",
    "import math\n",
    "import pandas\n",
    "\n",
    "mu,sigma = 2.71, 0.51\n",
    "n = 120\n",
    "\n",
    "#for confidence 90% \n",
    "z90 = norm.ppf(0.05)\n",
    "CI90l = (mu - z90*(sigma/math.sqrt(n)))\n",
    "CI90u = (mu + z90*(sigma/math.sqrt(n)))\n",
    "E90 = z90*(sigma/math.sqrt(n)) \n",
    "\n",
    "\n",
    "#for confidence 95% \n",
    "z95 = norm.ppf(0.025)\n",
    "CI95l = (mu - z95*(sigma/math.sqrt(n)))\n",
    "CI95u = (mu + z95*(sigma/math.sqrt(n)))\n",
    "E95 = z95*(sigma/math.sqrt(n)) \n",
    "\n",
    "\n",
    "#for confidence 98% \n",
    "z98 = norm.ppf(0.01)\n",
    "CI98l = (mu - z90*(sigma/math.sqrt(n)))\n",
    "CI98u = (mu + z90*(sigma/math.sqrt(n)))\n",
    "E98 = z98*(sigma/math.sqrt(n)) \n",
    "\n",
    "\n",
    "\n",
    "import pandas as pd\n",
    "from tabulate import tabulate\n",
    "data = {'z':[z90,z95,z98], 'Confidence Interval lower ': [CI90l,CI95l,CI98l],'Confidence Interval upper ': [CI90u,CI95u,CI98u], 'E' : [E90,E95,E98]}  # ----> Dictionary\n",
    "df = pd.DataFrame(data,index = ['90','95','98'])\n",
    "print(tabulate(df,headers='keys',tablefmt=\"github\"))"
   ]
  },
  {
   "cell_type": "code",
   "execution_count": 23,
   "metadata": {},
   "outputs": [
    {
     "name": "stdout",
     "output_type": "stream",
     "text": [
      "-1.6448536269514729\n",
      "12.997724816125036\n",
      "12.602275183874966\n",
      "-0.1977248161250346\n",
      "\n"
     ]
    }
   ],
   "source": [
    "import math\n",
    "\n",
    "mu,sigma = 12.8 , 1.7\n",
    "n = 200\n",
    "\n",
    "#for confidence 90% \n",
    "z90 = norm.ppf(0.05)\n",
    "CI900 = (mu - z90*(sigma/math.sqrt(n)))\n",
    "CI901 = (mu + z90*(sigma/math.sqrt(n)))\n",
    "E90 = z90*(sigma/math.sqrt(n)) \n",
    "print('{}\\n{}\\n{}\\n{}\\n'.format(z90,CI900,CI901,E90))\n"
   ]
  },
  {
   "cell_type": "markdown",
   "metadata": {},
   "source": [
    "## 12/12/2019"
   ]
  },
  {
   "cell_type": "code",
   "execution_count": 8,
   "metadata": {},
   "outputs": [],
   "source": [
    "from scipy.stats import norm\n"
   ]
  },
  {
   "cell_type": "code",
   "execution_count": 9,
   "metadata": {},
   "outputs": [],
   "source": [
    "x = norm.ppf(0.15)"
   ]
  },
  {
   "cell_type": "code",
   "execution_count": 10,
   "metadata": {},
   "outputs": [
    {
     "data": {
      "text/plain": [
       "-0.09461299112954775"
      ]
     },
     "execution_count": 10,
     "metadata": {},
     "output_type": "execute_result"
    }
   ],
   "source": [
    "import math\n",
    "\n",
    "E = x/math.sqrt(120)\n",
    " "
   ]
  },
  {
   "cell_type": "code",
   "execution_count": 2,
   "metadata": {},
   "outputs": [
    {
     "data": {
      "text/plain": [
       "-2.1447866879169277"
      ]
     },
     "execution_count": 2,
     "metadata": {},
     "output_type": "execute_result"
    }
   ],
   "source": [
    "from scipy.stats import t\n",
    "import math\n",
    "\n",
    "mu,sigma = 35 , 14\n",
    "n = 15\n",
    "deg = n - 1\n",
    "\n",
    "#for confidence 95% \n",
    "t95 = t.ppf(0.025,deg)\n",
    "t95"
   ]
  },
  {
   "cell_type": "code",
   "execution_count": 4,
   "metadata": {},
   "outputs": [
    {
     "name": "stdout",
     "output_type": "stream",
     "text": [
      "-2.1447866879169277\n",
      "42.752941581904985\n",
      "27.247058418095015\n",
      "-7.752941581904984\n",
      "\n"
     ]
    }
   ],
   "source": [
    "CI95l = (mu - t95*(deg/math.sqrt(n)))\n",
    "CI95u = (mu + t95*(deg/math.sqrt(n)))\n",
    "E95 = t95*(deg/math.sqrt(n)) \n",
    "print('{}\\n{}\\n{}\\n{}\\n'.format(t95,CI95l,CI95u,E95))"
   ]
  },
  {
   "cell_type": "code",
   "execution_count": 3,
   "metadata": {},
   "outputs": [
    {
     "name": "stdout",
     "output_type": "stream",
     "text": [
      "Help on method ppf in module scipy.stats._distn_infrastructure:\n",
      "\n",
      "ppf(q, *args, **kwds) method of scipy.stats._continuous_distns.t_gen instance\n",
      "    Percent point function (inverse of `cdf`) at q of the given RV.\n",
      "    \n",
      "    Parameters\n",
      "    ----------\n",
      "    q : array_like\n",
      "        lower tail probability\n",
      "    arg1, arg2, arg3,... : array_like\n",
      "        The shape parameter(s) for the distribution (see docstring of the\n",
      "        instance object for more information)\n",
      "    loc : array_like, optional\n",
      "        location parameter (default=0)\n",
      "    scale : array_like, optional\n",
      "        scale parameter (default=1)\n",
      "    \n",
      "    Returns\n",
      "    -------\n",
      "    x : array_like\n",
      "        quantile corresponding to the lower tail probability q.\n",
      "\n"
     ]
    }
   ],
   "source": [
    "help(t.ppf)"
   ]
  },
  {
   "cell_type": "code",
   "execution_count": 1,
   "metadata": {},
   "outputs": [],
   "source": [
    "from scipy.stats import norm\n",
    "\n",
    "alpha = norm.ppf(0.1) "
   ]
  },
  {
   "cell_type": "code",
   "execution_count": 2,
   "metadata": {},
   "outputs": [
    {
     "data": {
      "text/plain": [
       "-1.2815515655446004"
      ]
     },
     "execution_count": 2,
     "metadata": {},
     "output_type": "execute_result"
    }
   ],
   "source": [
    "alpha"
   ]
  },
  {
   "cell_type": "code",
   "execution_count": 9,
   "metadata": {},
   "outputs": [],
   "source": [
    "alpha1 = norm.ppf(0.05) "
   ]
  },
  {
   "cell_type": "code",
   "execution_count": 10,
   "metadata": {},
   "outputs": [
    {
     "data": {
      "text/plain": [
       "-1.6448536269514729"
      ]
     },
     "execution_count": 10,
     "metadata": {},
     "output_type": "execute_result"
    }
   ],
   "source": [
    "alpha1"
   ]
  },
  {
   "cell_type": "code",
   "execution_count": null,
   "metadata": {},
   "outputs": [],
   "source": []
  }
 ],
 "metadata": {
  "kernelspec": {
   "display_name": "Python 3",
   "language": "python",
   "name": "python3"
  },
  "language_info": {
   "codemirror_mode": {
    "name": "ipython",
    "version": 3
   },
   "file_extension": ".py",
   "mimetype": "text/x-python",
   "name": "python",
   "nbconvert_exporter": "python",
   "pygments_lexer": "ipython3",
   "version": "3.7.4"
  }
 },
 "nbformat": 4,
 "nbformat_minor": 2
}
