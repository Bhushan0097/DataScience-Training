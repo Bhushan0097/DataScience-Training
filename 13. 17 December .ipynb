{
 "cells": [
  {
   "cell_type": "code",
   "execution_count": 8,
   "metadata": {
    "scrolled": true
   },
   "outputs": [
    {
     "name": "stdout",
     "output_type": "stream",
     "text": [
      "<class 'pandas.core.frame.DataFrame'>\n",
      "RangeIndex: 25 entries, 0 to 24\n",
      "Data columns (total 3 columns):\n",
      "Company     25 non-null object\n",
      "Current     25 non-null float64\n",
      "Previous    25 non-null float64\n",
      "dtypes: float64(2), object(1)\n",
      "memory usage: 728.0+ bytes\n"
     ]
    },
    {
     "data": {
      "image/png": "[encoded data removed]",
      "text/plain": [
       "<Figure size 432x288 with 1 Axes>"
      ]
     },
     "metadata": {
      "needs_background": "light"
     },
     "output_type": "display_data"
    }
   ],
   "source": [
    "#Example to test mean using paired test\n",
    "#Compare earning of two quarters from MF\n",
    "#dataset Earnings2005\n",
    "\n",
    "import numpy as np\n",
    "import pandas as pd\n",
    "import matplotlib\n",
    "\n",
    "df = pd.read_csv(\"E:\\\\Python\\\\Earnings2005.csv\")\n",
    "df.info()\n",
    "boxplot = df.boxplot(column = [\"Current\", \"Previous\"])"
   ]
  },
  {
   "cell_type": "code",
   "execution_count": 11,
   "metadata": {},
   "outputs": [
    {
     "name": "stdout",
     "output_type": "stream",
     "text": [
      "Values of t: 3.8891\n",
      "Values of p:0.0007 \n",
      "Mean of Current: 0.5467999999999998\n",
      "Mean of Previous: 0.3404\n"
     ]
    }
   ],
   "source": [
    "from scipy import stats\n",
    "t,p = stats.ttest_rel(df.Current,df.Previous)\n",
    "print(\"Values of t: %2.4f\"%t)\n",
    "print(\"Values of p:%2.4f \"%p)\n",
    "print(\"Mean of Current:\"%(df[\"Current\"].mean())\n",
    "print(\"Mean of Previous:%\"(df[\"Previous\"].mean())"
   ]
  },
  {
   "cell_type": "code",
   "execution_count": null,
   "metadata": {},
   "outputs": [],
   "source": []
  }
 ],
 "metadata": {
  "kernelspec": {
   "display_name": "Python 3",
   "language": "python",
   "name": "python3"
  },
  "language_info": {
   "codemirror_mode": {
    "name": "ipython",
    "version": 3
   },
   "file_extension": ".py",
   "mimetype": "text/x-python",
   "name": "python",
   "nbconvert_exporter": "python",
   "pygments_lexer": "ipython3",
   "version": "3.7.4"
  }
 },
 "nbformat": 4,
 "nbformat_minor": 2
}
