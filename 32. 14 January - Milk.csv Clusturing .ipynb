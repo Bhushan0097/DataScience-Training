{
 "cells": [
  {
   "cell_type": "code",
   "execution_count": 29,
   "metadata": {},
   "outputs": [],
   "source": [
    "import pandas  as pd\n",
    "milk = pd.read_csv('milk.csv')"
   ]
  },
  {
   "cell_type": "code",
   "execution_count": 30,
   "metadata": {},
   "outputs": [
    {
     "data": {
      "text/html": [
       "<div>\n",
       "<style scoped>\n",
       "    .dataframe tbody tr th:only-of-type {\n",
       "        vertical-align: middle;\n",
       "    }\n",
       "\n",
       "    .dataframe tbody tr th {\n",
       "        vertical-align: top;\n",
       "    }\n",
       "\n",
       "    .dataframe thead th {\n",
       "        text-align: right;\n",
       "    }\n",
       "</style>\n",
       "<table border=\"1\" class=\"dataframe\">\n",
       "  <thead>\n",
       "    <tr style=\"text-align: right;\">\n",
       "      <th></th>\n",
       "      <th>Animals</th>\n",
       "      <th>water</th>\n",
       "      <th>protein</th>\n",
       "      <th>fat</th>\n",
       "      <th>lactose</th>\n",
       "      <th>ash</th>\n",
       "    </tr>\n",
       "  </thead>\n",
       "  <tbody>\n",
       "    <tr>\n",
       "      <td>0</td>\n",
       "      <td>HORSE</td>\n",
       "      <td>90.1</td>\n",
       "      <td>2.6</td>\n",
       "      <td>1.0</td>\n",
       "      <td>6.9</td>\n",
       "      <td>0.35</td>\n",
       "    </tr>\n",
       "    <tr>\n",
       "      <td>1</td>\n",
       "      <td>ORANGUTAN</td>\n",
       "      <td>88.5</td>\n",
       "      <td>1.4</td>\n",
       "      <td>3.5</td>\n",
       "      <td>6.0</td>\n",
       "      <td>0.24</td>\n",
       "    </tr>\n",
       "    <tr>\n",
       "      <td>2</td>\n",
       "      <td>MONKEY</td>\n",
       "      <td>88.4</td>\n",
       "      <td>2.2</td>\n",
       "      <td>2.7</td>\n",
       "      <td>6.4</td>\n",
       "      <td>0.18</td>\n",
       "    </tr>\n",
       "    <tr>\n",
       "      <td>3</td>\n",
       "      <td>DONKEY</td>\n",
       "      <td>90.3</td>\n",
       "      <td>1.7</td>\n",
       "      <td>1.4</td>\n",
       "      <td>6.2</td>\n",
       "      <td>0.40</td>\n",
       "    </tr>\n",
       "    <tr>\n",
       "      <td>4</td>\n",
       "      <td>HIPPO</td>\n",
       "      <td>90.4</td>\n",
       "      <td>0.6</td>\n",
       "      <td>4.5</td>\n",
       "      <td>4.4</td>\n",
       "      <td>0.10</td>\n",
       "    </tr>\n",
       "    <tr>\n",
       "      <td>5</td>\n",
       "      <td>CAMEL</td>\n",
       "      <td>87.7</td>\n",
       "      <td>3.5</td>\n",
       "      <td>3.4</td>\n",
       "      <td>4.8</td>\n",
       "      <td>0.71</td>\n",
       "    </tr>\n",
       "    <tr>\n",
       "      <td>6</td>\n",
       "      <td>BISON</td>\n",
       "      <td>86.9</td>\n",
       "      <td>4.8</td>\n",
       "      <td>1.7</td>\n",
       "      <td>5.7</td>\n",
       "      <td>0.90</td>\n",
       "    </tr>\n",
       "    <tr>\n",
       "      <td>7</td>\n",
       "      <td>BUFFALO</td>\n",
       "      <td>82.1</td>\n",
       "      <td>5.9</td>\n",
       "      <td>7.9</td>\n",
       "      <td>4.7</td>\n",
       "      <td>0.78</td>\n",
       "    </tr>\n",
       "    <tr>\n",
       "      <td>8</td>\n",
       "      <td>GUINEA PIG</td>\n",
       "      <td>81.9</td>\n",
       "      <td>7.4</td>\n",
       "      <td>7.2</td>\n",
       "      <td>2.7</td>\n",
       "      <td>0.85</td>\n",
       "    </tr>\n",
       "    <tr>\n",
       "      <td>9</td>\n",
       "      <td>CAT</td>\n",
       "      <td>81.6</td>\n",
       "      <td>10.1</td>\n",
       "      <td>6.3</td>\n",
       "      <td>4.4</td>\n",
       "      <td>0.75</td>\n",
       "    </tr>\n",
       "    <tr>\n",
       "      <td>10</td>\n",
       "      <td>FOX</td>\n",
       "      <td>81.6</td>\n",
       "      <td>6.6</td>\n",
       "      <td>5.9</td>\n",
       "      <td>4.9</td>\n",
       "      <td>0.93</td>\n",
       "    </tr>\n",
       "    <tr>\n",
       "      <td>11</td>\n",
       "      <td>LLAMA</td>\n",
       "      <td>86.5</td>\n",
       "      <td>3.9</td>\n",
       "      <td>3.2</td>\n",
       "      <td>5.6</td>\n",
       "      <td>0.80</td>\n",
       "    </tr>\n",
       "    <tr>\n",
       "      <td>12</td>\n",
       "      <td>MULE</td>\n",
       "      <td>90.0</td>\n",
       "      <td>2.0</td>\n",
       "      <td>1.8</td>\n",
       "      <td>5.5</td>\n",
       "      <td>0.47</td>\n",
       "    </tr>\n",
       "    <tr>\n",
       "      <td>13</td>\n",
       "      <td>PIG</td>\n",
       "      <td>82.8</td>\n",
       "      <td>7.1</td>\n",
       "      <td>5.1</td>\n",
       "      <td>3.7</td>\n",
       "      <td>1.10</td>\n",
       "    </tr>\n",
       "    <tr>\n",
       "      <td>14</td>\n",
       "      <td>ZEBRA</td>\n",
       "      <td>86.2</td>\n",
       "      <td>3.0</td>\n",
       "      <td>4.8</td>\n",
       "      <td>5.3</td>\n",
       "      <td>0.70</td>\n",
       "    </tr>\n",
       "    <tr>\n",
       "      <td>15</td>\n",
       "      <td>SHEEP</td>\n",
       "      <td>82.0</td>\n",
       "      <td>5.6</td>\n",
       "      <td>6.4</td>\n",
       "      <td>4.7</td>\n",
       "      <td>0.91</td>\n",
       "    </tr>\n",
       "    <tr>\n",
       "      <td>16</td>\n",
       "      <td>DOG</td>\n",
       "      <td>76.3</td>\n",
       "      <td>9.3</td>\n",
       "      <td>9.5</td>\n",
       "      <td>3.0</td>\n",
       "      <td>1.20</td>\n",
       "    </tr>\n",
       "    <tr>\n",
       "      <td>17</td>\n",
       "      <td>ELEPHANT</td>\n",
       "      <td>70.7</td>\n",
       "      <td>3.6</td>\n",
       "      <td>17.6</td>\n",
       "      <td>5.6</td>\n",
       "      <td>0.63</td>\n",
       "    </tr>\n",
       "    <tr>\n",
       "      <td>18</td>\n",
       "      <td>RABBIT</td>\n",
       "      <td>71.3</td>\n",
       "      <td>12.3</td>\n",
       "      <td>13.1</td>\n",
       "      <td>1.9</td>\n",
       "      <td>2.30</td>\n",
       "    </tr>\n",
       "    <tr>\n",
       "      <td>19</td>\n",
       "      <td>RAT</td>\n",
       "      <td>72.5</td>\n",
       "      <td>9.2</td>\n",
       "      <td>12.6</td>\n",
       "      <td>3.3</td>\n",
       "      <td>1.40</td>\n",
       "    </tr>\n",
       "    <tr>\n",
       "      <td>20</td>\n",
       "      <td>DEER</td>\n",
       "      <td>65.9</td>\n",
       "      <td>10.4</td>\n",
       "      <td>19.7</td>\n",
       "      <td>2.6</td>\n",
       "      <td>1.40</td>\n",
       "    </tr>\n",
       "    <tr>\n",
       "      <td>21</td>\n",
       "      <td>REINDEER</td>\n",
       "      <td>64.8</td>\n",
       "      <td>10.7</td>\n",
       "      <td>20.3</td>\n",
       "      <td>2.5</td>\n",
       "      <td>1.40</td>\n",
       "    </tr>\n",
       "    <tr>\n",
       "      <td>22</td>\n",
       "      <td>WHALE</td>\n",
       "      <td>64.8</td>\n",
       "      <td>11.1</td>\n",
       "      <td>21.2</td>\n",
       "      <td>1.6</td>\n",
       "      <td>1.70</td>\n",
       "    </tr>\n",
       "    <tr>\n",
       "      <td>23</td>\n",
       "      <td>SEAL</td>\n",
       "      <td>46.4</td>\n",
       "      <td>9.7</td>\n",
       "      <td>42.0</td>\n",
       "      <td>0.0</td>\n",
       "      <td>0.85</td>\n",
       "    </tr>\n",
       "    <tr>\n",
       "      <td>24</td>\n",
       "      <td>DOLPHIN</td>\n",
       "      <td>44.9</td>\n",
       "      <td>10.6</td>\n",
       "      <td>34.9</td>\n",
       "      <td>0.9</td>\n",
       "      <td>0.53</td>\n",
       "    </tr>\n",
       "  </tbody>\n",
       "</table>\n",
       "</div>"
      ],
      "text/plain": [
       "       Animals  water  protein   fat  lactose   ash\n",
       "0        HORSE   90.1      2.6   1.0      6.9  0.35\n",
       "1    ORANGUTAN   88.5      1.4   3.5      6.0  0.24\n",
       "2       MONKEY   88.4      2.2   2.7      6.4  0.18\n",
       "3       DONKEY   90.3      1.7   1.4      6.2  0.40\n",
       "4        HIPPO   90.4      0.6   4.5      4.4  0.10\n",
       "5        CAMEL   87.7      3.5   3.4      4.8  0.71\n",
       "6        BISON   86.9      4.8   1.7      5.7  0.90\n",
       "7      BUFFALO   82.1      5.9   7.9      4.7  0.78\n",
       "8   GUINEA PIG   81.9      7.4   7.2      2.7  0.85\n",
       "9          CAT   81.6     10.1   6.3      4.4  0.75\n",
       "10         FOX   81.6      6.6   5.9      4.9  0.93\n",
       "11       LLAMA   86.5      3.9   3.2      5.6  0.80\n",
       "12        MULE   90.0      2.0   1.8      5.5  0.47\n",
       "13         PIG   82.8      7.1   5.1      3.7  1.10\n",
       "14       ZEBRA   86.2      3.0   4.8      5.3  0.70\n",
       "15       SHEEP   82.0      5.6   6.4      4.7  0.91\n",
       "16         DOG   76.3      9.3   9.5      3.0  1.20\n",
       "17    ELEPHANT   70.7      3.6  17.6      5.6  0.63\n",
       "18      RABBIT   71.3     12.3  13.1      1.9  2.30\n",
       "19         RAT   72.5      9.2  12.6      3.3  1.40\n",
       "20        DEER   65.9     10.4  19.7      2.6  1.40\n",
       "21    REINDEER   64.8     10.7  20.3      2.5  1.40\n",
       "22       WHALE   64.8     11.1  21.2      1.6  1.70\n",
       "23        SEAL   46.4      9.7  42.0      0.0  0.85\n",
       "24     DOLPHIN   44.9     10.6  34.9      0.9  0.53"
      ]
     },
     "execution_count": 30,
     "metadata": {},
     "output_type": "execute_result"
    }
   ],
   "source": [
    "milk"
   ]
  },
  {
   "cell_type": "code",
   "execution_count": 31,
   "metadata": {},
   "outputs": [
    {
     "data": {
      "text/html": [
       "<div>\n",
       "<style scoped>\n",
       "    .dataframe tbody tr th:only-of-type {\n",
       "        vertical-align: middle;\n",
       "    }\n",
       "\n",
       "    .dataframe tbody tr th {\n",
       "        vertical-align: top;\n",
       "    }\n",
       "\n",
       "    .dataframe thead th {\n",
       "        text-align: right;\n",
       "    }\n",
       "</style>\n",
       "<table border=\"1\" class=\"dataframe\">\n",
       "  <thead>\n",
       "    <tr style=\"text-align: right;\">\n",
       "      <th></th>\n",
       "      <th>Animals</th>\n",
       "      <th>water</th>\n",
       "      <th>protein</th>\n",
       "      <th>fat</th>\n",
       "      <th>lactose</th>\n",
       "      <th>ash</th>\n",
       "    </tr>\n",
       "  </thead>\n",
       "  <tbody>\n",
       "    <tr>\n",
       "      <td>0</td>\n",
       "      <td>HORSE</td>\n",
       "      <td>90.1</td>\n",
       "      <td>2.6</td>\n",
       "      <td>1.0</td>\n",
       "      <td>6.9</td>\n",
       "      <td>0.35</td>\n",
       "    </tr>\n",
       "    <tr>\n",
       "      <td>1</td>\n",
       "      <td>ORANGUTAN</td>\n",
       "      <td>88.5</td>\n",
       "      <td>1.4</td>\n",
       "      <td>3.5</td>\n",
       "      <td>6.0</td>\n",
       "      <td>0.24</td>\n",
       "    </tr>\n",
       "    <tr>\n",
       "      <td>2</td>\n",
       "      <td>MONKEY</td>\n",
       "      <td>88.4</td>\n",
       "      <td>2.2</td>\n",
       "      <td>2.7</td>\n",
       "      <td>6.4</td>\n",
       "      <td>0.18</td>\n",
       "    </tr>\n",
       "    <tr>\n",
       "      <td>3</td>\n",
       "      <td>DONKEY</td>\n",
       "      <td>90.3</td>\n",
       "      <td>1.7</td>\n",
       "      <td>1.4</td>\n",
       "      <td>6.2</td>\n",
       "      <td>0.40</td>\n",
       "    </tr>\n",
       "    <tr>\n",
       "      <td>4</td>\n",
       "      <td>HIPPO</td>\n",
       "      <td>90.4</td>\n",
       "      <td>0.6</td>\n",
       "      <td>4.5</td>\n",
       "      <td>4.4</td>\n",
       "      <td>0.10</td>\n",
       "    </tr>\n",
       "    <tr>\n",
       "      <td>5</td>\n",
       "      <td>CAMEL</td>\n",
       "      <td>87.7</td>\n",
       "      <td>3.5</td>\n",
       "      <td>3.4</td>\n",
       "      <td>4.8</td>\n",
       "      <td>0.71</td>\n",
       "    </tr>\n",
       "    <tr>\n",
       "      <td>6</td>\n",
       "      <td>BISON</td>\n",
       "      <td>86.9</td>\n",
       "      <td>4.8</td>\n",
       "      <td>1.7</td>\n",
       "      <td>5.7</td>\n",
       "      <td>0.90</td>\n",
       "    </tr>\n",
       "    <tr>\n",
       "      <td>7</td>\n",
       "      <td>BUFFALO</td>\n",
       "      <td>82.1</td>\n",
       "      <td>5.9</td>\n",
       "      <td>7.9</td>\n",
       "      <td>4.7</td>\n",
       "      <td>0.78</td>\n",
       "    </tr>\n",
       "    <tr>\n",
       "      <td>8</td>\n",
       "      <td>GUINEA PIG</td>\n",
       "      <td>81.9</td>\n",
       "      <td>7.4</td>\n",
       "      <td>7.2</td>\n",
       "      <td>2.7</td>\n",
       "      <td>0.85</td>\n",
       "    </tr>\n",
       "    <tr>\n",
       "      <td>9</td>\n",
       "      <td>CAT</td>\n",
       "      <td>81.6</td>\n",
       "      <td>10.1</td>\n",
       "      <td>6.3</td>\n",
       "      <td>4.4</td>\n",
       "      <td>0.75</td>\n",
       "    </tr>\n",
       "    <tr>\n",
       "      <td>10</td>\n",
       "      <td>FOX</td>\n",
       "      <td>81.6</td>\n",
       "      <td>6.6</td>\n",
       "      <td>5.9</td>\n",
       "      <td>4.9</td>\n",
       "      <td>0.93</td>\n",
       "    </tr>\n",
       "    <tr>\n",
       "      <td>11</td>\n",
       "      <td>LLAMA</td>\n",
       "      <td>86.5</td>\n",
       "      <td>3.9</td>\n",
       "      <td>3.2</td>\n",
       "      <td>5.6</td>\n",
       "      <td>0.80</td>\n",
       "    </tr>\n",
       "    <tr>\n",
       "      <td>12</td>\n",
       "      <td>MULE</td>\n",
       "      <td>90.0</td>\n",
       "      <td>2.0</td>\n",
       "      <td>1.8</td>\n",
       "      <td>5.5</td>\n",
       "      <td>0.47</td>\n",
       "    </tr>\n",
       "    <tr>\n",
       "      <td>13</td>\n",
       "      <td>PIG</td>\n",
       "      <td>82.8</td>\n",
       "      <td>7.1</td>\n",
       "      <td>5.1</td>\n",
       "      <td>3.7</td>\n",
       "      <td>1.10</td>\n",
       "    </tr>\n",
       "    <tr>\n",
       "      <td>14</td>\n",
       "      <td>ZEBRA</td>\n",
       "      <td>86.2</td>\n",
       "      <td>3.0</td>\n",
       "      <td>4.8</td>\n",
       "      <td>5.3</td>\n",
       "      <td>0.70</td>\n",
       "    </tr>\n",
       "    <tr>\n",
       "      <td>15</td>\n",
       "      <td>SHEEP</td>\n",
       "      <td>82.0</td>\n",
       "      <td>5.6</td>\n",
       "      <td>6.4</td>\n",
       "      <td>4.7</td>\n",
       "      <td>0.91</td>\n",
       "    </tr>\n",
       "    <tr>\n",
       "      <td>16</td>\n",
       "      <td>DOG</td>\n",
       "      <td>76.3</td>\n",
       "      <td>9.3</td>\n",
       "      <td>9.5</td>\n",
       "      <td>3.0</td>\n",
       "      <td>1.20</td>\n",
       "    </tr>\n",
       "    <tr>\n",
       "      <td>17</td>\n",
       "      <td>ELEPHANT</td>\n",
       "      <td>70.7</td>\n",
       "      <td>3.6</td>\n",
       "      <td>17.6</td>\n",
       "      <td>5.6</td>\n",
       "      <td>0.63</td>\n",
       "    </tr>\n",
       "    <tr>\n",
       "      <td>18</td>\n",
       "      <td>RABBIT</td>\n",
       "      <td>71.3</td>\n",
       "      <td>12.3</td>\n",
       "      <td>13.1</td>\n",
       "      <td>1.9</td>\n",
       "      <td>2.30</td>\n",
       "    </tr>\n",
       "    <tr>\n",
       "      <td>19</td>\n",
       "      <td>RAT</td>\n",
       "      <td>72.5</td>\n",
       "      <td>9.2</td>\n",
       "      <td>12.6</td>\n",
       "      <td>3.3</td>\n",
       "      <td>1.40</td>\n",
       "    </tr>\n",
       "    <tr>\n",
       "      <td>20</td>\n",
       "      <td>DEER</td>\n",
       "      <td>65.9</td>\n",
       "      <td>10.4</td>\n",
       "      <td>19.7</td>\n",
       "      <td>2.6</td>\n",
       "      <td>1.40</td>\n",
       "    </tr>\n",
       "    <tr>\n",
       "      <td>21</td>\n",
       "      <td>REINDEER</td>\n",
       "      <td>64.8</td>\n",
       "      <td>10.7</td>\n",
       "      <td>20.3</td>\n",
       "      <td>2.5</td>\n",
       "      <td>1.40</td>\n",
       "    </tr>\n",
       "    <tr>\n",
       "      <td>22</td>\n",
       "      <td>WHALE</td>\n",
       "      <td>64.8</td>\n",
       "      <td>11.1</td>\n",
       "      <td>21.2</td>\n",
       "      <td>1.6</td>\n",
       "      <td>1.70</td>\n",
       "    </tr>\n",
       "    <tr>\n",
       "      <td>23</td>\n",
       "      <td>SEAL</td>\n",
       "      <td>46.4</td>\n",
       "      <td>9.7</td>\n",
       "      <td>42.0</td>\n",
       "      <td>0.0</td>\n",
       "      <td>0.85</td>\n",
       "    </tr>\n",
       "    <tr>\n",
       "      <td>24</td>\n",
       "      <td>DOLPHIN</td>\n",
       "      <td>44.9</td>\n",
       "      <td>10.6</td>\n",
       "      <td>34.9</td>\n",
       "      <td>0.9</td>\n",
       "      <td>0.53</td>\n",
       "    </tr>\n",
       "  </tbody>\n",
       "</table>\n",
       "</div>"
      ],
      "text/plain": [
       "       Animals  water  protein   fat  lactose   ash\n",
       "0        HORSE   90.1      2.6   1.0      6.9  0.35\n",
       "1    ORANGUTAN   88.5      1.4   3.5      6.0  0.24\n",
       "2       MONKEY   88.4      2.2   2.7      6.4  0.18\n",
       "3       DONKEY   90.3      1.7   1.4      6.2  0.40\n",
       "4        HIPPO   90.4      0.6   4.5      4.4  0.10\n",
       "5        CAMEL   87.7      3.5   3.4      4.8  0.71\n",
       "6        BISON   86.9      4.8   1.7      5.7  0.90\n",
       "7      BUFFALO   82.1      5.9   7.9      4.7  0.78\n",
       "8   GUINEA PIG   81.9      7.4   7.2      2.7  0.85\n",
       "9          CAT   81.6     10.1   6.3      4.4  0.75\n",
       "10         FOX   81.6      6.6   5.9      4.9  0.93\n",
       "11       LLAMA   86.5      3.9   3.2      5.6  0.80\n",
       "12        MULE   90.0      2.0   1.8      5.5  0.47\n",
       "13         PIG   82.8      7.1   5.1      3.7  1.10\n",
       "14       ZEBRA   86.2      3.0   4.8      5.3  0.70\n",
       "15       SHEEP   82.0      5.6   6.4      4.7  0.91\n",
       "16         DOG   76.3      9.3   9.5      3.0  1.20\n",
       "17    ELEPHANT   70.7      3.6  17.6      5.6  0.63\n",
       "18      RABBIT   71.3     12.3  13.1      1.9  2.30\n",
       "19         RAT   72.5      9.2  12.6      3.3  1.40\n",
       "20        DEER   65.9     10.4  19.7      2.6  1.40\n",
       "21    REINDEER   64.8     10.7  20.3      2.5  1.40\n",
       "22       WHALE   64.8     11.1  21.2      1.6  1.70\n",
       "23        SEAL   46.4      9.7  42.0      0.0  0.85\n",
       "24     DOLPHIN   44.9     10.6  34.9      0.9  0.53"
      ]
     },
     "execution_count": 31,
     "metadata": {},
     "output_type": "execute_result"
    }
   ],
   "source": [
    "milk.rename(columns={\"Unnamed :0 \": \"Animal\"})"
   ]
  },
  {
   "cell_type": "code",
   "execution_count": 32,
   "metadata": {},
   "outputs": [],
   "source": [
    "from sklearn.preprocessing import MinMaxScaler\n",
    "scaler = MinMaxScaler()\n",
    "milk[['water','protein','fat','lactose','ash']] = scaler.fit_transform(milk[['water','protein','fat','lactose','ash']])"
   ]
  },
  {
   "cell_type": "code",
   "execution_count": 33,
   "metadata": {},
   "outputs": [
    {
     "data": {
      "text/html": [
       "<div>\n",
       "<style scoped>\n",
       "    .dataframe tbody tr th:only-of-type {\n",
       "        vertical-align: middle;\n",
       "    }\n",
       "\n",
       "    .dataframe tbody tr th {\n",
       "        vertical-align: top;\n",
       "    }\n",
       "\n",
       "    .dataframe thead th {\n",
       "        text-align: right;\n",
       "    }\n",
       "</style>\n",
       "<table border=\"1\" class=\"dataframe\">\n",
       "  <thead>\n",
       "    <tr style=\"text-align: right;\">\n",
       "      <th></th>\n",
       "      <th>Animals</th>\n",
       "      <th>water</th>\n",
       "      <th>protein</th>\n",
       "      <th>fat</th>\n",
       "      <th>lactose</th>\n",
       "      <th>ash</th>\n",
       "    </tr>\n",
       "  </thead>\n",
       "  <tbody>\n",
       "    <tr>\n",
       "      <td>0</td>\n",
       "      <td>HORSE</td>\n",
       "      <td>0.993407</td>\n",
       "      <td>0.170940</td>\n",
       "      <td>0.000000</td>\n",
       "      <td>1.000000</td>\n",
       "      <td>0.113636</td>\n",
       "    </tr>\n",
       "    <tr>\n",
       "      <td>1</td>\n",
       "      <td>ORANGUTAN</td>\n",
       "      <td>0.958242</td>\n",
       "      <td>0.068376</td>\n",
       "      <td>0.060976</td>\n",
       "      <td>0.869565</td>\n",
       "      <td>0.063636</td>\n",
       "    </tr>\n",
       "    <tr>\n",
       "      <td>2</td>\n",
       "      <td>MONKEY</td>\n",
       "      <td>0.956044</td>\n",
       "      <td>0.136752</td>\n",
       "      <td>0.041463</td>\n",
       "      <td>0.927536</td>\n",
       "      <td>0.036364</td>\n",
       "    </tr>\n",
       "    <tr>\n",
       "      <td>3</td>\n",
       "      <td>DONKEY</td>\n",
       "      <td>0.997802</td>\n",
       "      <td>0.094017</td>\n",
       "      <td>0.009756</td>\n",
       "      <td>0.898551</td>\n",
       "      <td>0.136364</td>\n",
       "    </tr>\n",
       "    <tr>\n",
       "      <td>4</td>\n",
       "      <td>HIPPO</td>\n",
       "      <td>1.000000</td>\n",
       "      <td>0.000000</td>\n",
       "      <td>0.085366</td>\n",
       "      <td>0.637681</td>\n",
       "      <td>0.000000</td>\n",
       "    </tr>\n",
       "    <tr>\n",
       "      <td>5</td>\n",
       "      <td>CAMEL</td>\n",
       "      <td>0.940659</td>\n",
       "      <td>0.247863</td>\n",
       "      <td>0.058537</td>\n",
       "      <td>0.695652</td>\n",
       "      <td>0.277273</td>\n",
       "    </tr>\n",
       "    <tr>\n",
       "      <td>6</td>\n",
       "      <td>BISON</td>\n",
       "      <td>0.923077</td>\n",
       "      <td>0.358974</td>\n",
       "      <td>0.017073</td>\n",
       "      <td>0.826087</td>\n",
       "      <td>0.363636</td>\n",
       "    </tr>\n",
       "    <tr>\n",
       "      <td>7</td>\n",
       "      <td>BUFFALO</td>\n",
       "      <td>0.817582</td>\n",
       "      <td>0.452991</td>\n",
       "      <td>0.168293</td>\n",
       "      <td>0.681159</td>\n",
       "      <td>0.309091</td>\n",
       "    </tr>\n",
       "    <tr>\n",
       "      <td>8</td>\n",
       "      <td>GUINEA PIG</td>\n",
       "      <td>0.813187</td>\n",
       "      <td>0.581197</td>\n",
       "      <td>0.151220</td>\n",
       "      <td>0.391304</td>\n",
       "      <td>0.340909</td>\n",
       "    </tr>\n",
       "    <tr>\n",
       "      <td>9</td>\n",
       "      <td>CAT</td>\n",
       "      <td>0.806593</td>\n",
       "      <td>0.811966</td>\n",
       "      <td>0.129268</td>\n",
       "      <td>0.637681</td>\n",
       "      <td>0.295455</td>\n",
       "    </tr>\n",
       "    <tr>\n",
       "      <td>10</td>\n",
       "      <td>FOX</td>\n",
       "      <td>0.806593</td>\n",
       "      <td>0.512821</td>\n",
       "      <td>0.119512</td>\n",
       "      <td>0.710145</td>\n",
       "      <td>0.377273</td>\n",
       "    </tr>\n",
       "    <tr>\n",
       "      <td>11</td>\n",
       "      <td>LLAMA</td>\n",
       "      <td>0.914286</td>\n",
       "      <td>0.282051</td>\n",
       "      <td>0.053659</td>\n",
       "      <td>0.811594</td>\n",
       "      <td>0.318182</td>\n",
       "    </tr>\n",
       "    <tr>\n",
       "      <td>12</td>\n",
       "      <td>MULE</td>\n",
       "      <td>0.991209</td>\n",
       "      <td>0.119658</td>\n",
       "      <td>0.019512</td>\n",
       "      <td>0.797101</td>\n",
       "      <td>0.168182</td>\n",
       "    </tr>\n",
       "    <tr>\n",
       "      <td>13</td>\n",
       "      <td>PIG</td>\n",
       "      <td>0.832967</td>\n",
       "      <td>0.555556</td>\n",
       "      <td>0.100000</td>\n",
       "      <td>0.536232</td>\n",
       "      <td>0.454545</td>\n",
       "    </tr>\n",
       "    <tr>\n",
       "      <td>14</td>\n",
       "      <td>ZEBRA</td>\n",
       "      <td>0.907692</td>\n",
       "      <td>0.205128</td>\n",
       "      <td>0.092683</td>\n",
       "      <td>0.768116</td>\n",
       "      <td>0.272727</td>\n",
       "    </tr>\n",
       "    <tr>\n",
       "      <td>15</td>\n",
       "      <td>SHEEP</td>\n",
       "      <td>0.815385</td>\n",
       "      <td>0.427350</td>\n",
       "      <td>0.131707</td>\n",
       "      <td>0.681159</td>\n",
       "      <td>0.368182</td>\n",
       "    </tr>\n",
       "    <tr>\n",
       "      <td>16</td>\n",
       "      <td>DOG</td>\n",
       "      <td>0.690110</td>\n",
       "      <td>0.743590</td>\n",
       "      <td>0.207317</td>\n",
       "      <td>0.434783</td>\n",
       "      <td>0.500000</td>\n",
       "    </tr>\n",
       "    <tr>\n",
       "      <td>17</td>\n",
       "      <td>ELEPHANT</td>\n",
       "      <td>0.567033</td>\n",
       "      <td>0.256410</td>\n",
       "      <td>0.404878</td>\n",
       "      <td>0.811594</td>\n",
       "      <td>0.240909</td>\n",
       "    </tr>\n",
       "    <tr>\n",
       "      <td>18</td>\n",
       "      <td>RABBIT</td>\n",
       "      <td>0.580220</td>\n",
       "      <td>1.000000</td>\n",
       "      <td>0.295122</td>\n",
       "      <td>0.275362</td>\n",
       "      <td>1.000000</td>\n",
       "    </tr>\n",
       "    <tr>\n",
       "      <td>19</td>\n",
       "      <td>RAT</td>\n",
       "      <td>0.606593</td>\n",
       "      <td>0.735043</td>\n",
       "      <td>0.282927</td>\n",
       "      <td>0.478261</td>\n",
       "      <td>0.590909</td>\n",
       "    </tr>\n",
       "    <tr>\n",
       "      <td>20</td>\n",
       "      <td>DEER</td>\n",
       "      <td>0.461538</td>\n",
       "      <td>0.837607</td>\n",
       "      <td>0.456098</td>\n",
       "      <td>0.376812</td>\n",
       "      <td>0.590909</td>\n",
       "    </tr>\n",
       "    <tr>\n",
       "      <td>21</td>\n",
       "      <td>REINDEER</td>\n",
       "      <td>0.437363</td>\n",
       "      <td>0.863248</td>\n",
       "      <td>0.470732</td>\n",
       "      <td>0.362319</td>\n",
       "      <td>0.590909</td>\n",
       "    </tr>\n",
       "    <tr>\n",
       "      <td>22</td>\n",
       "      <td>WHALE</td>\n",
       "      <td>0.437363</td>\n",
       "      <td>0.897436</td>\n",
       "      <td>0.492683</td>\n",
       "      <td>0.231884</td>\n",
       "      <td>0.727273</td>\n",
       "    </tr>\n",
       "    <tr>\n",
       "      <td>23</td>\n",
       "      <td>SEAL</td>\n",
       "      <td>0.032967</td>\n",
       "      <td>0.777778</td>\n",
       "      <td>1.000000</td>\n",
       "      <td>0.000000</td>\n",
       "      <td>0.340909</td>\n",
       "    </tr>\n",
       "    <tr>\n",
       "      <td>24</td>\n",
       "      <td>DOLPHIN</td>\n",
       "      <td>0.000000</td>\n",
       "      <td>0.854701</td>\n",
       "      <td>0.826829</td>\n",
       "      <td>0.130435</td>\n",
       "      <td>0.195455</td>\n",
       "    </tr>\n",
       "  </tbody>\n",
       "</table>\n",
       "</div>"
      ],
      "text/plain": [
       "       Animals     water   protein       fat   lactose       ash\n",
       "0        HORSE  0.993407  0.170940  0.000000  1.000000  0.113636\n",
       "1    ORANGUTAN  0.958242  0.068376  0.060976  0.869565  0.063636\n",
       "2       MONKEY  0.956044  0.136752  0.041463  0.927536  0.036364\n",
       "3       DONKEY  0.997802  0.094017  0.009756  0.898551  0.136364\n",
       "4        HIPPO  1.000000  0.000000  0.085366  0.637681  0.000000\n",
       "5        CAMEL  0.940659  0.247863  0.058537  0.695652  0.277273\n",
       "6        BISON  0.923077  0.358974  0.017073  0.826087  0.363636\n",
       "7      BUFFALO  0.817582  0.452991  0.168293  0.681159  0.309091\n",
       "8   GUINEA PIG  0.813187  0.581197  0.151220  0.391304  0.340909\n",
       "9          CAT  0.806593  0.811966  0.129268  0.637681  0.295455\n",
       "10         FOX  0.806593  0.512821  0.119512  0.710145  0.377273\n",
       "11       LLAMA  0.914286  0.282051  0.053659  0.811594  0.318182\n",
       "12        MULE  0.991209  0.119658  0.019512  0.797101  0.168182\n",
       "13         PIG  0.832967  0.555556  0.100000  0.536232  0.454545\n",
       "14       ZEBRA  0.907692  0.205128  0.092683  0.768116  0.272727\n",
       "15       SHEEP  0.815385  0.427350  0.131707  0.681159  0.368182\n",
       "16         DOG  0.690110  0.743590  0.207317  0.434783  0.500000\n",
       "17    ELEPHANT  0.567033  0.256410  0.404878  0.811594  0.240909\n",
       "18      RABBIT  0.580220  1.000000  0.295122  0.275362  1.000000\n",
       "19         RAT  0.606593  0.735043  0.282927  0.478261  0.590909\n",
       "20        DEER  0.461538  0.837607  0.456098  0.376812  0.590909\n",
       "21    REINDEER  0.437363  0.863248  0.470732  0.362319  0.590909\n",
       "22       WHALE  0.437363  0.897436  0.492683  0.231884  0.727273\n",
       "23        SEAL  0.032967  0.777778  1.000000  0.000000  0.340909\n",
       "24     DOLPHIN  0.000000  0.854701  0.826829  0.130435  0.195455"
      ]
     },
     "execution_count": 33,
     "metadata": {},
     "output_type": "execute_result"
    }
   ],
   "source": [
    "milk"
   ]
  },
  {
   "cell_type": "code",
   "execution_count": 34,
   "metadata": {},
   "outputs": [
    {
     "name": "stdout",
     "output_type": "stream",
     "text": [
      "[[0.95824176 0.16837607 0.04390244 0.82318841 0.175     ]\n",
      " [0.76868132 0.54273504 0.17652439 0.61050725 0.36079545]\n",
      " [0.50461538 0.86666667 0.3995122  0.34492754 0.7       ]\n",
      " [0.01648352 0.81623932 0.91341463 0.06521739 0.26818182]]\n"
     ]
    }
   ],
   "source": [
    "#import Kmeans \n",
    "from sklearn.cluster import KMeans\n",
    "#create Kmeans object\n",
    "kmeans = KMeans(n_clusters = 4)\n",
    "#fit kmeans object to data\n",
    "#kmeans.fit(data)fit\n",
    "\n",
    "data1 = milk[['water','protein','fat','lactose','ash']]\n",
    "kmeans.fit(data1)\n",
    "#print location of clustures learned by kmeans object\n",
    "print(kmeans.cluster_centers_)\n",
    "\n",
    "#save new clusters for char\n",
    "y_km = kmeans.fit_predict(data1)"
   ]
  },
  {
   "cell_type": "code",
   "execution_count": 35,
   "metadata": {},
   "outputs": [
    {
     "data": {
      "text/plain": [
       "array([1, 1, 1, 1, 1, 1, 1, 3, 3, 3, 3, 1, 1, 3, 1, 3, 0, 3, 0, 0, 0, 0,\n",
       "       0, 2, 2])"
      ]
     },
     "execution_count": 35,
     "metadata": {},
     "output_type": "execute_result"
    }
   ],
   "source": [
    "y_km"
   ]
  },
  {
   "cell_type": "code",
   "execution_count": 36,
   "metadata": {},
   "outputs": [],
   "source": [
    "milk['y_km']= pd.Series(y_km)"
   ]
  },
  {
   "cell_type": "code",
   "execution_count": 37,
   "metadata": {},
   "outputs": [
    {
     "data": {
      "text/html": [
       "<div>\n",
       "<style scoped>\n",
       "    .dataframe tbody tr th:only-of-type {\n",
       "        vertical-align: middle;\n",
       "    }\n",
       "\n",
       "    .dataframe tbody tr th {\n",
       "        vertical-align: top;\n",
       "    }\n",
       "\n",
       "    .dataframe thead th {\n",
       "        text-align: right;\n",
       "    }\n",
       "</style>\n",
       "<table border=\"1\" class=\"dataframe\">\n",
       "  <thead>\n",
       "    <tr style=\"text-align: right;\">\n",
       "      <th></th>\n",
       "      <th>Animals</th>\n",
       "      <th>water</th>\n",
       "      <th>protein</th>\n",
       "      <th>fat</th>\n",
       "      <th>lactose</th>\n",
       "      <th>ash</th>\n",
       "      <th>y_km</th>\n",
       "    </tr>\n",
       "  </thead>\n",
       "  <tbody>\n",
       "    <tr>\n",
       "      <td>0</td>\n",
       "      <td>HORSE</td>\n",
       "      <td>0.993407</td>\n",
       "      <td>0.170940</td>\n",
       "      <td>0.000000</td>\n",
       "      <td>1.000000</td>\n",
       "      <td>0.113636</td>\n",
       "      <td>1</td>\n",
       "    </tr>\n",
       "    <tr>\n",
       "      <td>1</td>\n",
       "      <td>ORANGUTAN</td>\n",
       "      <td>0.958242</td>\n",
       "      <td>0.068376</td>\n",
       "      <td>0.060976</td>\n",
       "      <td>0.869565</td>\n",
       "      <td>0.063636</td>\n",
       "      <td>1</td>\n",
       "    </tr>\n",
       "    <tr>\n",
       "      <td>2</td>\n",
       "      <td>MONKEY</td>\n",
       "      <td>0.956044</td>\n",
       "      <td>0.136752</td>\n",
       "      <td>0.041463</td>\n",
       "      <td>0.927536</td>\n",
       "      <td>0.036364</td>\n",
       "      <td>1</td>\n",
       "    </tr>\n",
       "    <tr>\n",
       "      <td>3</td>\n",
       "      <td>DONKEY</td>\n",
       "      <td>0.997802</td>\n",
       "      <td>0.094017</td>\n",
       "      <td>0.009756</td>\n",
       "      <td>0.898551</td>\n",
       "      <td>0.136364</td>\n",
       "      <td>1</td>\n",
       "    </tr>\n",
       "    <tr>\n",
       "      <td>4</td>\n",
       "      <td>HIPPO</td>\n",
       "      <td>1.000000</td>\n",
       "      <td>0.000000</td>\n",
       "      <td>0.085366</td>\n",
       "      <td>0.637681</td>\n",
       "      <td>0.000000</td>\n",
       "      <td>1</td>\n",
       "    </tr>\n",
       "    <tr>\n",
       "      <td>5</td>\n",
       "      <td>CAMEL</td>\n",
       "      <td>0.940659</td>\n",
       "      <td>0.247863</td>\n",
       "      <td>0.058537</td>\n",
       "      <td>0.695652</td>\n",
       "      <td>0.277273</td>\n",
       "      <td>1</td>\n",
       "    </tr>\n",
       "    <tr>\n",
       "      <td>6</td>\n",
       "      <td>BISON</td>\n",
       "      <td>0.923077</td>\n",
       "      <td>0.358974</td>\n",
       "      <td>0.017073</td>\n",
       "      <td>0.826087</td>\n",
       "      <td>0.363636</td>\n",
       "      <td>1</td>\n",
       "    </tr>\n",
       "    <tr>\n",
       "      <td>7</td>\n",
       "      <td>BUFFALO</td>\n",
       "      <td>0.817582</td>\n",
       "      <td>0.452991</td>\n",
       "      <td>0.168293</td>\n",
       "      <td>0.681159</td>\n",
       "      <td>0.309091</td>\n",
       "      <td>3</td>\n",
       "    </tr>\n",
       "    <tr>\n",
       "      <td>8</td>\n",
       "      <td>GUINEA PIG</td>\n",
       "      <td>0.813187</td>\n",
       "      <td>0.581197</td>\n",
       "      <td>0.151220</td>\n",
       "      <td>0.391304</td>\n",
       "      <td>0.340909</td>\n",
       "      <td>3</td>\n",
       "    </tr>\n",
       "    <tr>\n",
       "      <td>9</td>\n",
       "      <td>CAT</td>\n",
       "      <td>0.806593</td>\n",
       "      <td>0.811966</td>\n",
       "      <td>0.129268</td>\n",
       "      <td>0.637681</td>\n",
       "      <td>0.295455</td>\n",
       "      <td>3</td>\n",
       "    </tr>\n",
       "    <tr>\n",
       "      <td>10</td>\n",
       "      <td>FOX</td>\n",
       "      <td>0.806593</td>\n",
       "      <td>0.512821</td>\n",
       "      <td>0.119512</td>\n",
       "      <td>0.710145</td>\n",
       "      <td>0.377273</td>\n",
       "      <td>3</td>\n",
       "    </tr>\n",
       "    <tr>\n",
       "      <td>11</td>\n",
       "      <td>LLAMA</td>\n",
       "      <td>0.914286</td>\n",
       "      <td>0.282051</td>\n",
       "      <td>0.053659</td>\n",
       "      <td>0.811594</td>\n",
       "      <td>0.318182</td>\n",
       "      <td>1</td>\n",
       "    </tr>\n",
       "    <tr>\n",
       "      <td>12</td>\n",
       "      <td>MULE</td>\n",
       "      <td>0.991209</td>\n",
       "      <td>0.119658</td>\n",
       "      <td>0.019512</td>\n",
       "      <td>0.797101</td>\n",
       "      <td>0.168182</td>\n",
       "      <td>1</td>\n",
       "    </tr>\n",
       "    <tr>\n",
       "      <td>13</td>\n",
       "      <td>PIG</td>\n",
       "      <td>0.832967</td>\n",
       "      <td>0.555556</td>\n",
       "      <td>0.100000</td>\n",
       "      <td>0.536232</td>\n",
       "      <td>0.454545</td>\n",
       "      <td>3</td>\n",
       "    </tr>\n",
       "    <tr>\n",
       "      <td>14</td>\n",
       "      <td>ZEBRA</td>\n",
       "      <td>0.907692</td>\n",
       "      <td>0.205128</td>\n",
       "      <td>0.092683</td>\n",
       "      <td>0.768116</td>\n",
       "      <td>0.272727</td>\n",
       "      <td>1</td>\n",
       "    </tr>\n",
       "    <tr>\n",
       "      <td>15</td>\n",
       "      <td>SHEEP</td>\n",
       "      <td>0.815385</td>\n",
       "      <td>0.427350</td>\n",
       "      <td>0.131707</td>\n",
       "      <td>0.681159</td>\n",
       "      <td>0.368182</td>\n",
       "      <td>3</td>\n",
       "    </tr>\n",
       "    <tr>\n",
       "      <td>16</td>\n",
       "      <td>DOG</td>\n",
       "      <td>0.690110</td>\n",
       "      <td>0.743590</td>\n",
       "      <td>0.207317</td>\n",
       "      <td>0.434783</td>\n",
       "      <td>0.500000</td>\n",
       "      <td>0</td>\n",
       "    </tr>\n",
       "    <tr>\n",
       "      <td>17</td>\n",
       "      <td>ELEPHANT</td>\n",
       "      <td>0.567033</td>\n",
       "      <td>0.256410</td>\n",
       "      <td>0.404878</td>\n",
       "      <td>0.811594</td>\n",
       "      <td>0.240909</td>\n",
       "      <td>3</td>\n",
       "    </tr>\n",
       "    <tr>\n",
       "      <td>18</td>\n",
       "      <td>RABBIT</td>\n",
       "      <td>0.580220</td>\n",
       "      <td>1.000000</td>\n",
       "      <td>0.295122</td>\n",
       "      <td>0.275362</td>\n",
       "      <td>1.000000</td>\n",
       "      <td>0</td>\n",
       "    </tr>\n",
       "    <tr>\n",
       "      <td>19</td>\n",
       "      <td>RAT</td>\n",
       "      <td>0.606593</td>\n",
       "      <td>0.735043</td>\n",
       "      <td>0.282927</td>\n",
       "      <td>0.478261</td>\n",
       "      <td>0.590909</td>\n",
       "      <td>0</td>\n",
       "    </tr>\n",
       "    <tr>\n",
       "      <td>20</td>\n",
       "      <td>DEER</td>\n",
       "      <td>0.461538</td>\n",
       "      <td>0.837607</td>\n",
       "      <td>0.456098</td>\n",
       "      <td>0.376812</td>\n",
       "      <td>0.590909</td>\n",
       "      <td>0</td>\n",
       "    </tr>\n",
       "    <tr>\n",
       "      <td>21</td>\n",
       "      <td>REINDEER</td>\n",
       "      <td>0.437363</td>\n",
       "      <td>0.863248</td>\n",
       "      <td>0.470732</td>\n",
       "      <td>0.362319</td>\n",
       "      <td>0.590909</td>\n",
       "      <td>0</td>\n",
       "    </tr>\n",
       "    <tr>\n",
       "      <td>22</td>\n",
       "      <td>WHALE</td>\n",
       "      <td>0.437363</td>\n",
       "      <td>0.897436</td>\n",
       "      <td>0.492683</td>\n",
       "      <td>0.231884</td>\n",
       "      <td>0.727273</td>\n",
       "      <td>0</td>\n",
       "    </tr>\n",
       "    <tr>\n",
       "      <td>23</td>\n",
       "      <td>SEAL</td>\n",
       "      <td>0.032967</td>\n",
       "      <td>0.777778</td>\n",
       "      <td>1.000000</td>\n",
       "      <td>0.000000</td>\n",
       "      <td>0.340909</td>\n",
       "      <td>2</td>\n",
       "    </tr>\n",
       "    <tr>\n",
       "      <td>24</td>\n",
       "      <td>DOLPHIN</td>\n",
       "      <td>0.000000</td>\n",
       "      <td>0.854701</td>\n",
       "      <td>0.826829</td>\n",
       "      <td>0.130435</td>\n",
       "      <td>0.195455</td>\n",
       "      <td>2</td>\n",
       "    </tr>\n",
       "  </tbody>\n",
       "</table>\n",
       "</div>"
      ],
      "text/plain": [
       "       Animals     water   protein       fat   lactose       ash  y_km\n",
       "0        HORSE  0.993407  0.170940  0.000000  1.000000  0.113636     1\n",
       "1    ORANGUTAN  0.958242  0.068376  0.060976  0.869565  0.063636     1\n",
       "2       MONKEY  0.956044  0.136752  0.041463  0.927536  0.036364     1\n",
       "3       DONKEY  0.997802  0.094017  0.009756  0.898551  0.136364     1\n",
       "4        HIPPO  1.000000  0.000000  0.085366  0.637681  0.000000     1\n",
       "5        CAMEL  0.940659  0.247863  0.058537  0.695652  0.277273     1\n",
       "6        BISON  0.923077  0.358974  0.017073  0.826087  0.363636     1\n",
       "7      BUFFALO  0.817582  0.452991  0.168293  0.681159  0.309091     3\n",
       "8   GUINEA PIG  0.813187  0.581197  0.151220  0.391304  0.340909     3\n",
       "9          CAT  0.806593  0.811966  0.129268  0.637681  0.295455     3\n",
       "10         FOX  0.806593  0.512821  0.119512  0.710145  0.377273     3\n",
       "11       LLAMA  0.914286  0.282051  0.053659  0.811594  0.318182     1\n",
       "12        MULE  0.991209  0.119658  0.019512  0.797101  0.168182     1\n",
       "13         PIG  0.832967  0.555556  0.100000  0.536232  0.454545     3\n",
       "14       ZEBRA  0.907692  0.205128  0.092683  0.768116  0.272727     1\n",
       "15       SHEEP  0.815385  0.427350  0.131707  0.681159  0.368182     3\n",
       "16         DOG  0.690110  0.743590  0.207317  0.434783  0.500000     0\n",
       "17    ELEPHANT  0.567033  0.256410  0.404878  0.811594  0.240909     3\n",
       "18      RABBIT  0.580220  1.000000  0.295122  0.275362  1.000000     0\n",
       "19         RAT  0.606593  0.735043  0.282927  0.478261  0.590909     0\n",
       "20        DEER  0.461538  0.837607  0.456098  0.376812  0.590909     0\n",
       "21    REINDEER  0.437363  0.863248  0.470732  0.362319  0.590909     0\n",
       "22       WHALE  0.437363  0.897436  0.492683  0.231884  0.727273     0\n",
       "23        SEAL  0.032967  0.777778  1.000000  0.000000  0.340909     2\n",
       "24     DOLPHIN  0.000000  0.854701  0.826829  0.130435  0.195455     2"
      ]
     },
     "execution_count": 37,
     "metadata": {},
     "output_type": "execute_result"
    }
   ],
   "source": [
    "milk"
   ]
  },
  {
   "cell_type": "code",
   "execution_count": 38,
   "metadata": {},
   "outputs": [
    {
     "data": {
      "text/html": [
       "<div>\n",
       "<style scoped>\n",
       "    .dataframe tbody tr th:only-of-type {\n",
       "        vertical-align: middle;\n",
       "    }\n",
       "\n",
       "    .dataframe tbody tr th {\n",
       "        vertical-align: top;\n",
       "    }\n",
       "\n",
       "    .dataframe thead th {\n",
       "        text-align: right;\n",
       "    }\n",
       "</style>\n",
       "<table border=\"1\" class=\"dataframe\">\n",
       "  <thead>\n",
       "    <tr style=\"text-align: right;\">\n",
       "      <th></th>\n",
       "      <th>Animals</th>\n",
       "      <th>water</th>\n",
       "      <th>protein</th>\n",
       "      <th>fat</th>\n",
       "      <th>lactose</th>\n",
       "      <th>ash</th>\n",
       "      <th>y_km</th>\n",
       "    </tr>\n",
       "  </thead>\n",
       "  <tbody>\n",
       "    <tr>\n",
       "      <td>16</td>\n",
       "      <td>DOG</td>\n",
       "      <td>0.690110</td>\n",
       "      <td>0.743590</td>\n",
       "      <td>0.207317</td>\n",
       "      <td>0.434783</td>\n",
       "      <td>0.500000</td>\n",
       "      <td>0</td>\n",
       "    </tr>\n",
       "    <tr>\n",
       "      <td>18</td>\n",
       "      <td>RABBIT</td>\n",
       "      <td>0.580220</td>\n",
       "      <td>1.000000</td>\n",
       "      <td>0.295122</td>\n",
       "      <td>0.275362</td>\n",
       "      <td>1.000000</td>\n",
       "      <td>0</td>\n",
       "    </tr>\n",
       "    <tr>\n",
       "      <td>19</td>\n",
       "      <td>RAT</td>\n",
       "      <td>0.606593</td>\n",
       "      <td>0.735043</td>\n",
       "      <td>0.282927</td>\n",
       "      <td>0.478261</td>\n",
       "      <td>0.590909</td>\n",
       "      <td>0</td>\n",
       "    </tr>\n",
       "    <tr>\n",
       "      <td>20</td>\n",
       "      <td>DEER</td>\n",
       "      <td>0.461538</td>\n",
       "      <td>0.837607</td>\n",
       "      <td>0.456098</td>\n",
       "      <td>0.376812</td>\n",
       "      <td>0.590909</td>\n",
       "      <td>0</td>\n",
       "    </tr>\n",
       "    <tr>\n",
       "      <td>21</td>\n",
       "      <td>REINDEER</td>\n",
       "      <td>0.437363</td>\n",
       "      <td>0.863248</td>\n",
       "      <td>0.470732</td>\n",
       "      <td>0.362319</td>\n",
       "      <td>0.590909</td>\n",
       "      <td>0</td>\n",
       "    </tr>\n",
       "    <tr>\n",
       "      <td>22</td>\n",
       "      <td>WHALE</td>\n",
       "      <td>0.437363</td>\n",
       "      <td>0.897436</td>\n",
       "      <td>0.492683</td>\n",
       "      <td>0.231884</td>\n",
       "      <td>0.727273</td>\n",
       "      <td>0</td>\n",
       "    </tr>\n",
       "  </tbody>\n",
       "</table>\n",
       "</div>"
      ],
      "text/plain": [
       "     Animals     water   protein       fat   lactose       ash  y_km\n",
       "16       DOG  0.690110  0.743590  0.207317  0.434783  0.500000     0\n",
       "18    RABBIT  0.580220  1.000000  0.295122  0.275362  1.000000     0\n",
       "19       RAT  0.606593  0.735043  0.282927  0.478261  0.590909     0\n",
       "20      DEER  0.461538  0.837607  0.456098  0.376812  0.590909     0\n",
       "21  REINDEER  0.437363  0.863248  0.470732  0.362319  0.590909     0\n",
       "22     WHALE  0.437363  0.897436  0.492683  0.231884  0.727273     0"
      ]
     },
     "execution_count": 38,
     "metadata": {},
     "output_type": "execute_result"
    }
   ],
   "source": [
    "group = milk.groupby('y_km')\n",
    "\n",
    "#group 0\n",
    "group_0 = group.get_group(0)\n",
    "group_0"
   ]
  },
  {
   "cell_type": "code",
   "execution_count": 39,
   "metadata": {},
   "outputs": [
    {
     "data": {
      "text/html": [
       "<div>\n",
       "<style scoped>\n",
       "    .dataframe tbody tr th:only-of-type {\n",
       "        vertical-align: middle;\n",
       "    }\n",
       "\n",
       "    .dataframe tbody tr th {\n",
       "        vertical-align: top;\n",
       "    }\n",
       "\n",
       "    .dataframe thead th {\n",
       "        text-align: right;\n",
       "    }\n",
       "</style>\n",
       "<table border=\"1\" class=\"dataframe\">\n",
       "  <thead>\n",
       "    <tr style=\"text-align: right;\">\n",
       "      <th></th>\n",
       "      <th>Animals</th>\n",
       "      <th>water</th>\n",
       "      <th>protein</th>\n",
       "      <th>fat</th>\n",
       "      <th>lactose</th>\n",
       "      <th>ash</th>\n",
       "      <th>y_km</th>\n",
       "    </tr>\n",
       "  </thead>\n",
       "  <tbody>\n",
       "    <tr>\n",
       "      <td>0</td>\n",
       "      <td>HORSE</td>\n",
       "      <td>0.993407</td>\n",
       "      <td>0.170940</td>\n",
       "      <td>0.000000</td>\n",
       "      <td>1.000000</td>\n",
       "      <td>0.113636</td>\n",
       "      <td>1</td>\n",
       "    </tr>\n",
       "    <tr>\n",
       "      <td>1</td>\n",
       "      <td>ORANGUTAN</td>\n",
       "      <td>0.958242</td>\n",
       "      <td>0.068376</td>\n",
       "      <td>0.060976</td>\n",
       "      <td>0.869565</td>\n",
       "      <td>0.063636</td>\n",
       "      <td>1</td>\n",
       "    </tr>\n",
       "    <tr>\n",
       "      <td>2</td>\n",
       "      <td>MONKEY</td>\n",
       "      <td>0.956044</td>\n",
       "      <td>0.136752</td>\n",
       "      <td>0.041463</td>\n",
       "      <td>0.927536</td>\n",
       "      <td>0.036364</td>\n",
       "      <td>1</td>\n",
       "    </tr>\n",
       "    <tr>\n",
       "      <td>3</td>\n",
       "      <td>DONKEY</td>\n",
       "      <td>0.997802</td>\n",
       "      <td>0.094017</td>\n",
       "      <td>0.009756</td>\n",
       "      <td>0.898551</td>\n",
       "      <td>0.136364</td>\n",
       "      <td>1</td>\n",
       "    </tr>\n",
       "    <tr>\n",
       "      <td>4</td>\n",
       "      <td>HIPPO</td>\n",
       "      <td>1.000000</td>\n",
       "      <td>0.000000</td>\n",
       "      <td>0.085366</td>\n",
       "      <td>0.637681</td>\n",
       "      <td>0.000000</td>\n",
       "      <td>1</td>\n",
       "    </tr>\n",
       "    <tr>\n",
       "      <td>5</td>\n",
       "      <td>CAMEL</td>\n",
       "      <td>0.940659</td>\n",
       "      <td>0.247863</td>\n",
       "      <td>0.058537</td>\n",
       "      <td>0.695652</td>\n",
       "      <td>0.277273</td>\n",
       "      <td>1</td>\n",
       "    </tr>\n",
       "    <tr>\n",
       "      <td>6</td>\n",
       "      <td>BISON</td>\n",
       "      <td>0.923077</td>\n",
       "      <td>0.358974</td>\n",
       "      <td>0.017073</td>\n",
       "      <td>0.826087</td>\n",
       "      <td>0.363636</td>\n",
       "      <td>1</td>\n",
       "    </tr>\n",
       "    <tr>\n",
       "      <td>11</td>\n",
       "      <td>LLAMA</td>\n",
       "      <td>0.914286</td>\n",
       "      <td>0.282051</td>\n",
       "      <td>0.053659</td>\n",
       "      <td>0.811594</td>\n",
       "      <td>0.318182</td>\n",
       "      <td>1</td>\n",
       "    </tr>\n",
       "    <tr>\n",
       "      <td>12</td>\n",
       "      <td>MULE</td>\n",
       "      <td>0.991209</td>\n",
       "      <td>0.119658</td>\n",
       "      <td>0.019512</td>\n",
       "      <td>0.797101</td>\n",
       "      <td>0.168182</td>\n",
       "      <td>1</td>\n",
       "    </tr>\n",
       "    <tr>\n",
       "      <td>14</td>\n",
       "      <td>ZEBRA</td>\n",
       "      <td>0.907692</td>\n",
       "      <td>0.205128</td>\n",
       "      <td>0.092683</td>\n",
       "      <td>0.768116</td>\n",
       "      <td>0.272727</td>\n",
       "      <td>1</td>\n",
       "    </tr>\n",
       "  </tbody>\n",
       "</table>\n",
       "</div>"
      ],
      "text/plain": [
       "      Animals     water   protein       fat   lactose       ash  y_km\n",
       "0       HORSE  0.993407  0.170940  0.000000  1.000000  0.113636     1\n",
       "1   ORANGUTAN  0.958242  0.068376  0.060976  0.869565  0.063636     1\n",
       "2      MONKEY  0.956044  0.136752  0.041463  0.927536  0.036364     1\n",
       "3      DONKEY  0.997802  0.094017  0.009756  0.898551  0.136364     1\n",
       "4       HIPPO  1.000000  0.000000  0.085366  0.637681  0.000000     1\n",
       "5       CAMEL  0.940659  0.247863  0.058537  0.695652  0.277273     1\n",
       "6       BISON  0.923077  0.358974  0.017073  0.826087  0.363636     1\n",
       "11      LLAMA  0.914286  0.282051  0.053659  0.811594  0.318182     1\n",
       "12       MULE  0.991209  0.119658  0.019512  0.797101  0.168182     1\n",
       "14      ZEBRA  0.907692  0.205128  0.092683  0.768116  0.272727     1"
      ]
     },
     "execution_count": 39,
     "metadata": {},
     "output_type": "execute_result"
    }
   ],
   "source": [
    "#group 1\n",
    "group_1 = group.get_group(1)\n",
    "group_1"
   ]
  },
  {
   "cell_type": "code",
   "execution_count": 40,
   "metadata": {},
   "outputs": [
    {
     "data": {
      "text/html": [
       "<div>\n",
       "<style scoped>\n",
       "    .dataframe tbody tr th:only-of-type {\n",
       "        vertical-align: middle;\n",
       "    }\n",
       "\n",
       "    .dataframe tbody tr th {\n",
       "        vertical-align: top;\n",
       "    }\n",
       "\n",
       "    .dataframe thead th {\n",
       "        text-align: right;\n",
       "    }\n",
       "</style>\n",
       "<table border=\"1\" class=\"dataframe\">\n",
       "  <thead>\n",
       "    <tr style=\"text-align: right;\">\n",
       "      <th></th>\n",
       "      <th>Animals</th>\n",
       "      <th>water</th>\n",
       "      <th>protein</th>\n",
       "      <th>fat</th>\n",
       "      <th>lactose</th>\n",
       "      <th>ash</th>\n",
       "      <th>y_km</th>\n",
       "    </tr>\n",
       "  </thead>\n",
       "  <tbody>\n",
       "    <tr>\n",
       "      <td>23</td>\n",
       "      <td>SEAL</td>\n",
       "      <td>0.032967</td>\n",
       "      <td>0.777778</td>\n",
       "      <td>1.000000</td>\n",
       "      <td>0.000000</td>\n",
       "      <td>0.340909</td>\n",
       "      <td>2</td>\n",
       "    </tr>\n",
       "    <tr>\n",
       "      <td>24</td>\n",
       "      <td>DOLPHIN</td>\n",
       "      <td>0.000000</td>\n",
       "      <td>0.854701</td>\n",
       "      <td>0.826829</td>\n",
       "      <td>0.130435</td>\n",
       "      <td>0.195455</td>\n",
       "      <td>2</td>\n",
       "    </tr>\n",
       "  </tbody>\n",
       "</table>\n",
       "</div>"
      ],
      "text/plain": [
       "    Animals     water   protein       fat   lactose       ash  y_km\n",
       "23     SEAL  0.032967  0.777778  1.000000  0.000000  0.340909     2\n",
       "24  DOLPHIN  0.000000  0.854701  0.826829  0.130435  0.195455     2"
      ]
     },
     "execution_count": 40,
     "metadata": {},
     "output_type": "execute_result"
    }
   ],
   "source": [
    "#group 2\n",
    "group_2 = group.get_group(2)\n",
    "group_2"
   ]
  },
  {
   "cell_type": "code",
   "execution_count": 41,
   "metadata": {},
   "outputs": [
    {
     "data": {
      "text/html": [
       "<div>\n",
       "<style scoped>\n",
       "    .dataframe tbody tr th:only-of-type {\n",
       "        vertical-align: middle;\n",
       "    }\n",
       "\n",
       "    .dataframe tbody tr th {\n",
       "        vertical-align: top;\n",
       "    }\n",
       "\n",
       "    .dataframe thead th {\n",
       "        text-align: right;\n",
       "    }\n",
       "</style>\n",
       "<table border=\"1\" class=\"dataframe\">\n",
       "  <thead>\n",
       "    <tr style=\"text-align: right;\">\n",
       "      <th></th>\n",
       "      <th>Animals</th>\n",
       "      <th>water</th>\n",
       "      <th>protein</th>\n",
       "      <th>fat</th>\n",
       "      <th>lactose</th>\n",
       "      <th>ash</th>\n",
       "      <th>y_km</th>\n",
       "    </tr>\n",
       "  </thead>\n",
       "  <tbody>\n",
       "    <tr>\n",
       "      <td>7</td>\n",
       "      <td>BUFFALO</td>\n",
       "      <td>0.817582</td>\n",
       "      <td>0.452991</td>\n",
       "      <td>0.168293</td>\n",
       "      <td>0.681159</td>\n",
       "      <td>0.309091</td>\n",
       "      <td>3</td>\n",
       "    </tr>\n",
       "    <tr>\n",
       "      <td>8</td>\n",
       "      <td>GUINEA PIG</td>\n",
       "      <td>0.813187</td>\n",
       "      <td>0.581197</td>\n",
       "      <td>0.151220</td>\n",
       "      <td>0.391304</td>\n",
       "      <td>0.340909</td>\n",
       "      <td>3</td>\n",
       "    </tr>\n",
       "    <tr>\n",
       "      <td>9</td>\n",
       "      <td>CAT</td>\n",
       "      <td>0.806593</td>\n",
       "      <td>0.811966</td>\n",
       "      <td>0.129268</td>\n",
       "      <td>0.637681</td>\n",
       "      <td>0.295455</td>\n",
       "      <td>3</td>\n",
       "    </tr>\n",
       "    <tr>\n",
       "      <td>10</td>\n",
       "      <td>FOX</td>\n",
       "      <td>0.806593</td>\n",
       "      <td>0.512821</td>\n",
       "      <td>0.119512</td>\n",
       "      <td>0.710145</td>\n",
       "      <td>0.377273</td>\n",
       "      <td>3</td>\n",
       "    </tr>\n",
       "    <tr>\n",
       "      <td>13</td>\n",
       "      <td>PIG</td>\n",
       "      <td>0.832967</td>\n",
       "      <td>0.555556</td>\n",
       "      <td>0.100000</td>\n",
       "      <td>0.536232</td>\n",
       "      <td>0.454545</td>\n",
       "      <td>3</td>\n",
       "    </tr>\n",
       "    <tr>\n",
       "      <td>15</td>\n",
       "      <td>SHEEP</td>\n",
       "      <td>0.815385</td>\n",
       "      <td>0.427350</td>\n",
       "      <td>0.131707</td>\n",
       "      <td>0.681159</td>\n",
       "      <td>0.368182</td>\n",
       "      <td>3</td>\n",
       "    </tr>\n",
       "    <tr>\n",
       "      <td>17</td>\n",
       "      <td>ELEPHANT</td>\n",
       "      <td>0.567033</td>\n",
       "      <td>0.256410</td>\n",
       "      <td>0.404878</td>\n",
       "      <td>0.811594</td>\n",
       "      <td>0.240909</td>\n",
       "      <td>3</td>\n",
       "    </tr>\n",
       "  </tbody>\n",
       "</table>\n",
       "</div>"
      ],
      "text/plain": [
       "       Animals     water   protein       fat   lactose       ash  y_km\n",
       "7      BUFFALO  0.817582  0.452991  0.168293  0.681159  0.309091     3\n",
       "8   GUINEA PIG  0.813187  0.581197  0.151220  0.391304  0.340909     3\n",
       "9          CAT  0.806593  0.811966  0.129268  0.637681  0.295455     3\n",
       "10         FOX  0.806593  0.512821  0.119512  0.710145  0.377273     3\n",
       "13         PIG  0.832967  0.555556  0.100000  0.536232  0.454545     3\n",
       "15       SHEEP  0.815385  0.427350  0.131707  0.681159  0.368182     3\n",
       "17    ELEPHANT  0.567033  0.256410  0.404878  0.811594  0.240909     3"
      ]
     },
     "execution_count": 41,
     "metadata": {},
     "output_type": "execute_result"
    }
   ],
   "source": [
    "#group 3\n",
    "group_3 = group.get_group(3)\n",
    "group_3"
   ]
  },
  {
   "cell_type": "code",
   "execution_count": 42,
   "metadata": {},
   "outputs": [],
   "source": [
    "gg = pd.pivot_table(milk,index = ['y_km','Animals'],values = ['water','protein','fat','lactose','ash'])"
   ]
  },
  {
   "cell_type": "code",
   "execution_count": 43,
   "metadata": {},
   "outputs": [
    {
     "data": {
      "text/html": [
       "<div>\n",
       "<style scoped>\n",
       "    .dataframe tbody tr th:only-of-type {\n",
       "        vertical-align: middle;\n",
       "    }\n",
       "\n",
       "    .dataframe tbody tr th {\n",
       "        vertical-align: top;\n",
       "    }\n",
       "\n",
       "    .dataframe thead th {\n",
       "        text-align: right;\n",
       "    }\n",
       "</style>\n",
       "<table border=\"1\" class=\"dataframe\">\n",
       "  <thead>\n",
       "    <tr style=\"text-align: right;\">\n",
       "      <th></th>\n",
       "      <th></th>\n",
       "      <th>ash</th>\n",
       "      <th>fat</th>\n",
       "      <th>lactose</th>\n",
       "      <th>protein</th>\n",
       "      <th>water</th>\n",
       "    </tr>\n",
       "    <tr>\n",
       "      <th>y_km</th>\n",
       "      <th>Animals</th>\n",
       "      <th></th>\n",
       "      <th></th>\n",
       "      <th></th>\n",
       "      <th></th>\n",
       "      <th></th>\n",
       "    </tr>\n",
       "  </thead>\n",
       "  <tbody>\n",
       "    <tr>\n",
       "      <td rowspan=\"6\" valign=\"top\">0</td>\n",
       "      <td>DEER</td>\n",
       "      <td>0.590909</td>\n",
       "      <td>0.456098</td>\n",
       "      <td>0.376812</td>\n",
       "      <td>0.837607</td>\n",
       "      <td>0.461538</td>\n",
       "    </tr>\n",
       "    <tr>\n",
       "      <td>DOG</td>\n",
       "      <td>0.500000</td>\n",
       "      <td>0.207317</td>\n",
       "      <td>0.434783</td>\n",
       "      <td>0.743590</td>\n",
       "      <td>0.690110</td>\n",
       "    </tr>\n",
       "    <tr>\n",
       "      <td>RABBIT</td>\n",
       "      <td>1.000000</td>\n",
       "      <td>0.295122</td>\n",
       "      <td>0.275362</td>\n",
       "      <td>1.000000</td>\n",
       "      <td>0.580220</td>\n",
       "    </tr>\n",
       "    <tr>\n",
       "      <td>RAT</td>\n",
       "      <td>0.590909</td>\n",
       "      <td>0.282927</td>\n",
       "      <td>0.478261</td>\n",
       "      <td>0.735043</td>\n",
       "      <td>0.606593</td>\n",
       "    </tr>\n",
       "    <tr>\n",
       "      <td>REINDEER</td>\n",
       "      <td>0.590909</td>\n",
       "      <td>0.470732</td>\n",
       "      <td>0.362319</td>\n",
       "      <td>0.863248</td>\n",
       "      <td>0.437363</td>\n",
       "    </tr>\n",
       "    <tr>\n",
       "      <td>WHALE</td>\n",
       "      <td>0.727273</td>\n",
       "      <td>0.492683</td>\n",
       "      <td>0.231884</td>\n",
       "      <td>0.897436</td>\n",
       "      <td>0.437363</td>\n",
       "    </tr>\n",
       "    <tr>\n",
       "      <td rowspan=\"10\" valign=\"top\">1</td>\n",
       "      <td>BISON</td>\n",
       "      <td>0.363636</td>\n",
       "      <td>0.017073</td>\n",
       "      <td>0.826087</td>\n",
       "      <td>0.358974</td>\n",
       "      <td>0.923077</td>\n",
       "    </tr>\n",
       "    <tr>\n",
       "      <td>CAMEL</td>\n",
       "      <td>0.277273</td>\n",
       "      <td>0.058537</td>\n",
       "      <td>0.695652</td>\n",
       "      <td>0.247863</td>\n",
       "      <td>0.940659</td>\n",
       "    </tr>\n",
       "    <tr>\n",
       "      <td>DONKEY</td>\n",
       "      <td>0.136364</td>\n",
       "      <td>0.009756</td>\n",
       "      <td>0.898551</td>\n",
       "      <td>0.094017</td>\n",
       "      <td>0.997802</td>\n",
       "    </tr>\n",
       "    <tr>\n",
       "      <td>HIPPO</td>\n",
       "      <td>0.000000</td>\n",
       "      <td>0.085366</td>\n",
       "      <td>0.637681</td>\n",
       "      <td>0.000000</td>\n",
       "      <td>1.000000</td>\n",
       "    </tr>\n",
       "    <tr>\n",
       "      <td>HORSE</td>\n",
       "      <td>0.113636</td>\n",
       "      <td>0.000000</td>\n",
       "      <td>1.000000</td>\n",
       "      <td>0.170940</td>\n",
       "      <td>0.993407</td>\n",
       "    </tr>\n",
       "    <tr>\n",
       "      <td>LLAMA</td>\n",
       "      <td>0.318182</td>\n",
       "      <td>0.053659</td>\n",
       "      <td>0.811594</td>\n",
       "      <td>0.282051</td>\n",
       "      <td>0.914286</td>\n",
       "    </tr>\n",
       "    <tr>\n",
       "      <td>MONKEY</td>\n",
       "      <td>0.036364</td>\n",
       "      <td>0.041463</td>\n",
       "      <td>0.927536</td>\n",
       "      <td>0.136752</td>\n",
       "      <td>0.956044</td>\n",
       "    </tr>\n",
       "    <tr>\n",
       "      <td>MULE</td>\n",
       "      <td>0.168182</td>\n",
       "      <td>0.019512</td>\n",
       "      <td>0.797101</td>\n",
       "      <td>0.119658</td>\n",
       "      <td>0.991209</td>\n",
       "    </tr>\n",
       "    <tr>\n",
       "      <td>ORANGUTAN</td>\n",
       "      <td>0.063636</td>\n",
       "      <td>0.060976</td>\n",
       "      <td>0.869565</td>\n",
       "      <td>0.068376</td>\n",
       "      <td>0.958242</td>\n",
       "    </tr>\n",
       "    <tr>\n",
       "      <td>ZEBRA</td>\n",
       "      <td>0.272727</td>\n",
       "      <td>0.092683</td>\n",
       "      <td>0.768116</td>\n",
       "      <td>0.205128</td>\n",
       "      <td>0.907692</td>\n",
       "    </tr>\n",
       "    <tr>\n",
       "      <td rowspan=\"2\" valign=\"top\">2</td>\n",
       "      <td>DOLPHIN</td>\n",
       "      <td>0.195455</td>\n",
       "      <td>0.826829</td>\n",
       "      <td>0.130435</td>\n",
       "      <td>0.854701</td>\n",
       "      <td>0.000000</td>\n",
       "    </tr>\n",
       "    <tr>\n",
       "      <td>SEAL</td>\n",
       "      <td>0.340909</td>\n",
       "      <td>1.000000</td>\n",
       "      <td>0.000000</td>\n",
       "      <td>0.777778</td>\n",
       "      <td>0.032967</td>\n",
       "    </tr>\n",
       "    <tr>\n",
       "      <td rowspan=\"7\" valign=\"top\">3</td>\n",
       "      <td>BUFFALO</td>\n",
       "      <td>0.309091</td>\n",
       "      <td>0.168293</td>\n",
       "      <td>0.681159</td>\n",
       "      <td>0.452991</td>\n",
       "      <td>0.817582</td>\n",
       "    </tr>\n",
       "    <tr>\n",
       "      <td>CAT</td>\n",
       "      <td>0.295455</td>\n",
       "      <td>0.129268</td>\n",
       "      <td>0.637681</td>\n",
       "      <td>0.811966</td>\n",
       "      <td>0.806593</td>\n",
       "    </tr>\n",
       "    <tr>\n",
       "      <td>ELEPHANT</td>\n",
       "      <td>0.240909</td>\n",
       "      <td>0.404878</td>\n",
       "      <td>0.811594</td>\n",
       "      <td>0.256410</td>\n",
       "      <td>0.567033</td>\n",
       "    </tr>\n",
       "    <tr>\n",
       "      <td>FOX</td>\n",
       "      <td>0.377273</td>\n",
       "      <td>0.119512</td>\n",
       "      <td>0.710145</td>\n",
       "      <td>0.512821</td>\n",
       "      <td>0.806593</td>\n",
       "    </tr>\n",
       "    <tr>\n",
       "      <td>GUINEA PIG</td>\n",
       "      <td>0.340909</td>\n",
       "      <td>0.151220</td>\n",
       "      <td>0.391304</td>\n",
       "      <td>0.581197</td>\n",
       "      <td>0.813187</td>\n",
       "    </tr>\n",
       "    <tr>\n",
       "      <td>PIG</td>\n",
       "      <td>0.454545</td>\n",
       "      <td>0.100000</td>\n",
       "      <td>0.536232</td>\n",
       "      <td>0.555556</td>\n",
       "      <td>0.832967</td>\n",
       "    </tr>\n",
       "    <tr>\n",
       "      <td>SHEEP</td>\n",
       "      <td>0.368182</td>\n",
       "      <td>0.131707</td>\n",
       "      <td>0.681159</td>\n",
       "      <td>0.427350</td>\n",
       "      <td>0.815385</td>\n",
       "    </tr>\n",
       "  </tbody>\n",
       "</table>\n",
       "</div>"
      ],
      "text/plain": [
       "                      ash       fat   lactose   protein     water\n",
       "y_km Animals                                                     \n",
       "0    DEER        0.590909  0.456098  0.376812  0.837607  0.461538\n",
       "     DOG         0.500000  0.207317  0.434783  0.743590  0.690110\n",
       "     RABBIT      1.000000  0.295122  0.275362  1.000000  0.580220\n",
       "     RAT         0.590909  0.282927  0.478261  0.735043  0.606593\n",
       "     REINDEER    0.590909  0.470732  0.362319  0.863248  0.437363\n",
       "     WHALE       0.727273  0.492683  0.231884  0.897436  0.437363\n",
       "1    BISON       0.363636  0.017073  0.826087  0.358974  0.923077\n",
       "     CAMEL       0.277273  0.058537  0.695652  0.247863  0.940659\n",
       "     DONKEY      0.136364  0.009756  0.898551  0.094017  0.997802\n",
       "     HIPPO       0.000000  0.085366  0.637681  0.000000  1.000000\n",
       "     HORSE       0.113636  0.000000  1.000000  0.170940  0.993407\n",
       "     LLAMA       0.318182  0.053659  0.811594  0.282051  0.914286\n",
       "     MONKEY      0.036364  0.041463  0.927536  0.136752  0.956044\n",
       "     MULE        0.168182  0.019512  0.797101  0.119658  0.991209\n",
       "     ORANGUTAN   0.063636  0.060976  0.869565  0.068376  0.958242\n",
       "     ZEBRA       0.272727  0.092683  0.768116  0.205128  0.907692\n",
       "2    DOLPHIN     0.195455  0.826829  0.130435  0.854701  0.000000\n",
       "     SEAL        0.340909  1.000000  0.000000  0.777778  0.032967\n",
       "3    BUFFALO     0.309091  0.168293  0.681159  0.452991  0.817582\n",
       "     CAT         0.295455  0.129268  0.637681  0.811966  0.806593\n",
       "     ELEPHANT    0.240909  0.404878  0.811594  0.256410  0.567033\n",
       "     FOX         0.377273  0.119512  0.710145  0.512821  0.806593\n",
       "     GUINEA PIG  0.340909  0.151220  0.391304  0.581197  0.813187\n",
       "     PIG         0.454545  0.100000  0.536232  0.555556  0.832967\n",
       "     SHEEP       0.368182  0.131707  0.681159  0.427350  0.815385"
      ]
     },
     "execution_count": 43,
     "metadata": {},
     "output_type": "execute_result"
    }
   ],
   "source": [
    "gg"
   ]
  },
  {
   "cell_type": "code",
   "execution_count": 44,
   "metadata": {},
   "outputs": [],
   "source": [
    "#import hierarchical clustering libraries\n",
    "import scipy.cluster.hierarchy as sch\n",
    "from sklearn.cluster import AgglomerativeClustering\n",
    "data1 = milk[['water','protein','fat','lactose','ash']]"
   ]
  },
  {
   "cell_type": "code",
   "execution_count": 45,
   "metadata": {},
   "outputs": [
    {
     "data": {
      "image/png": "[encoded data removed]",
      "text/plain": [
       "<Figure size 432x288 with 1 Axes>"
      ]
     },
     "metadata": {
      "needs_background": "light"
     },
     "output_type": "display_data"
    }
   ],
   "source": [
    "#create dendogram\n",
    "dendrogram = sch.dendrogram(sch.linkage(data1,method ='ward'))\n",
    "#create clusters\n",
    "hc = AgglomerativeClustering(n_clusters = 4,affinity = 'euclidean',linkage = 'ward')\n",
    "#save clusters for chart\n",
    "y_hc = hc.fit_predict(data1)"
   ]
  },
  {
   "cell_type": "code",
   "execution_count": 46,
   "metadata": {},
   "outputs": [],
   "source": [
    "#import hierarchical clustering libraries\n",
    "import scipy.cluster.hierarchy as sch\n",
    "from sklearn.cluster import AgglomerativeClustering\n",
    "data1 = milk[['water','protein','fat','lactose','ash','y_km']]"
   ]
  },
  {
   "cell_type": "code",
   "execution_count": 47,
   "metadata": {},
   "outputs": [
    {
     "data": {
      "image/png": "[encoded data removed]",
      "text/plain": [
       "<Figure size 432x288 with 1 Axes>"
      ]
     },
     "metadata": {
      "needs_background": "light"
     },
     "output_type": "display_data"
    }
   ],
   "source": [
    "#create dendogram\n",
    "dendrogram = sch.dendrogram(sch.linkage(data1,method ='ward'))\n",
    "#create clusters\n",
    "hc = AgglomerativeClustering(n_clusters = 4,affinity = 'euclidean',linkage = 'ward')\n",
    "#save clusters for chart\n",
    "y_hc = hc.fit_predict(data1)"
   ]
  },
  {
   "cell_type": "code",
   "execution_count": 48,
   "metadata": {},
   "outputs": [],
   "source": [
    "milk['y_hc']= pd.Series(y_hc)"
   ]
  },
  {
   "cell_type": "code",
   "execution_count": 49,
   "metadata": {},
   "outputs": [
    {
     "data": {
      "text/html": [
       "<div>\n",
       "<style scoped>\n",
       "    .dataframe tbody tr th:only-of-type {\n",
       "        vertical-align: middle;\n",
       "    }\n",
       "\n",
       "    .dataframe tbody tr th {\n",
       "        vertical-align: top;\n",
       "    }\n",
       "\n",
       "    .dataframe thead th {\n",
       "        text-align: right;\n",
       "    }\n",
       "</style>\n",
       "<table border=\"1\" class=\"dataframe\">\n",
       "  <thead>\n",
       "    <tr style=\"text-align: right;\">\n",
       "      <th></th>\n",
       "      <th>Animals</th>\n",
       "      <th>water</th>\n",
       "      <th>protein</th>\n",
       "      <th>fat</th>\n",
       "      <th>lactose</th>\n",
       "      <th>ash</th>\n",
       "      <th>y_km</th>\n",
       "      <th>y_hc</th>\n",
       "    </tr>\n",
       "  </thead>\n",
       "  <tbody>\n",
       "    <tr>\n",
       "      <td>0</td>\n",
       "      <td>HORSE</td>\n",
       "      <td>0.993407</td>\n",
       "      <td>0.170940</td>\n",
       "      <td>0.000000</td>\n",
       "      <td>1.000000</td>\n",
       "      <td>0.113636</td>\n",
       "      <td>1</td>\n",
       "      <td>1</td>\n",
       "    </tr>\n",
       "    <tr>\n",
       "      <td>1</td>\n",
       "      <td>ORANGUTAN</td>\n",
       "      <td>0.958242</td>\n",
       "      <td>0.068376</td>\n",
       "      <td>0.060976</td>\n",
       "      <td>0.869565</td>\n",
       "      <td>0.063636</td>\n",
       "      <td>1</td>\n",
       "      <td>1</td>\n",
       "    </tr>\n",
       "    <tr>\n",
       "      <td>2</td>\n",
       "      <td>MONKEY</td>\n",
       "      <td>0.956044</td>\n",
       "      <td>0.136752</td>\n",
       "      <td>0.041463</td>\n",
       "      <td>0.927536</td>\n",
       "      <td>0.036364</td>\n",
       "      <td>1</td>\n",
       "      <td>1</td>\n",
       "    </tr>\n",
       "    <tr>\n",
       "      <td>3</td>\n",
       "      <td>DONKEY</td>\n",
       "      <td>0.997802</td>\n",
       "      <td>0.094017</td>\n",
       "      <td>0.009756</td>\n",
       "      <td>0.898551</td>\n",
       "      <td>0.136364</td>\n",
       "      <td>1</td>\n",
       "      <td>1</td>\n",
       "    </tr>\n",
       "    <tr>\n",
       "      <td>4</td>\n",
       "      <td>HIPPO</td>\n",
       "      <td>1.000000</td>\n",
       "      <td>0.000000</td>\n",
       "      <td>0.085366</td>\n",
       "      <td>0.637681</td>\n",
       "      <td>0.000000</td>\n",
       "      <td>1</td>\n",
       "      <td>1</td>\n",
       "    </tr>\n",
       "    <tr>\n",
       "      <td>5</td>\n",
       "      <td>CAMEL</td>\n",
       "      <td>0.940659</td>\n",
       "      <td>0.247863</td>\n",
       "      <td>0.058537</td>\n",
       "      <td>0.695652</td>\n",
       "      <td>0.277273</td>\n",
       "      <td>1</td>\n",
       "      <td>1</td>\n",
       "    </tr>\n",
       "    <tr>\n",
       "      <td>6</td>\n",
       "      <td>BISON</td>\n",
       "      <td>0.923077</td>\n",
       "      <td>0.358974</td>\n",
       "      <td>0.017073</td>\n",
       "      <td>0.826087</td>\n",
       "      <td>0.363636</td>\n",
       "      <td>1</td>\n",
       "      <td>1</td>\n",
       "    </tr>\n",
       "    <tr>\n",
       "      <td>7</td>\n",
       "      <td>BUFFALO</td>\n",
       "      <td>0.817582</td>\n",
       "      <td>0.452991</td>\n",
       "      <td>0.168293</td>\n",
       "      <td>0.681159</td>\n",
       "      <td>0.309091</td>\n",
       "      <td>3</td>\n",
       "      <td>0</td>\n",
       "    </tr>\n",
       "    <tr>\n",
       "      <td>8</td>\n",
       "      <td>GUINEA PIG</td>\n",
       "      <td>0.813187</td>\n",
       "      <td>0.581197</td>\n",
       "      <td>0.151220</td>\n",
       "      <td>0.391304</td>\n",
       "      <td>0.340909</td>\n",
       "      <td>3</td>\n",
       "      <td>0</td>\n",
       "    </tr>\n",
       "    <tr>\n",
       "      <td>9</td>\n",
       "      <td>CAT</td>\n",
       "      <td>0.806593</td>\n",
       "      <td>0.811966</td>\n",
       "      <td>0.129268</td>\n",
       "      <td>0.637681</td>\n",
       "      <td>0.295455</td>\n",
       "      <td>3</td>\n",
       "      <td>0</td>\n",
       "    </tr>\n",
       "    <tr>\n",
       "      <td>10</td>\n",
       "      <td>FOX</td>\n",
       "      <td>0.806593</td>\n",
       "      <td>0.512821</td>\n",
       "      <td>0.119512</td>\n",
       "      <td>0.710145</td>\n",
       "      <td>0.377273</td>\n",
       "      <td>3</td>\n",
       "      <td>0</td>\n",
       "    </tr>\n",
       "    <tr>\n",
       "      <td>11</td>\n",
       "      <td>LLAMA</td>\n",
       "      <td>0.914286</td>\n",
       "      <td>0.282051</td>\n",
       "      <td>0.053659</td>\n",
       "      <td>0.811594</td>\n",
       "      <td>0.318182</td>\n",
       "      <td>1</td>\n",
       "      <td>1</td>\n",
       "    </tr>\n",
       "    <tr>\n",
       "      <td>12</td>\n",
       "      <td>MULE</td>\n",
       "      <td>0.991209</td>\n",
       "      <td>0.119658</td>\n",
       "      <td>0.019512</td>\n",
       "      <td>0.797101</td>\n",
       "      <td>0.168182</td>\n",
       "      <td>1</td>\n",
       "      <td>1</td>\n",
       "    </tr>\n",
       "    <tr>\n",
       "      <td>13</td>\n",
       "      <td>PIG</td>\n",
       "      <td>0.832967</td>\n",
       "      <td>0.555556</td>\n",
       "      <td>0.100000</td>\n",
       "      <td>0.536232</td>\n",
       "      <td>0.454545</td>\n",
       "      <td>3</td>\n",
       "      <td>0</td>\n",
       "    </tr>\n",
       "    <tr>\n",
       "      <td>14</td>\n",
       "      <td>ZEBRA</td>\n",
       "      <td>0.907692</td>\n",
       "      <td>0.205128</td>\n",
       "      <td>0.092683</td>\n",
       "      <td>0.768116</td>\n",
       "      <td>0.272727</td>\n",
       "      <td>1</td>\n",
       "      <td>1</td>\n",
       "    </tr>\n",
       "    <tr>\n",
       "      <td>15</td>\n",
       "      <td>SHEEP</td>\n",
       "      <td>0.815385</td>\n",
       "      <td>0.427350</td>\n",
       "      <td>0.131707</td>\n",
       "      <td>0.681159</td>\n",
       "      <td>0.368182</td>\n",
       "      <td>3</td>\n",
       "      <td>0</td>\n",
       "    </tr>\n",
       "    <tr>\n",
       "      <td>16</td>\n",
       "      <td>DOG</td>\n",
       "      <td>0.690110</td>\n",
       "      <td>0.743590</td>\n",
       "      <td>0.207317</td>\n",
       "      <td>0.434783</td>\n",
       "      <td>0.500000</td>\n",
       "      <td>0</td>\n",
       "      <td>2</td>\n",
       "    </tr>\n",
       "    <tr>\n",
       "      <td>17</td>\n",
       "      <td>ELEPHANT</td>\n",
       "      <td>0.567033</td>\n",
       "      <td>0.256410</td>\n",
       "      <td>0.404878</td>\n",
       "      <td>0.811594</td>\n",
       "      <td>0.240909</td>\n",
       "      <td>3</td>\n",
       "      <td>0</td>\n",
       "    </tr>\n",
       "    <tr>\n",
       "      <td>18</td>\n",
       "      <td>RABBIT</td>\n",
       "      <td>0.580220</td>\n",
       "      <td>1.000000</td>\n",
       "      <td>0.295122</td>\n",
       "      <td>0.275362</td>\n",
       "      <td>1.000000</td>\n",
       "      <td>0</td>\n",
       "      <td>2</td>\n",
       "    </tr>\n",
       "    <tr>\n",
       "      <td>19</td>\n",
       "      <td>RAT</td>\n",
       "      <td>0.606593</td>\n",
       "      <td>0.735043</td>\n",
       "      <td>0.282927</td>\n",
       "      <td>0.478261</td>\n",
       "      <td>0.590909</td>\n",
       "      <td>0</td>\n",
       "      <td>2</td>\n",
       "    </tr>\n",
       "    <tr>\n",
       "      <td>20</td>\n",
       "      <td>DEER</td>\n",
       "      <td>0.461538</td>\n",
       "      <td>0.837607</td>\n",
       "      <td>0.456098</td>\n",
       "      <td>0.376812</td>\n",
       "      <td>0.590909</td>\n",
       "      <td>0</td>\n",
       "      <td>2</td>\n",
       "    </tr>\n",
       "    <tr>\n",
       "      <td>21</td>\n",
       "      <td>REINDEER</td>\n",
       "      <td>0.437363</td>\n",
       "      <td>0.863248</td>\n",
       "      <td>0.470732</td>\n",
       "      <td>0.362319</td>\n",
       "      <td>0.590909</td>\n",
       "      <td>0</td>\n",
       "      <td>2</td>\n",
       "    </tr>\n",
       "    <tr>\n",
       "      <td>22</td>\n",
       "      <td>WHALE</td>\n",
       "      <td>0.437363</td>\n",
       "      <td>0.897436</td>\n",
       "      <td>0.492683</td>\n",
       "      <td>0.231884</td>\n",
       "      <td>0.727273</td>\n",
       "      <td>0</td>\n",
       "      <td>2</td>\n",
       "    </tr>\n",
       "    <tr>\n",
       "      <td>23</td>\n",
       "      <td>SEAL</td>\n",
       "      <td>0.032967</td>\n",
       "      <td>0.777778</td>\n",
       "      <td>1.000000</td>\n",
       "      <td>0.000000</td>\n",
       "      <td>0.340909</td>\n",
       "      <td>2</td>\n",
       "      <td>3</td>\n",
       "    </tr>\n",
       "    <tr>\n",
       "      <td>24</td>\n",
       "      <td>DOLPHIN</td>\n",
       "      <td>0.000000</td>\n",
       "      <td>0.854701</td>\n",
       "      <td>0.826829</td>\n",
       "      <td>0.130435</td>\n",
       "      <td>0.195455</td>\n",
       "      <td>2</td>\n",
       "      <td>3</td>\n",
       "    </tr>\n",
       "  </tbody>\n",
       "</table>\n",
       "</div>"
      ],
      "text/plain": [
       "       Animals     water   protein       fat   lactose       ash  y_km  y_hc\n",
       "0        HORSE  0.993407  0.170940  0.000000  1.000000  0.113636     1     1\n",
       "1    ORANGUTAN  0.958242  0.068376  0.060976  0.869565  0.063636     1     1\n",
       "2       MONKEY  0.956044  0.136752  0.041463  0.927536  0.036364     1     1\n",
       "3       DONKEY  0.997802  0.094017  0.009756  0.898551  0.136364     1     1\n",
       "4        HIPPO  1.000000  0.000000  0.085366  0.637681  0.000000     1     1\n",
       "5        CAMEL  0.940659  0.247863  0.058537  0.695652  0.277273     1     1\n",
       "6        BISON  0.923077  0.358974  0.017073  0.826087  0.363636     1     1\n",
       "7      BUFFALO  0.817582  0.452991  0.168293  0.681159  0.309091     3     0\n",
       "8   GUINEA PIG  0.813187  0.581197  0.151220  0.391304  0.340909     3     0\n",
       "9          CAT  0.806593  0.811966  0.129268  0.637681  0.295455     3     0\n",
       "10         FOX  0.806593  0.512821  0.119512  0.710145  0.377273     3     0\n",
       "11       LLAMA  0.914286  0.282051  0.053659  0.811594  0.318182     1     1\n",
       "12        MULE  0.991209  0.119658  0.019512  0.797101  0.168182     1     1\n",
       "13         PIG  0.832967  0.555556  0.100000  0.536232  0.454545     3     0\n",
       "14       ZEBRA  0.907692  0.205128  0.092683  0.768116  0.272727     1     1\n",
       "15       SHEEP  0.815385  0.427350  0.131707  0.681159  0.368182     3     0\n",
       "16         DOG  0.690110  0.743590  0.207317  0.434783  0.500000     0     2\n",
       "17    ELEPHANT  0.567033  0.256410  0.404878  0.811594  0.240909     3     0\n",
       "18      RABBIT  0.580220  1.000000  0.295122  0.275362  1.000000     0     2\n",
       "19         RAT  0.606593  0.735043  0.282927  0.478261  0.590909     0     2\n",
       "20        DEER  0.461538  0.837607  0.456098  0.376812  0.590909     0     2\n",
       "21    REINDEER  0.437363  0.863248  0.470732  0.362319  0.590909     0     2\n",
       "22       WHALE  0.437363  0.897436  0.492683  0.231884  0.727273     0     2\n",
       "23        SEAL  0.032967  0.777778  1.000000  0.000000  0.340909     2     3\n",
       "24     DOLPHIN  0.000000  0.854701  0.826829  0.130435  0.195455     2     3"
      ]
     },
     "execution_count": 49,
     "metadata": {},
     "output_type": "execute_result"
    }
   ],
   "source": [
    "milk"
   ]
  },
  {
   "cell_type": "code",
   "execution_count": 50,
   "metadata": {},
   "outputs": [],
   "source": [
    "#import hierarchical clustering libraries\n",
    "import scipy.cluster.hierarchy as sch\n",
    "from sklearn.cluster import AgglomerativeClustering\n",
    "data1 = milk[['water','protein','fat','lactose','ash','y_hc']]"
   ]
  },
  {
   "cell_type": "code",
   "execution_count": 51,
   "metadata": {},
   "outputs": [
    {
     "data": {
      "image/png": "[encoded data removed]",
      "text/plain": [
       "<Figure size 432x288 with 1 Axes>"
      ]
     },
     "metadata": {
      "needs_background": "light"
     },
     "output_type": "display_data"
    }
   ],
   "source": [
    "#create dendogram\n",
    "dendrogram = sch.dendrogram(sch.linkage(data1,method ='ward'))\n",
    "#create clusters\n",
    "hc = AgglomerativeClustering(n_clusters = 4,affinity = 'euclidean',linkage = 'ward')\n",
    "#save clusters for chart\n",
    "y_hc = hc.fit_predict(data1)"
   ]
  },
  {
   "cell_type": "code",
   "execution_count": 52,
   "metadata": {},
   "outputs": [
    {
     "data": {
      "application/vnd.plotly.v1+json": {
       "config": {
        "plotlyServerURL": "https://plot.ly"
       },
       "data": [
        {
         "coloraxis": "coloraxis",
         "type": "heatmap",
         "z": [
          [
           "HORSE",
           1
          ],
          [
           "ORANGUTAN",
           1
          ],
          [
           "MONKEY",
           1
          ],
          [
           "DONKEY",
           1
          ],
          [
           "HIPPO",
           1
          ],
          [
           "CAMEL",
           1
          ],
          [
           "BISON",
           1
          ],
          [
           "BUFFALO",
           3
          ],
          [
           "GUINEA PIG",
           3
          ],
          [
           "CAT",
           3
          ],
          [
           "FOX",
           3
          ],
          [
           "LLAMA",
           1
          ],
          [
           "MULE",
           1
          ],
          [
           "PIG",
           3
          ],
          [
           "ZEBRA",
           1
          ],
          [
           "SHEEP",
           3
          ],
          [
           "DOG",
           0
          ],
          [
           "ELEPHANT",
           3
          ],
          [
           "RABBIT",
           0
          ],
          [
           "RAT",
           0
          ],
          [
           "DEER",
           0
          ],
          [
           "REINDEER",
           0
          ],
          [
           "WHALE",
           0
          ],
          [
           "SEAL",
           2
          ],
          [
           "DOLPHIN",
           2
          ]
         ]
        }
       ],
       "layout": {
        "coloraxis": {
         "colorscale": [
          [
           0,
           "#0d0887"
          ],
          [
           0.1111111111111111,
           "#46039f"
          ],
          [
           0.2222222222222222,
           "#7201a8"
          ],
          [
           0.3333333333333333,
           "#9c179e"
          ],
          [
           0.4444444444444444,
           "#bd3786"
          ],
          [
           0.5555555555555556,
           "#d8576b"
          ],
          [
           0.6666666666666666,
           "#ed7953"
          ],
          [
           0.7777777777777778,
           "#fb9f3a"
          ],
          [
           0.8888888888888888,
           "#fdca26"
          ],
          [
           1,
           "#f0f921"
          ]
         ]
        },
        "height": 500,
        "margin": {
         "t": 60
        },
        "template": {
         "data": {
          "bar": [
           {
            "error_x": {
             "color": "#2a3f5f"
            },
            "error_y": {
             "color": "#2a3f5f"
            },
            "marker": {
             "line": {
              "color": "#E5ECF6",
              "width": 0.5
             }
            },
            "type": "bar"
           }
          ],
          "barpolar": [
           {
            "marker": {
             "line": {
              "color": "#E5ECF6",
              "width": 0.5
             }
            },
            "type": "barpolar"
           }
          ],
          "carpet": [
           {
            "aaxis": {
             "endlinecolor": "#2a3f5f",
             "gridcolor": "white",
             "linecolor": "white",
             "minorgridcolor": "white",
             "startlinecolor": "#2a3f5f"
            },
            "baxis": {
             "endlinecolor": "#2a3f5f",
             "gridcolor": "white",
             "linecolor": "white",
             "minorgridcolor": "white",
             "startlinecolor": "#2a3f5f"
            },
            "type": "carpet"
           }
          ],
          "choropleth": [
           {
            "colorbar": {
             "outlinewidth": 0,
             "ticks": ""
            },
            "type": "choropleth"
           }
          ],
          "contour": [
           {
            "colorbar": {
             "outlinewidth": 0,
             "ticks": ""
            },
            "colorscale": [
             [
              0,
              "#0d0887"
             ],
             [
              0.1111111111111111,
              "#46039f"
             ],
             [
              0.2222222222222222,
              "#7201a8"
             ],
             [
              0.3333333333333333,
              "#9c179e"
             ],
             [
              0.4444444444444444,
              "#bd3786"
             ],
             [
              0.5555555555555556,
              "#d8576b"
             ],
             [
              0.6666666666666666,
              "#ed7953"
             ],
             [
              0.7777777777777778,
              "#fb9f3a"
             ],
             [
              0.8888888888888888,
              "#fdca26"
             ],
             [
              1,
              "#f0f921"
             ]
            ],
            "type": "contour"
           }
          ],
          "contourcarpet": [
           {
            "colorbar": {
             "outlinewidth": 0,
             "ticks": ""
            },
            "type": "contourcarpet"
           }
          ],
          "heatmap": [
           {
            "colorbar": {
             "outlinewidth": 0,
             "ticks": ""
            },
            "colorscale": [
             [
              0,
              "#0d0887"
             ],
             [
              0.1111111111111111,
              "#46039f"
             ],
             [
              0.2222222222222222,
              "#7201a8"
             ],
             [
              0.3333333333333333,
              "#9c179e"
             ],
             [
              0.4444444444444444,
              "#bd3786"
             ],
             [
              0.5555555555555556,
              "#d8576b"
             ],
             [
              0.6666666666666666,
              "#ed7953"
             ],
             [
              0.7777777777777778,
              "#fb9f3a"
             ],
             [
              0.8888888888888888,
              "#fdca26"
             ],
             [
              1,
              "#f0f921"
             ]
            ],
            "type": "heatmap"
           }
          ],
          "heatmapgl": [
           {
            "colorbar": {
             "outlinewidth": 0,
             "ticks": ""
            },
            "colorscale": [
             [
              0,
              "#0d0887"
             ],
             [
              0.1111111111111111,
              "#46039f"
             ],
             [
              0.2222222222222222,
              "#7201a8"
             ],
             [
              0.3333333333333333,
              "#9c179e"
             ],
             [
              0.4444444444444444,
              "#bd3786"
             ],
             [
              0.5555555555555556,
              "#d8576b"
             ],
             [
              0.6666666666666666,
              "#ed7953"
             ],
             [
              0.7777777777777778,
              "#fb9f3a"
             ],
             [
              0.8888888888888888,
              "#fdca26"
             ],
             [
              1,
              "#f0f921"
             ]
            ],
            "type": "heatmapgl"
           }
          ],
          "histogram": [
           {
            "marker": {
             "colorbar": {
              "outlinewidth": 0,
              "ticks": ""
             }
            },
            "type": "histogram"
           }
          ],
          "histogram2d": [
           {
            "colorbar": {
             "outlinewidth": 0,
             "ticks": ""
            },
            "colorscale": [
             [
              0,
              "#0d0887"
             ],
             [
              0.1111111111111111,
              "#46039f"
             ],
             [
              0.2222222222222222,
              "#7201a8"
             ],
             [
              0.3333333333333333,
              "#9c179e"
             ],
             [
              0.4444444444444444,
              "#bd3786"
             ],
             [
              0.5555555555555556,
              "#d8576b"
             ],
             [
              0.6666666666666666,
              "#ed7953"
             ],
             [
              0.7777777777777778,
              "#fb9f3a"
             ],
             [
              0.8888888888888888,
              "#fdca26"
             ],
             [
              1,
              "#f0f921"
             ]
            ],
            "type": "histogram2d"
           }
          ],
          "histogram2dcontour": [
           {
            "colorbar": {
             "outlinewidth": 0,
             "ticks": ""
            },
            "colorscale": [
             [
              0,
              "#0d0887"
             ],
             [
              0.1111111111111111,
              "#46039f"
             ],
             [
              0.2222222222222222,
              "#7201a8"
             ],
             [
              0.3333333333333333,
              "#9c179e"
             ],
             [
              0.4444444444444444,
              "#bd3786"
             ],
             [
              0.5555555555555556,
              "#d8576b"
             ],
             [
              0.6666666666666666,
              "#ed7953"
             ],
             [
              0.7777777777777778,
              "#fb9f3a"
             ],
             [
              0.8888888888888888,
              "#fdca26"
             ],
             [
              1,
              "#f0f921"
             ]
            ],
            "type": "histogram2dcontour"
           }
          ],
          "mesh3d": [
           {
            "colorbar": {
             "outlinewidth": 0,
             "ticks": ""
            },
            "type": "mesh3d"
           }
          ],
          "parcoords": [
           {
            "line": {
             "colorbar": {
              "outlinewidth": 0,
              "ticks": ""
             }
            },
            "type": "parcoords"
           }
          ],
          "pie": [
           {
            "automargin": true,
            "type": "pie"
           }
          ],
          "scatter": [
           {
            "marker": {
             "colorbar": {
              "outlinewidth": 0,
              "ticks": ""
             }
            },
            "type": "scatter"
           }
          ],
          "scatter3d": [
           {
            "line": {
             "colorbar": {
              "outlinewidth": 0,
              "ticks": ""
             }
            },
            "marker": {
             "colorbar": {
              "outlinewidth": 0,
              "ticks": ""
             }
            },
            "type": "scatter3d"
           }
          ],
          "scattercarpet": [
           {
            "marker": {
             "colorbar": {
              "outlinewidth": 0,
              "ticks": ""
             }
            },
            "type": "scattercarpet"
           }
          ],
          "scattergeo": [
           {
            "marker": {
             "colorbar": {
              "outlinewidth": 0,
              "ticks": ""
             }
            },
            "type": "scattergeo"
           }
          ],
          "scattergl": [
           {
            "marker": {
             "colorbar": {
              "outlinewidth": 0,
              "ticks": ""
             }
            },
            "type": "scattergl"
           }
          ],
          "scattermapbox": [
           {
            "marker": {
             "colorbar": {
              "outlinewidth": 0,
              "ticks": ""
             }
            },
            "type": "scattermapbox"
           }
          ],
          "scatterpolar": [
           {
            "marker": {
             "colorbar": {
              "outlinewidth": 0,
              "ticks": ""
             }
            },
            "type": "scatterpolar"
           }
          ],
          "scatterpolargl": [
           {
            "marker": {
             "colorbar": {
              "outlinewidth": 0,
              "ticks": ""
             }
            },
            "type": "scatterpolargl"
           }
          ],
          "scatterternary": [
           {
            "marker": {
             "colorbar": {
              "outlinewidth": 0,
              "ticks": ""
             }
            },
            "type": "scatterternary"
           }
          ],
          "surface": [
           {
            "colorbar": {
             "outlinewidth": 0,
             "ticks": ""
            },
            "colorscale": [
             [
              0,
              "#0d0887"
             ],
             [
              0.1111111111111111,
              "#46039f"
             ],
             [
              0.2222222222222222,
              "#7201a8"
             ],
             [
              0.3333333333333333,
              "#9c179e"
             ],
             [
              0.4444444444444444,
              "#bd3786"
             ],
             [
              0.5555555555555556,
              "#d8576b"
             ],
             [
              0.6666666666666666,
              "#ed7953"
             ],
             [
              0.7777777777777778,
              "#fb9f3a"
             ],
             [
              0.8888888888888888,
              "#fdca26"
             ],
             [
              1,
              "#f0f921"
             ]
            ],
            "type": "surface"
           }
          ],
          "table": [
           {
            "cells": {
             "fill": {
              "color": "#EBF0F8"
             },
             "line": {
              "color": "white"
             }
            },
            "header": {
             "fill": {
              "color": "#C8D4E3"
             },
             "line": {
              "color": "white"
             }
            },
            "type": "table"
           }
          ]
         },
         "layout": {
          "annotationdefaults": {
           "arrowcolor": "#2a3f5f",
           "arrowhead": 0,
           "arrowwidth": 1
          },
          "coloraxis": {
           "colorbar": {
            "outlinewidth": 0,
            "ticks": ""
           }
          },
          "colorscale": {
           "diverging": [
            [
             0,
             "#8e0152"
            ],
            [
             0.1,
             "#c51b7d"
            ],
            [
             0.2,
             "#de77ae"
            ],
            [
             0.3,
             "#f1b6da"
            ],
            [
             0.4,
             "#fde0ef"
            ],
            [
             0.5,
             "#f7f7f7"
            ],
            [
             0.6,
             "#e6f5d0"
            ],
            [
             0.7,
             "#b8e186"
            ],
            [
             0.8,
             "#7fbc41"
            ],
            [
             0.9,
             "#4d9221"
            ],
            [
             1,
             "#276419"
            ]
           ],
           "sequential": [
            [
             0,
             "#0d0887"
            ],
            [
             0.1111111111111111,
             "#46039f"
            ],
            [
             0.2222222222222222,
             "#7201a8"
            ],
            [
             0.3333333333333333,
             "#9c179e"
            ],
            [
             0.4444444444444444,
             "#bd3786"
            ],
            [
             0.5555555555555556,
             "#d8576b"
            ],
            [
             0.6666666666666666,
             "#ed7953"
            ],
            [
             0.7777777777777778,
             "#fb9f3a"
            ],
            [
             0.8888888888888888,
             "#fdca26"
            ],
            [
             1,
             "#f0f921"
            ]
           ],
           "sequentialminus": [
            [
             0,
             "#0d0887"
            ],
            [
             0.1111111111111111,
             "#46039f"
            ],
            [
             0.2222222222222222,
             "#7201a8"
            ],
            [
             0.3333333333333333,
             "#9c179e"
            ],
            [
             0.4444444444444444,
             "#bd3786"
            ],
            [
             0.5555555555555556,
             "#d8576b"
            ],
            [
             0.6666666666666666,
             "#ed7953"
            ],
            [
             0.7777777777777778,
             "#fb9f3a"
            ],
            [
             0.8888888888888888,
             "#fdca26"
            ],
            [
             1,
             "#f0f921"
            ]
           ]
          },
          "colorway": [
           "#636efa",
           "#EF553B",
           "#00cc96",
           "#ab63fa",
           "#FFA15A",
           "#19d3f3",
           "#FF6692",
           "#B6E880",
           "#FF97FF",
           "#FECB52"
          ],
          "font": {
           "color": "#2a3f5f"
          },
          "geo": {
           "bgcolor": "white",
           "lakecolor": "white",
           "landcolor": "#E5ECF6",
           "showlakes": true,
           "showland": true,
           "subunitcolor": "white"
          },
          "hoverlabel": {
           "align": "left"
          },
          "hovermode": "closest",
          "mapbox": {
           "style": "light"
          },
          "paper_bgcolor": "white",
          "plot_bgcolor": "#E5ECF6",
          "polar": {
           "angularaxis": {
            "gridcolor": "white",
            "linecolor": "white",
            "ticks": ""
           },
           "bgcolor": "#E5ECF6",
           "radialaxis": {
            "gridcolor": "white",
            "linecolor": "white",
            "ticks": ""
           }
          },
          "scene": {
           "xaxis": {
            "backgroundcolor": "#E5ECF6",
            "gridcolor": "white",
            "gridwidth": 2,
            "linecolor": "white",
            "showbackground": true,
            "ticks": "",
            "zerolinecolor": "white"
           },
           "yaxis": {
            "backgroundcolor": "#E5ECF6",
            "gridcolor": "white",
            "gridwidth": 2,
            "linecolor": "white",
            "showbackground": true,
            "ticks": "",
            "zerolinecolor": "white"
           },
           "zaxis": {
            "backgroundcolor": "#E5ECF6",
            "gridcolor": "white",
            "gridwidth": 2,
            "linecolor": "white",
            "showbackground": true,
            "ticks": "",
            "zerolinecolor": "white"
           }
          },
          "shapedefaults": {
           "line": {
            "color": "#2a3f5f"
           }
          },
          "ternary": {
           "aaxis": {
            "gridcolor": "white",
            "linecolor": "white",
            "ticks": ""
           },
           "baxis": {
            "gridcolor": "white",
            "linecolor": "white",
            "ticks": ""
           },
           "bgcolor": "#E5ECF6",
           "caxis": {
            "gridcolor": "white",
            "linecolor": "white",
            "ticks": ""
           }
          },
          "title": {
           "x": 0.05
          },
          "xaxis": {
           "automargin": true,
           "gridcolor": "white",
           "linecolor": "white",
           "ticks": "",
           "title": {
            "standoff": 15
           },
           "zerolinecolor": "white",
           "zerolinewidth": 2
          },
          "yaxis": {
           "automargin": true,
           "gridcolor": "white",
           "linecolor": "white",
           "ticks": "",
           "title": {
            "standoff": 15
           },
           "zerolinecolor": "white",
           "zerolinewidth": 2
          }
         }
        },
        "width": 800,
        "xaxis": {
         "constrain": "domain",
         "scaleanchor": "y"
        },
        "yaxis": {
         "autorange": "reversed",
         "constrain": "domain"
        }
       }
      },
      "text/html": [
       "<div>\n",
       "        \n",
       "        \n",
       "            <div id=\"04fb9e3b-66ad-4d4c-a3fd-519b33295dce\" class=\"plotly-graph-div\" style=\"height:500px; width:800px;\"></div>\n",
       "            <script type=\"text/javascript\">\n",
       "                require([\"plotly\"], function(Plotly) {\n",
       "                    window.PLOTLYENV=window.PLOTLYENV || {};\n",
       "                    \n",
       "                if (document.getElementById(\"04fb9e3b-66ad-4d4c-a3fd-519b33295dce\")) {\n",
       "                    Plotly.newPlot(\n",
       "                        '04fb9e3b-66ad-4d4c-a3fd-519b33295dce',\n",
       "                        [{\"coloraxis\": \"coloraxis\", \"type\": \"heatmap\", \"z\": [[\"HORSE\", 1], [\"ORANGUTAN\", 1], [\"MONKEY\", 1], [\"DONKEY\", 1], [\"HIPPO\", 1], [\"CAMEL\", 1], [\"BISON\", 1], [\"BUFFALO\", 3], [\"GUINEA PIG\", 3], [\"CAT\", 3], [\"FOX\", 3], [\"LLAMA\", 1], [\"MULE\", 1], [\"PIG\", 3], [\"ZEBRA\", 1], [\"SHEEP\", 3], [\"DOG\", 0], [\"ELEPHANT\", 3], [\"RABBIT\", 0], [\"RAT\", 0], [\"DEER\", 0], [\"REINDEER\", 0], [\"WHALE\", 0], [\"SEAL\", 2], [\"DOLPHIN\", 2]]}],\n",
       "                        {\"coloraxis\": {\"colorscale\": [[0.0, \"#0d0887\"], [0.1111111111111111, \"#46039f\"], [0.2222222222222222, \"#7201a8\"], [0.3333333333333333, \"#9c179e\"], [0.4444444444444444, \"#bd3786\"], [0.5555555555555556, \"#d8576b\"], [0.6666666666666666, \"#ed7953\"], [0.7777777777777778, \"#fb9f3a\"], [0.8888888888888888, \"#fdca26\"], [1.0, \"#f0f921\"]]}, \"height\": 500, \"margin\": {\"t\": 60}, \"template\": {\"data\": {\"bar\": [{\"error_x\": {\"color\": \"#2a3f5f\"}, \"error_y\": {\"color\": \"#2a3f5f\"}, \"marker\": {\"line\": {\"color\": \"#E5ECF6\", \"width\": 0.5}}, \"type\": \"bar\"}], \"barpolar\": [{\"marker\": {\"line\": {\"color\": \"#E5ECF6\", \"width\": 0.5}}, \"type\": \"barpolar\"}], \"carpet\": [{\"aaxis\": {\"endlinecolor\": \"#2a3f5f\", \"gridcolor\": \"white\", \"linecolor\": \"white\", \"minorgridcolor\": \"white\", \"startlinecolor\": \"#2a3f5f\"}, \"baxis\": {\"endlinecolor\": \"#2a3f5f\", \"gridcolor\": \"white\", \"linecolor\": \"white\", \"minorgridcolor\": \"white\", \"startlinecolor\": \"#2a3f5f\"}, \"type\": \"carpet\"}], \"choropleth\": [{\"colorbar\": {\"outlinewidth\": 0, \"ticks\": \"\"}, \"type\": \"choropleth\"}], \"contour\": [{\"colorbar\": {\"outlinewidth\": 0, \"ticks\": \"\"}, \"colorscale\": [[0.0, \"#0d0887\"], [0.1111111111111111, \"#46039f\"], [0.2222222222222222, \"#7201a8\"], [0.3333333333333333, \"#9c179e\"], [0.4444444444444444, \"#bd3786\"], [0.5555555555555556, \"#d8576b\"], [0.6666666666666666, \"#ed7953\"], [0.7777777777777778, \"#fb9f3a\"], [0.8888888888888888, \"#fdca26\"], [1.0, \"#f0f921\"]], \"type\": \"contour\"}], \"contourcarpet\": [{\"colorbar\": {\"outlinewidth\": 0, \"ticks\": \"\"}, \"type\": \"contourcarpet\"}], \"heatmap\": [{\"colorbar\": {\"outlinewidth\": 0, \"ticks\": \"\"}, \"colorscale\": [[0.0, \"#0d0887\"], [0.1111111111111111, \"#46039f\"], [0.2222222222222222, \"#7201a8\"], [0.3333333333333333, \"#9c179e\"], [0.4444444444444444, \"#bd3786\"], [0.5555555555555556, \"#d8576b\"], [0.6666666666666666, \"#ed7953\"], [0.7777777777777778, \"#fb9f3a\"], [0.8888888888888888, \"#fdca26\"], [1.0, \"#f0f921\"]], \"type\": \"heatmap\"}], \"heatmapgl\": [{\"colorbar\": {\"outlinewidth\": 0, \"ticks\": \"\"}, \"colorscale\": [[0.0, \"#0d0887\"], [0.1111111111111111, \"#46039f\"], [0.2222222222222222, \"#7201a8\"], [0.3333333333333333, \"#9c179e\"], [0.4444444444444444, \"#bd3786\"], [0.5555555555555556, \"#d8576b\"], [0.6666666666666666, \"#ed7953\"], [0.7777777777777778, \"#fb9f3a\"], [0.8888888888888888, \"#fdca26\"], [1.0, \"#f0f921\"]], \"type\": \"heatmapgl\"}], \"histogram\": [{\"marker\": {\"colorbar\": {\"outlinewidth\": 0, \"ticks\": \"\"}}, \"type\": \"histogram\"}], \"histogram2d\": [{\"colorbar\": {\"outlinewidth\": 0, \"ticks\": \"\"}, \"colorscale\": [[0.0, \"#0d0887\"], [0.1111111111111111, \"#46039f\"], [0.2222222222222222, \"#7201a8\"], [0.3333333333333333, \"#9c179e\"], [0.4444444444444444, \"#bd3786\"], [0.5555555555555556, \"#d8576b\"], [0.6666666666666666, \"#ed7953\"], [0.7777777777777778, \"#fb9f3a\"], [0.8888888888888888, \"#fdca26\"], [1.0, \"#f0f921\"]], \"type\": \"histogram2d\"}], \"histogram2dcontour\": [{\"colorbar\": {\"outlinewidth\": 0, \"ticks\": \"\"}, \"colorscale\": [[0.0, \"#0d0887\"], [0.1111111111111111, \"#46039f\"], [0.2222222222222222, \"#7201a8\"], [0.3333333333333333, \"#9c179e\"], [0.4444444444444444, \"#bd3786\"], [0.5555555555555556, \"#d8576b\"], [0.6666666666666666, \"#ed7953\"], [0.7777777777777778, \"#fb9f3a\"], [0.8888888888888888, \"#fdca26\"], [1.0, \"#f0f921\"]], \"type\": \"histogram2dcontour\"}], \"mesh3d\": [{\"colorbar\": {\"outlinewidth\": 0, \"ticks\": \"\"}, \"type\": \"mesh3d\"}], \"parcoords\": [{\"line\": {\"colorbar\": {\"outlinewidth\": 0, \"ticks\": \"\"}}, \"type\": \"parcoords\"}], \"pie\": [{\"automargin\": true, \"type\": \"pie\"}], \"scatter\": [{\"marker\": {\"colorbar\": {\"outlinewidth\": 0, \"ticks\": \"\"}}, \"type\": \"scatter\"}], \"scatter3d\": [{\"line\": {\"colorbar\": {\"outlinewidth\": 0, \"ticks\": \"\"}}, \"marker\": {\"colorbar\": {\"outlinewidth\": 0, \"ticks\": \"\"}}, \"type\": \"scatter3d\"}], \"scattercarpet\": [{\"marker\": {\"colorbar\": {\"outlinewidth\": 0, \"ticks\": \"\"}}, \"type\": \"scattercarpet\"}], \"scattergeo\": [{\"marker\": {\"colorbar\": {\"outlinewidth\": 0, \"ticks\": \"\"}}, \"type\": \"scattergeo\"}], \"scattergl\": [{\"marker\": {\"colorbar\": {\"outlinewidth\": 0, \"ticks\": \"\"}}, \"type\": \"scattergl\"}], \"scattermapbox\": [{\"marker\": {\"colorbar\": {\"outlinewidth\": 0, \"ticks\": \"\"}}, \"type\": \"scattermapbox\"}], \"scatterpolar\": [{\"marker\": {\"colorbar\": {\"outlinewidth\": 0, \"ticks\": \"\"}}, \"type\": \"scatterpolar\"}], \"scatterpolargl\": [{\"marker\": {\"colorbar\": {\"outlinewidth\": 0, \"ticks\": \"\"}}, \"type\": \"scatterpolargl\"}], \"scatterternary\": [{\"marker\": {\"colorbar\": {\"outlinewidth\": 0, \"ticks\": \"\"}}, \"type\": \"scatterternary\"}], \"surface\": [{\"colorbar\": {\"outlinewidth\": 0, \"ticks\": \"\"}, \"colorscale\": [[0.0, \"#0d0887\"], [0.1111111111111111, \"#46039f\"], [0.2222222222222222, \"#7201a8\"], [0.3333333333333333, \"#9c179e\"], [0.4444444444444444, \"#bd3786\"], [0.5555555555555556, \"#d8576b\"], [0.6666666666666666, \"#ed7953\"], [0.7777777777777778, \"#fb9f3a\"], [0.8888888888888888, \"#fdca26\"], [1.0, \"#f0f921\"]], \"type\": \"surface\"}], \"table\": [{\"cells\": {\"fill\": {\"color\": \"#EBF0F8\"}, \"line\": {\"color\": \"white\"}}, \"header\": {\"fill\": {\"color\": \"#C8D4E3\"}, \"line\": {\"color\": \"white\"}}, \"type\": \"table\"}]}, \"layout\": {\"annotationdefaults\": {\"arrowcolor\": \"#2a3f5f\", \"arrowhead\": 0, \"arrowwidth\": 1}, \"coloraxis\": {\"colorbar\": {\"outlinewidth\": 0, \"ticks\": \"\"}}, \"colorscale\": {\"diverging\": [[0, \"#8e0152\"], [0.1, \"#c51b7d\"], [0.2, \"#de77ae\"], [0.3, \"#f1b6da\"], [0.4, \"#fde0ef\"], [0.5, \"#f7f7f7\"], [0.6, \"#e6f5d0\"], [0.7, \"#b8e186\"], [0.8, \"#7fbc41\"], [0.9, \"#4d9221\"], [1, \"#276419\"]], \"sequential\": [[0.0, \"#0d0887\"], [0.1111111111111111, \"#46039f\"], [0.2222222222222222, \"#7201a8\"], [0.3333333333333333, \"#9c179e\"], [0.4444444444444444, \"#bd3786\"], [0.5555555555555556, \"#d8576b\"], [0.6666666666666666, \"#ed7953\"], [0.7777777777777778, \"#fb9f3a\"], [0.8888888888888888, \"#fdca26\"], [1.0, \"#f0f921\"]], \"sequentialminus\": [[0.0, \"#0d0887\"], [0.1111111111111111, \"#46039f\"], [0.2222222222222222, \"#7201a8\"], [0.3333333333333333, \"#9c179e\"], [0.4444444444444444, \"#bd3786\"], [0.5555555555555556, \"#d8576b\"], [0.6666666666666666, \"#ed7953\"], [0.7777777777777778, \"#fb9f3a\"], [0.8888888888888888, \"#fdca26\"], [1.0, \"#f0f921\"]]}, \"colorway\": [\"#636efa\", \"#EF553B\", \"#00cc96\", \"#ab63fa\", \"#FFA15A\", \"#19d3f3\", \"#FF6692\", \"#B6E880\", \"#FF97FF\", \"#FECB52\"], \"font\": {\"color\": \"#2a3f5f\"}, \"geo\": {\"bgcolor\": \"white\", \"lakecolor\": \"white\", \"landcolor\": \"#E5ECF6\", \"showlakes\": true, \"showland\": true, \"subunitcolor\": \"white\"}, \"hoverlabel\": {\"align\": \"left\"}, \"hovermode\": \"closest\", \"mapbox\": {\"style\": \"light\"}, \"paper_bgcolor\": \"white\", \"plot_bgcolor\": \"#E5ECF6\", \"polar\": {\"angularaxis\": {\"gridcolor\": \"white\", \"linecolor\": \"white\", \"ticks\": \"\"}, \"bgcolor\": \"#E5ECF6\", \"radialaxis\": {\"gridcolor\": \"white\", \"linecolor\": \"white\", \"ticks\": \"\"}}, \"scene\": {\"xaxis\": {\"backgroundcolor\": \"#E5ECF6\", \"gridcolor\": \"white\", \"gridwidth\": 2, \"linecolor\": \"white\", \"showbackground\": true, \"ticks\": \"\", \"zerolinecolor\": \"white\"}, \"yaxis\": {\"backgroundcolor\": \"#E5ECF6\", \"gridcolor\": \"white\", \"gridwidth\": 2, \"linecolor\": \"white\", \"showbackground\": true, \"ticks\": \"\", \"zerolinecolor\": \"white\"}, \"zaxis\": {\"backgroundcolor\": \"#E5ECF6\", \"gridcolor\": \"white\", \"gridwidth\": 2, \"linecolor\": \"white\", \"showbackground\": true, \"ticks\": \"\", \"zerolinecolor\": \"white\"}}, \"shapedefaults\": {\"line\": {\"color\": \"#2a3f5f\"}}, \"ternary\": {\"aaxis\": {\"gridcolor\": \"white\", \"linecolor\": \"white\", \"ticks\": \"\"}, \"baxis\": {\"gridcolor\": \"white\", \"linecolor\": \"white\", \"ticks\": \"\"}, \"bgcolor\": \"#E5ECF6\", \"caxis\": {\"gridcolor\": \"white\", \"linecolor\": \"white\", \"ticks\": \"\"}}, \"title\": {\"x\": 0.05}, \"xaxis\": {\"automargin\": true, \"gridcolor\": \"white\", \"linecolor\": \"white\", \"ticks\": \"\", \"title\": {\"standoff\": 15}, \"zerolinecolor\": \"white\", \"zerolinewidth\": 2}, \"yaxis\": {\"automargin\": true, \"gridcolor\": \"white\", \"linecolor\": \"white\", \"ticks\": \"\", \"title\": {\"standoff\": 15}, \"zerolinecolor\": \"white\", \"zerolinewidth\": 2}}}, \"width\": 800, \"xaxis\": {\"constrain\": \"domain\", \"scaleanchor\": \"y\"}, \"yaxis\": {\"autorange\": \"reversed\", \"constrain\": \"domain\"}},\n",
       "                        {\"responsive\": true}\n",
       "                    ).then(function(){\n",
       "                            \n",
       "var gd = document.getElementById('04fb9e3b-66ad-4d4c-a3fd-519b33295dce');\n",
       "var x = new MutationObserver(function (mutations, observer) {{\n",
       "        var display = window.getComputedStyle(gd).display;\n",
       "        if (!display || display === 'none') {{\n",
       "            console.log([gd, 'removed!']);\n",
       "            Plotly.purge(gd);\n",
       "            observer.disconnect();\n",
       "        }}\n",
       "}});\n",
       "\n",
       "// Listen for the removal of the full notebook cells\n",
       "var notebookContainer = gd.closest('#notebook-container');\n",
       "if (notebookContainer) {{\n",
       "    x.observe(notebookContainer, {childList: true});\n",
       "}}\n",
       "\n",
       "// Listen for the clearing of the current output cell\n",
       "var outputEl = gd.closest('.output');\n",
       "if (outputEl) {{\n",
       "    x.observe(outputEl, {childList: true});\n",
       "}}\n",
       "\n",
       "                        })\n",
       "                };\n",
       "                });\n",
       "            </script>\n",
       "        </div>"
      ]
     },
     "metadata": {},
     "output_type": "display_data"
    }
   ],
   "source": [
    "import plotly.offline as pyo\n",
    "import plotly.express as px\n",
    "data1 = milk[['Animals','y_km']]\n",
    "fig = px.imshow(data1,width=800 ,height = 500)\n",
    "fig.show()"
   ]
  },
  {
   "cell_type": "code",
   "execution_count": 53,
   "metadata": {},
   "outputs": [
    {
     "data": {
      "text/plain": [
       "'temp-plot.html'"
      ]
     },
     "execution_count": 53,
     "metadata": {},
     "output_type": "execute_result"
    }
   ],
   "source": [
    "pyo.plot(fig)"
   ]
  },
  {
   "cell_type": "code",
   "execution_count": 54,
   "metadata": {},
   "outputs": [
    {
     "data": {
      "application/vnd.plotly.v1+json": {
       "config": {
        "linkText": "Export to plot.ly",
        "plotlyServerURL": "https://plot.ly",
        "showLink": false
       },
       "data": [
        {
         "hoverinfo": "text",
         "marker": {
          "color": "rgb(61,153,112)"
         },
         "mode": "lines",
         "type": "scatter",
         "x": [
          5,
          5,
          15,
          15
         ],
         "xaxis": "x",
         "y": [
          0,
          0.2741575179592506,
          0.2741575179592506,
          0
         ],
         "yaxis": "y"
        },
        {
         "hoverinfo": "text",
         "marker": {
          "color": "rgb(61,153,112)"
         },
         "mode": "lines",
         "type": "scatter",
         "x": [
          55,
          55,
          65,
          65
         ],
         "xaxis": "x",
         "y": [
          0,
          0.07411151774360397,
          0.07411151774360397,
          0
         ],
         "yaxis": "y"
        },
        {
         "hoverinfo": "text",
         "marker": {
          "color": "rgb(61,153,112)"
         },
         "mode": "lines",
         "type": "scatter",
         "x": [
          45,
          45,
          60,
          60
         ],
         "xaxis": "x",
         "y": [
          0,
          0.10755803416730868,
          0.10755803416730868,
          0.07411151774360397
         ],
         "yaxis": "y"
        },
        {
         "hoverinfo": "text",
         "marker": {
          "color": "rgb(61,153,112)"
         },
         "mode": "lines",
         "type": "scatter",
         "x": [
          75,
          75,
          85,
          85
         ],
         "xaxis": "x",
         "y": [
          0,
          0.19387978651402454,
          0.19387978651402454,
          0
         ],
         "yaxis": "y"
        },
        {
         "hoverinfo": "text",
         "marker": {
          "color": "rgb(61,153,112)"
         },
         "mode": "lines",
         "type": "scatter",
         "x": [
          52.5,
          52.5,
          80,
          80
         ],
         "xaxis": "x",
         "y": [
          0.10755803416730868,
          0.32986961034945467,
          0.32986961034945467,
          0.19387978651402454
         ],
         "yaxis": "y"
        },
        {
         "hoverinfo": "text",
         "marker": {
          "color": "rgb(61,153,112)"
         },
         "mode": "lines",
         "type": "scatter",
         "x": [
          35,
          35,
          66.25,
          66.25
         ],
         "xaxis": "x",
         "y": [
          0,
          0.39394396002657034,
          0.39394396002657034,
          0.32986961034945467
         ],
         "yaxis": "y"
        },
        {
         "hoverinfo": "text",
         "marker": {
          "color": "rgb(61,153,112)"
         },
         "mode": "lines",
         "type": "scatter",
         "x": [
          25,
          25,
          50.625,
          50.625
         ],
         "xaxis": "x",
         "y": [
          0,
          0.6893568527770151,
          0.6893568527770151,
          0.39394396002657034
         ],
         "yaxis": "y"
        },
        {
         "hoverinfo": "text",
         "marker": {
          "color": "rgb(61,153,112)"
         },
         "mode": "lines",
         "type": "scatter",
         "x": [
          10,
          10,
          37.8125,
          37.8125
         ],
         "xaxis": "x",
         "y": [
          0.2741575179592506,
          1.7186130285583439,
          1.7186130285583439,
          0.6893568527770151
         ],
         "yaxis": "y"
        },
        {
         "hoverinfo": "text",
         "marker": {
          "color": "rgb(255,65,54)"
         },
         "mode": "lines",
         "type": "scatter",
         "x": [
          105,
          105,
          115,
          115
         ],
         "xaxis": "x",
         "y": [
          0,
          0.09669922761913496,
          0.09669922761913496,
          0
         ],
         "yaxis": "y"
        },
        {
         "hoverinfo": "text",
         "marker": {
          "color": "rgb(255,65,54)"
         },
         "mode": "lines",
         "type": "scatter",
         "x": [
          125,
          125,
          135,
          135
         ],
         "xaxis": "x",
         "y": [
          0,
          0.09802596451977436,
          0.09802596451977436,
          0
         ],
         "yaxis": "y"
        },
        {
         "hoverinfo": "text",
         "marker": {
          "color": "rgb(255,65,54)"
         },
         "mode": "lines",
         "type": "scatter",
         "x": [
          110,
          110,
          130,
          130
         ],
         "xaxis": "x",
         "y": [
          0.09669922761913496,
          0.20309421949468687,
          0.20309421949468687,
          0.09802596451977436
         ],
         "yaxis": "y"
        },
        {
         "hoverinfo": "text",
         "marker": {
          "color": "rgb(255,65,54)"
         },
         "mode": "lines",
         "type": "scatter",
         "x": [
          145,
          145,
          155,
          155
         ],
         "xaxis": "x",
         "y": [
          0,
          0.11000213094210257,
          0.11000213094210257,
          0
         ],
         "yaxis": "y"
        },
        {
         "hoverinfo": "text",
         "marker": {
          "color": "rgb(255,65,54)"
         },
         "mode": "lines",
         "type": "scatter",
         "x": [
          175,
          175,
          185,
          185
         ],
         "xaxis": "x",
         "y": [
          0,
          0.09573548450683352,
          0.09573548450683352,
          0
         ],
         "yaxis": "y"
        },
        {
         "hoverinfo": "text",
         "marker": {
          "color": "rgb(255,65,54)"
         },
         "mode": "lines",
         "type": "scatter",
         "x": [
          165,
          165,
          180,
          180
         ],
         "xaxis": "x",
         "y": [
          0,
          0.1870487055989839,
          0.1870487055989839,
          0.09573548450683352
         ],
         "yaxis": "y"
        },
        {
         "hoverinfo": "text",
         "marker": {
          "color": "rgb(255,65,54)"
         },
         "mode": "lines",
         "type": "scatter",
         "x": [
          150,
          150,
          172.5,
          172.5
         ],
         "xaxis": "x",
         "y": [
          0.11000213094210257,
          0.2171599258021639,
          0.2171599258021639,
          0.1870487055989839
         ],
         "yaxis": "y"
        },
        {
         "hoverinfo": "text",
         "marker": {
          "color": "rgb(255,65,54)"
         },
         "mode": "lines",
         "type": "scatter",
         "x": [
          120,
          120,
          161.25,
          161.25
         ],
         "xaxis": "x",
         "y": [
          0.20309421949468687,
          0.4236764277740158,
          0.4236764277740158,
          0.2171599258021639
         ],
         "yaxis": "y"
        },
        {
         "hoverinfo": "text",
         "marker": {
          "color": "rgb(255,65,54)"
         },
         "mode": "lines",
         "type": "scatter",
         "x": [
          95,
          95,
          140.625,
          140.625
         ],
         "xaxis": "x",
         "y": [
          0,
          0.5542308093617858,
          0.5542308093617858,
          0.4236764277740158
         ],
         "yaxis": "y"
        },
        {
         "hoverinfo": "text",
         "marker": {
          "color": "rgb(255,65,54)"
         },
         "mode": "lines",
         "type": "scatter",
         "x": [
          195,
          195,
          205,
          205
         ],
         "xaxis": "x",
         "y": [
          0,
          0.15139257435341286,
          0.15139257435341286,
          0
         ],
         "yaxis": "y"
        },
        {
         "hoverinfo": "text",
         "marker": {
          "color": "rgb(255,65,54)"
         },
         "mode": "lines",
         "type": "scatter",
         "x": [
          235,
          235,
          245,
          245
         ],
         "xaxis": "x",
         "y": [
          0,
          0.04081826573030646,
          0.04081826573030646,
          0
         ],
         "yaxis": "y"
        },
        {
         "hoverinfo": "text",
         "marker": {
          "color": "rgb(255,65,54)"
         },
         "mode": "lines",
         "type": "scatter",
         "x": [
          225,
          225,
          240,
          240
         ],
         "xaxis": "x",
         "y": [
          0,
          0.2123711561154522,
          0.2123711561154522,
          0.04081826573030646
         ],
         "yaxis": "y"
        },
        {
         "hoverinfo": "text",
         "marker": {
          "color": "rgb(255,65,54)"
         },
         "mode": "lines",
         "type": "scatter",
         "x": [
          215,
          215,
          232.5,
          232.5
         ],
         "xaxis": "x",
         "y": [
          0,
          0.4948382616391141,
          0.4948382616391141,
          0.2123711561154522
         ],
         "yaxis": "y"
        },
        {
         "hoverinfo": "text",
         "marker": {
          "color": "rgb(255,65,54)"
         },
         "mode": "lines",
         "type": "scatter",
         "x": [
          200,
          200,
          223.75,
          223.75
         ],
         "xaxis": "x",
         "y": [
          0.15139257435341286,
          0.6007882998783101,
          0.6007882998783101,
          0.4948382616391141
         ],
         "yaxis": "y"
        },
        {
         "hoverinfo": "text",
         "marker": {
          "color": "rgb(255,65,54)"
         },
         "mode": "lines",
         "type": "scatter",
         "x": [
          117.8125,
          117.8125,
          211.875,
          211.875
         ],
         "xaxis": "x",
         "y": [
          0.5542308093617858,
          1.83070696607124,
          1.83070696607124,
          0.6007882998783101
         ],
         "yaxis": "y"
        },
        {
         "hoverinfo": "text",
         "marker": {
          "color": "rgb(0,116,217)"
         },
         "mode": "lines",
         "type": "scatter",
         "x": [
          23.90625,
          23.90625,
          164.84375,
          164.84375
         ],
         "xaxis": "x",
         "y": [
          1.7186130285583439,
          3.229382238371686,
          3.229382238371686,
          1.83070696607124
         ],
         "yaxis": "y"
        }
       ],
       "layout": {
        "autosize": false,
        "height": 500,
        "hovermode": "closest",
        "showlegend": false,
        "template": {
         "data": {
          "bar": [
           {
            "error_x": {
             "color": "#2a3f5f"
            },
            "error_y": {
             "color": "#2a3f5f"
            },
            "marker": {
             "line": {
              "color": "#E5ECF6",
              "width": 0.5
             }
            },
            "type": "bar"
           }
          ],
          "barpolar": [
           {
            "marker": {
             "line": {
              "color": "#E5ECF6",
              "width": 0.5
             }
            },
            "type": "barpolar"
           }
          ],
          "carpet": [
           {
            "aaxis": {
             "endlinecolor": "#2a3f5f",
             "gridcolor": "white",
             "linecolor": "white",
             "minorgridcolor": "white",
             "startlinecolor": "#2a3f5f"
            },
            "baxis": {
             "endlinecolor": "#2a3f5f",
             "gridcolor": "white",
             "linecolor": "white",
             "minorgridcolor": "white",
             "startlinecolor": "#2a3f5f"
            },
            "type": "carpet"
           }
          ],
          "choropleth": [
           {
            "colorbar": {
             "outlinewidth": 0,
             "ticks": ""
            },
            "type": "choropleth"
           }
          ],
          "contour": [
           {
            "colorbar": {
             "outlinewidth": 0,
             "ticks": ""
            },
            "colorscale": [
             [
              0,
              "#0d0887"
             ],
             [
              0.1111111111111111,
              "#46039f"
             ],
             [
              0.2222222222222222,
              "#7201a8"
             ],
             [
              0.3333333333333333,
              "#9c179e"
             ],
             [
              0.4444444444444444,
              "#bd3786"
             ],
             [
              0.5555555555555556,
              "#d8576b"
             ],
             [
              0.6666666666666666,
              "#ed7953"
             ],
             [
              0.7777777777777778,
              "#fb9f3a"
             ],
             [
              0.8888888888888888,
              "#fdca26"
             ],
             [
              1,
              "#f0f921"
             ]
            ],
            "type": "contour"
           }
          ],
          "contourcarpet": [
           {
            "colorbar": {
             "outlinewidth": 0,
             "ticks": ""
            },
            "type": "contourcarpet"
           }
          ],
          "heatmap": [
           {
            "colorbar": {
             "outlinewidth": 0,
             "ticks": ""
            },
            "colorscale": [
             [
              0,
              "#0d0887"
             ],
             [
              0.1111111111111111,
              "#46039f"
             ],
             [
              0.2222222222222222,
              "#7201a8"
             ],
             [
              0.3333333333333333,
              "#9c179e"
             ],
             [
              0.4444444444444444,
              "#bd3786"
             ],
             [
              0.5555555555555556,
              "#d8576b"
             ],
             [
              0.6666666666666666,
              "#ed7953"
             ],
             [
              0.7777777777777778,
              "#fb9f3a"
             ],
             [
              0.8888888888888888,
              "#fdca26"
             ],
             [
              1,
              "#f0f921"
             ]
            ],
            "type": "heatmap"
           }
          ],
          "heatmapgl": [
           {
            "colorbar": {
             "outlinewidth": 0,
             "ticks": ""
            },
            "colorscale": [
             [
              0,
              "#0d0887"
             ],
             [
              0.1111111111111111,
              "#46039f"
             ],
             [
              0.2222222222222222,
              "#7201a8"
             ],
             [
              0.3333333333333333,
              "#9c179e"
             ],
             [
              0.4444444444444444,
              "#bd3786"
             ],
             [
              0.5555555555555556,
              "#d8576b"
             ],
             [
              0.6666666666666666,
              "#ed7953"
             ],
             [
              0.7777777777777778,
              "#fb9f3a"
             ],
             [
              0.8888888888888888,
              "#fdca26"
             ],
             [
              1,
              "#f0f921"
             ]
            ],
            "type": "heatmapgl"
           }
          ],
          "histogram": [
           {
            "marker": {
             "colorbar": {
              "outlinewidth": 0,
              "ticks": ""
             }
            },
            "type": "histogram"
           }
          ],
          "histogram2d": [
           {
            "colorbar": {
             "outlinewidth": 0,
             "ticks": ""
            },
            "colorscale": [
             [
              0,
              "#0d0887"
             ],
             [
              0.1111111111111111,
              "#46039f"
             ],
             [
              0.2222222222222222,
              "#7201a8"
             ],
             [
              0.3333333333333333,
              "#9c179e"
             ],
             [
              0.4444444444444444,
              "#bd3786"
             ],
             [
              0.5555555555555556,
              "#d8576b"
             ],
             [
              0.6666666666666666,
              "#ed7953"
             ],
             [
              0.7777777777777778,
              "#fb9f3a"
             ],
             [
              0.8888888888888888,
              "#fdca26"
             ],
             [
              1,
              "#f0f921"
             ]
            ],
            "type": "histogram2d"
           }
          ],
          "histogram2dcontour": [
           {
            "colorbar": {
             "outlinewidth": 0,
             "ticks": ""
            },
            "colorscale": [
             [
              0,
              "#0d0887"
             ],
             [
              0.1111111111111111,
              "#46039f"
             ],
             [
              0.2222222222222222,
              "#7201a8"
             ],
             [
              0.3333333333333333,
              "#9c179e"
             ],
             [
              0.4444444444444444,
              "#bd3786"
             ],
             [
              0.5555555555555556,
              "#d8576b"
             ],
             [
              0.6666666666666666,
              "#ed7953"
             ],
             [
              0.7777777777777778,
              "#fb9f3a"
             ],
             [
              0.8888888888888888,
              "#fdca26"
             ],
             [
              1,
              "#f0f921"
             ]
            ],
            "type": "histogram2dcontour"
           }
          ],
          "mesh3d": [
           {
            "colorbar": {
             "outlinewidth": 0,
             "ticks": ""
            },
            "type": "mesh3d"
           }
          ],
          "parcoords": [
           {
            "line": {
             "colorbar": {
              "outlinewidth": 0,
              "ticks": ""
             }
            },
            "type": "parcoords"
           }
          ],
          "pie": [
           {
            "automargin": true,
            "type": "pie"
           }
          ],
          "scatter": [
           {
            "marker": {
             "colorbar": {
              "outlinewidth": 0,
              "ticks": ""
             }
            },
            "type": "scatter"
           }
          ],
          "scatter3d": [
           {
            "line": {
             "colorbar": {
              "outlinewidth": 0,
              "ticks": ""
             }
            },
            "marker": {
             "colorbar": {
              "outlinewidth": 0,
              "ticks": ""
             }
            },
            "type": "scatter3d"
           }
          ],
          "scattercarpet": [
           {
            "marker": {
             "colorbar": {
              "outlinewidth": 0,
              "ticks": ""
             }
            },
            "type": "scattercarpet"
           }
          ],
          "scattergeo": [
           {
            "marker": {
             "colorbar": {
              "outlinewidth": 0,
              "ticks": ""
             }
            },
            "type": "scattergeo"
           }
          ],
          "scattergl": [
           {
            "marker": {
             "colorbar": {
              "outlinewidth": 0,
              "ticks": ""
             }
            },
            "type": "scattergl"
           }
          ],
          "scattermapbox": [
           {
            "marker": {
             "colorbar": {
              "outlinewidth": 0,
              "ticks": ""
             }
            },
            "type": "scattermapbox"
           }
          ],
          "scatterpolar": [
           {
            "marker": {
             "colorbar": {
              "outlinewidth": 0,
              "ticks": ""
             }
            },
            "type": "scatterpolar"
           }
          ],
          "scatterpolargl": [
           {
            "marker": {
             "colorbar": {
              "outlinewidth": 0,
              "ticks": ""
             }
            },
            "type": "scatterpolargl"
           }
          ],
          "scatterternary": [
           {
            "marker": {
             "colorbar": {
              "outlinewidth": 0,
              "ticks": ""
             }
            },
            "type": "scatterternary"
           }
          ],
          "surface": [
           {
            "colorbar": {
             "outlinewidth": 0,
             "ticks": ""
            },
            "colorscale": [
             [
              0,
              "#0d0887"
             ],
             [
              0.1111111111111111,
              "#46039f"
             ],
             [
              0.2222222222222222,
              "#7201a8"
             ],
             [
              0.3333333333333333,
              "#9c179e"
             ],
             [
              0.4444444444444444,
              "#bd3786"
             ],
             [
              0.5555555555555556,
              "#d8576b"
             ],
             [
              0.6666666666666666,
              "#ed7953"
             ],
             [
              0.7777777777777778,
              "#fb9f3a"
             ],
             [
              0.8888888888888888,
              "#fdca26"
             ],
             [
              1,
              "#f0f921"
             ]
            ],
            "type": "surface"
           }
          ],
          "table": [
           {
            "cells": {
             "fill": {
              "color": "#EBF0F8"
             },
             "line": {
              "color": "white"
             }
            },
            "header": {
             "fill": {
              "color": "#C8D4E3"
             },
             "line": {
              "color": "white"
             }
            },
            "type": "table"
           }
          ]
         },
         "layout": {
          "annotationdefaults": {
           "arrowcolor": "#2a3f5f",
           "arrowhead": 0,
           "arrowwidth": 1
          },
          "coloraxis": {
           "colorbar": {
            "outlinewidth": 0,
            "ticks": ""
           }
          },
          "colorscale": {
           "diverging": [
            [
             0,
             "#8e0152"
            ],
            [
             0.1,
             "#c51b7d"
            ],
            [
             0.2,
             "#de77ae"
            ],
            [
             0.3,
             "#f1b6da"
            ],
            [
             0.4,
             "#fde0ef"
            ],
            [
             0.5,
             "#f7f7f7"
            ],
            [
             0.6,
             "#e6f5d0"
            ],
            [
             0.7,
             "#b8e186"
            ],
            [
             0.8,
             "#7fbc41"
            ],
            [
             0.9,
             "#4d9221"
            ],
            [
             1,
             "#276419"
            ]
           ],
           "sequential": [
            [
             0,
             "#0d0887"
            ],
            [
             0.1111111111111111,
             "#46039f"
            ],
            [
             0.2222222222222222,
             "#7201a8"
            ],
            [
             0.3333333333333333,
             "#9c179e"
            ],
            [
             0.4444444444444444,
             "#bd3786"
            ],
            [
             0.5555555555555556,
             "#d8576b"
            ],
            [
             0.6666666666666666,
             "#ed7953"
            ],
            [
             0.7777777777777778,
             "#fb9f3a"
            ],
            [
             0.8888888888888888,
             "#fdca26"
            ],
            [
             1,
             "#f0f921"
            ]
           ],
           "sequentialminus": [
            [
             0,
             "#0d0887"
            ],
            [
             0.1111111111111111,
             "#46039f"
            ],
            [
             0.2222222222222222,
             "#7201a8"
            ],
            [
             0.3333333333333333,
             "#9c179e"
            ],
            [
             0.4444444444444444,
             "#bd3786"
            ],
            [
             0.5555555555555556,
             "#d8576b"
            ],
            [
             0.6666666666666666,
             "#ed7953"
            ],
            [
             0.7777777777777778,
             "#fb9f3a"
            ],
            [
             0.8888888888888888,
             "#fdca26"
            ],
            [
             1,
             "#f0f921"
            ]
           ]
          },
          "colorway": [
           "#636efa",
           "#EF553B",
           "#00cc96",
           "#ab63fa",
           "#FFA15A",
           "#19d3f3",
           "#FF6692",
           "#B6E880",
           "#FF97FF",
           "#FECB52"
          ],
          "font": {
           "color": "#2a3f5f"
          },
          "geo": {
           "bgcolor": "white",
           "lakecolor": "white",
           "landcolor": "#E5ECF6",
           "showlakes": true,
           "showland": true,
           "subunitcolor": "white"
          },
          "hoverlabel": {
           "align": "left"
          },
          "hovermode": "closest",
          "mapbox": {
           "style": "light"
          },
          "paper_bgcolor": "white",
          "plot_bgcolor": "#E5ECF6",
          "polar": {
           "angularaxis": {
            "gridcolor": "white",
            "linecolor": "white",
            "ticks": ""
           },
           "bgcolor": "#E5ECF6",
           "radialaxis": {
            "gridcolor": "white",
            "linecolor": "white",
            "ticks": ""
           }
          },
          "scene": {
           "xaxis": {
            "backgroundcolor": "#E5ECF6",
            "gridcolor": "white",
            "gridwidth": 2,
            "linecolor": "white",
            "showbackground": true,
            "ticks": "",
            "zerolinecolor": "white"
           },
           "yaxis": {
            "backgroundcolor": "#E5ECF6",
            "gridcolor": "white",
            "gridwidth": 2,
            "linecolor": "white",
            "showbackground": true,
            "ticks": "",
            "zerolinecolor": "white"
           },
           "zaxis": {
            "backgroundcolor": "#E5ECF6",
            "gridcolor": "white",
            "gridwidth": 2,
            "linecolor": "white",
            "showbackground": true,
            "ticks": "",
            "zerolinecolor": "white"
           }
          },
          "shapedefaults": {
           "line": {
            "color": "#2a3f5f"
           }
          },
          "ternary": {
           "aaxis": {
            "gridcolor": "white",
            "linecolor": "white",
            "ticks": ""
           },
           "baxis": {
            "gridcolor": "white",
            "linecolor": "white",
            "ticks": ""
           },
           "bgcolor": "#E5ECF6",
           "caxis": {
            "gridcolor": "white",
            "linecolor": "white",
            "ticks": ""
           }
          },
          "title": {
           "x": 0.05
          },
          "xaxis": {
           "automargin": true,
           "gridcolor": "white",
           "linecolor": "white",
           "ticks": "",
           "title": {
            "standoff": 15
           },
           "zerolinecolor": "white",
           "zerolinewidth": 2
          },
          "yaxis": {
           "automargin": true,
           "gridcolor": "white",
           "linecolor": "white",
           "ticks": "",
           "title": {
            "standoff": 15
           },
           "zerolinecolor": "white",
           "zerolinewidth": 2
          }
         }
        },
        "width": 800,
        "xaxis": {
         "mirror": "allticks",
         "rangemode": "tozero",
         "showgrid": false,
         "showline": true,
         "showticklabels": true,
         "tickmode": "array",
         "ticks": "outside",
         "ticktext": [
          "23",
          "24",
          "17",
          "9",
          "10",
          "7",
          "15",
          "8",
          "13",
          "4",
          "5",
          "14",
          "6",
          "11",
          "3",
          "12",
          "0",
          "1",
          "2",
          "16",
          "19",
          "18",
          "22",
          "20",
          "21"
         ],
         "tickvals": [
          5,
          15,
          25,
          35,
          45,
          55,
          65,
          75,
          85,
          95,
          105,
          115,
          125,
          135,
          145,
          155,
          165,
          175,
          185,
          195,
          205,
          215,
          225,
          235,
          245
         ],
         "type": "linear",
         "zeroline": false
        },
        "yaxis": {
         "mirror": "allticks",
         "rangemode": "tozero",
         "showgrid": false,
         "showline": true,
         "showticklabels": true,
         "ticks": "outside",
         "type": "linear",
         "zeroline": false
        }
       }
      },
      "text/html": [
       "<div>\n",
       "        \n",
       "        \n",
       "            <div id=\"b16143ca-3ab0-4e9d-ab3d-9c9c2a7b20b8\" class=\"plotly-graph-div\" style=\"height:500px; width:800px;\"></div>\n",
       "            <script type=\"text/javascript\">\n",
       "                require([\"plotly\"], function(Plotly) {\n",
       "                    window.PLOTLYENV=window.PLOTLYENV || {};\n",
       "                    \n",
       "                if (document.getElementById(\"b16143ca-3ab0-4e9d-ab3d-9c9c2a7b20b8\")) {\n",
       "                    Plotly.newPlot(\n",
       "                        'b16143ca-3ab0-4e9d-ab3d-9c9c2a7b20b8',\n",
       "                        [{\"hoverinfo\": \"text\", \"marker\": {\"color\": \"rgb(61,153,112)\"}, \"mode\": \"lines\", \"type\": \"scatter\", \"x\": [5.0, 5.0, 15.0, 15.0], \"xaxis\": \"x\", \"y\": [0.0, 0.2741575179592506, 0.2741575179592506, 0.0], \"yaxis\": \"y\"}, {\"hoverinfo\": \"text\", \"marker\": {\"color\": \"rgb(61,153,112)\"}, \"mode\": \"lines\", \"type\": \"scatter\", \"x\": [55.0, 55.0, 65.0, 65.0], \"xaxis\": \"x\", \"y\": [0.0, 0.07411151774360397, 0.07411151774360397, 0.0], \"yaxis\": \"y\"}, {\"hoverinfo\": \"text\", \"marker\": {\"color\": \"rgb(61,153,112)\"}, \"mode\": \"lines\", \"type\": \"scatter\", \"x\": [45.0, 45.0, 60.0, 60.0], \"xaxis\": \"x\", \"y\": [0.0, 0.10755803416730868, 0.10755803416730868, 0.07411151774360397], \"yaxis\": \"y\"}, {\"hoverinfo\": \"text\", \"marker\": {\"color\": \"rgb(61,153,112)\"}, \"mode\": \"lines\", \"type\": \"scatter\", \"x\": [75.0, 75.0, 85.0, 85.0], \"xaxis\": \"x\", \"y\": [0.0, 0.19387978651402454, 0.19387978651402454, 0.0], \"yaxis\": \"y\"}, {\"hoverinfo\": \"text\", \"marker\": {\"color\": \"rgb(61,153,112)\"}, \"mode\": \"lines\", \"type\": \"scatter\", \"x\": [52.5, 52.5, 80.0, 80.0], \"xaxis\": \"x\", \"y\": [0.10755803416730868, 0.32986961034945467, 0.32986961034945467, 0.19387978651402454], \"yaxis\": \"y\"}, {\"hoverinfo\": \"text\", \"marker\": {\"color\": \"rgb(61,153,112)\"}, \"mode\": \"lines\", \"type\": \"scatter\", \"x\": [35.0, 35.0, 66.25, 66.25], \"xaxis\": \"x\", \"y\": [0.0, 0.39394396002657034, 0.39394396002657034, 0.32986961034945467], \"yaxis\": \"y\"}, {\"hoverinfo\": \"text\", \"marker\": {\"color\": \"rgb(61,153,112)\"}, \"mode\": \"lines\", \"type\": \"scatter\", \"x\": [25.0, 25.0, 50.625, 50.625], \"xaxis\": \"x\", \"y\": [0.0, 0.6893568527770151, 0.6893568527770151, 0.39394396002657034], \"yaxis\": \"y\"}, {\"hoverinfo\": \"text\", \"marker\": {\"color\": \"rgb(61,153,112)\"}, \"mode\": \"lines\", \"type\": \"scatter\", \"x\": [10.0, 10.0, 37.8125, 37.8125], \"xaxis\": \"x\", \"y\": [0.2741575179592506, 1.7186130285583439, 1.7186130285583439, 0.6893568527770151], \"yaxis\": \"y\"}, {\"hoverinfo\": \"text\", \"marker\": {\"color\": \"rgb(255,65,54)\"}, \"mode\": \"lines\", \"type\": \"scatter\", \"x\": [105.0, 105.0, 115.0, 115.0], \"xaxis\": \"x\", \"y\": [0.0, 0.09669922761913496, 0.09669922761913496, 0.0], \"yaxis\": \"y\"}, {\"hoverinfo\": \"text\", \"marker\": {\"color\": \"rgb(255,65,54)\"}, \"mode\": \"lines\", \"type\": \"scatter\", \"x\": [125.0, 125.0, 135.0, 135.0], \"xaxis\": \"x\", \"y\": [0.0, 0.09802596451977436, 0.09802596451977436, 0.0], \"yaxis\": \"y\"}, {\"hoverinfo\": \"text\", \"marker\": {\"color\": \"rgb(255,65,54)\"}, \"mode\": \"lines\", \"type\": \"scatter\", \"x\": [110.0, 110.0, 130.0, 130.0], \"xaxis\": \"x\", \"y\": [0.09669922761913496, 0.20309421949468687, 0.20309421949468687, 0.09802596451977436], \"yaxis\": \"y\"}, {\"hoverinfo\": \"text\", \"marker\": {\"color\": \"rgb(255,65,54)\"}, \"mode\": \"lines\", \"type\": \"scatter\", \"x\": [145.0, 145.0, 155.0, 155.0], \"xaxis\": \"x\", \"y\": [0.0, 0.11000213094210257, 0.11000213094210257, 0.0], \"yaxis\": \"y\"}, {\"hoverinfo\": \"text\", \"marker\": {\"color\": \"rgb(255,65,54)\"}, \"mode\": \"lines\", \"type\": \"scatter\", \"x\": [175.0, 175.0, 185.0, 185.0], \"xaxis\": \"x\", \"y\": [0.0, 0.09573548450683352, 0.09573548450683352, 0.0], \"yaxis\": \"y\"}, {\"hoverinfo\": \"text\", \"marker\": {\"color\": \"rgb(255,65,54)\"}, \"mode\": \"lines\", \"type\": \"scatter\", \"x\": [165.0, 165.0, 180.0, 180.0], \"xaxis\": \"x\", \"y\": [0.0, 0.1870487055989839, 0.1870487055989839, 0.09573548450683352], \"yaxis\": \"y\"}, {\"hoverinfo\": \"text\", \"marker\": {\"color\": \"rgb(255,65,54)\"}, \"mode\": \"lines\", \"type\": \"scatter\", \"x\": [150.0, 150.0, 172.5, 172.5], \"xaxis\": \"x\", \"y\": [0.11000213094210257, 0.2171599258021639, 0.2171599258021639, 0.1870487055989839], \"yaxis\": \"y\"}, {\"hoverinfo\": \"text\", \"marker\": {\"color\": \"rgb(255,65,54)\"}, \"mode\": \"lines\", \"type\": \"scatter\", \"x\": [120.0, 120.0, 161.25, 161.25], \"xaxis\": \"x\", \"y\": [0.20309421949468687, 0.4236764277740158, 0.4236764277740158, 0.2171599258021639], \"yaxis\": \"y\"}, {\"hoverinfo\": \"text\", \"marker\": {\"color\": \"rgb(255,65,54)\"}, \"mode\": \"lines\", \"type\": \"scatter\", \"x\": [95.0, 95.0, 140.625, 140.625], \"xaxis\": \"x\", \"y\": [0.0, 0.5542308093617858, 0.5542308093617858, 0.4236764277740158], \"yaxis\": \"y\"}, {\"hoverinfo\": \"text\", \"marker\": {\"color\": \"rgb(255,65,54)\"}, \"mode\": \"lines\", \"type\": \"scatter\", \"x\": [195.0, 195.0, 205.0, 205.0], \"xaxis\": \"x\", \"y\": [0.0, 0.15139257435341286, 0.15139257435341286, 0.0], \"yaxis\": \"y\"}, {\"hoverinfo\": \"text\", \"marker\": {\"color\": \"rgb(255,65,54)\"}, \"mode\": \"lines\", \"type\": \"scatter\", \"x\": [235.0, 235.0, 245.0, 245.0], \"xaxis\": \"x\", \"y\": [0.0, 0.04081826573030646, 0.04081826573030646, 0.0], \"yaxis\": \"y\"}, {\"hoverinfo\": \"text\", \"marker\": {\"color\": \"rgb(255,65,54)\"}, \"mode\": \"lines\", \"type\": \"scatter\", \"x\": [225.0, 225.0, 240.0, 240.0], \"xaxis\": \"x\", \"y\": [0.0, 0.2123711561154522, 0.2123711561154522, 0.04081826573030646], \"yaxis\": \"y\"}, {\"hoverinfo\": \"text\", \"marker\": {\"color\": \"rgb(255,65,54)\"}, \"mode\": \"lines\", \"type\": \"scatter\", \"x\": [215.0, 215.0, 232.5, 232.5], \"xaxis\": \"x\", \"y\": [0.0, 0.4948382616391141, 0.4948382616391141, 0.2123711561154522], \"yaxis\": \"y\"}, {\"hoverinfo\": \"text\", \"marker\": {\"color\": \"rgb(255,65,54)\"}, \"mode\": \"lines\", \"type\": \"scatter\", \"x\": [200.0, 200.0, 223.75, 223.75], \"xaxis\": \"x\", \"y\": [0.15139257435341286, 0.6007882998783101, 0.6007882998783101, 0.4948382616391141], \"yaxis\": \"y\"}, {\"hoverinfo\": \"text\", \"marker\": {\"color\": \"rgb(255,65,54)\"}, \"mode\": \"lines\", \"type\": \"scatter\", \"x\": [117.8125, 117.8125, 211.875, 211.875], \"xaxis\": \"x\", \"y\": [0.5542308093617858, 1.83070696607124, 1.83070696607124, 0.6007882998783101], \"yaxis\": \"y\"}, {\"hoverinfo\": \"text\", \"marker\": {\"color\": \"rgb(0,116,217)\"}, \"mode\": \"lines\", \"type\": \"scatter\", \"x\": [23.90625, 23.90625, 164.84375, 164.84375], \"xaxis\": \"x\", \"y\": [1.7186130285583439, 3.229382238371686, 3.229382238371686, 1.83070696607124], \"yaxis\": \"y\"}],\n",
       "                        {\"autosize\": false, \"height\": 500, \"hovermode\": \"closest\", \"showlegend\": false, \"template\": {\"data\": {\"bar\": [{\"error_x\": {\"color\": \"#2a3f5f\"}, \"error_y\": {\"color\": \"#2a3f5f\"}, \"marker\": {\"line\": {\"color\": \"#E5ECF6\", \"width\": 0.5}}, \"type\": \"bar\"}], \"barpolar\": [{\"marker\": {\"line\": {\"color\": \"#E5ECF6\", \"width\": 0.5}}, \"type\": \"barpolar\"}], \"carpet\": [{\"aaxis\": {\"endlinecolor\": \"#2a3f5f\", \"gridcolor\": \"white\", \"linecolor\": \"white\", \"minorgridcolor\": \"white\", \"startlinecolor\": \"#2a3f5f\"}, \"baxis\": {\"endlinecolor\": \"#2a3f5f\", \"gridcolor\": \"white\", \"linecolor\": \"white\", \"minorgridcolor\": \"white\", \"startlinecolor\": \"#2a3f5f\"}, \"type\": \"carpet\"}], \"choropleth\": [{\"colorbar\": {\"outlinewidth\": 0, \"ticks\": \"\"}, \"type\": \"choropleth\"}], \"contour\": [{\"colorbar\": {\"outlinewidth\": 0, \"ticks\": \"\"}, \"colorscale\": [[0.0, \"#0d0887\"], [0.1111111111111111, \"#46039f\"], [0.2222222222222222, \"#7201a8\"], [0.3333333333333333, \"#9c179e\"], [0.4444444444444444, \"#bd3786\"], [0.5555555555555556, \"#d8576b\"], [0.6666666666666666, \"#ed7953\"], [0.7777777777777778, \"#fb9f3a\"], [0.8888888888888888, \"#fdca26\"], [1.0, \"#f0f921\"]], \"type\": \"contour\"}], \"contourcarpet\": [{\"colorbar\": {\"outlinewidth\": 0, \"ticks\": \"\"}, \"type\": \"contourcarpet\"}], \"heatmap\": [{\"colorbar\": {\"outlinewidth\": 0, \"ticks\": \"\"}, \"colorscale\": [[0.0, \"#0d0887\"], [0.1111111111111111, \"#46039f\"], [0.2222222222222222, \"#7201a8\"], [0.3333333333333333, \"#9c179e\"], [0.4444444444444444, \"#bd3786\"], [0.5555555555555556, \"#d8576b\"], [0.6666666666666666, \"#ed7953\"], [0.7777777777777778, \"#fb9f3a\"], [0.8888888888888888, \"#fdca26\"], [1.0, \"#f0f921\"]], \"type\": \"heatmap\"}], \"heatmapgl\": [{\"colorbar\": {\"outlinewidth\": 0, \"ticks\": \"\"}, \"colorscale\": [[0.0, \"#0d0887\"], [0.1111111111111111, \"#46039f\"], [0.2222222222222222, \"#7201a8\"], [0.3333333333333333, \"#9c179e\"], [0.4444444444444444, \"#bd3786\"], [0.5555555555555556, \"#d8576b\"], [0.6666666666666666, \"#ed7953\"], [0.7777777777777778, \"#fb9f3a\"], [0.8888888888888888, \"#fdca26\"], [1.0, \"#f0f921\"]], \"type\": \"heatmapgl\"}], \"histogram\": [{\"marker\": {\"colorbar\": {\"outlinewidth\": 0, \"ticks\": \"\"}}, \"type\": \"histogram\"}], \"histogram2d\": [{\"colorbar\": {\"outlinewidth\": 0, \"ticks\": \"\"}, \"colorscale\": [[0.0, \"#0d0887\"], [0.1111111111111111, \"#46039f\"], [0.2222222222222222, \"#7201a8\"], [0.3333333333333333, \"#9c179e\"], [0.4444444444444444, \"#bd3786\"], [0.5555555555555556, \"#d8576b\"], [0.6666666666666666, \"#ed7953\"], [0.7777777777777778, \"#fb9f3a\"], [0.8888888888888888, \"#fdca26\"], [1.0, \"#f0f921\"]], \"type\": \"histogram2d\"}], \"histogram2dcontour\": [{\"colorbar\": {\"outlinewidth\": 0, \"ticks\": \"\"}, \"colorscale\": [[0.0, \"#0d0887\"], [0.1111111111111111, \"#46039f\"], [0.2222222222222222, \"#7201a8\"], [0.3333333333333333, \"#9c179e\"], [0.4444444444444444, \"#bd3786\"], [0.5555555555555556, \"#d8576b\"], [0.6666666666666666, \"#ed7953\"], [0.7777777777777778, \"#fb9f3a\"], [0.8888888888888888, \"#fdca26\"], [1.0, \"#f0f921\"]], \"type\": \"histogram2dcontour\"}], \"mesh3d\": [{\"colorbar\": {\"outlinewidth\": 0, \"ticks\": \"\"}, \"type\": \"mesh3d\"}], \"parcoords\": [{\"line\": {\"colorbar\": {\"outlinewidth\": 0, \"ticks\": \"\"}}, \"type\": \"parcoords\"}], \"pie\": [{\"automargin\": true, \"type\": \"pie\"}], \"scatter\": [{\"marker\": {\"colorbar\": {\"outlinewidth\": 0, \"ticks\": \"\"}}, \"type\": \"scatter\"}], \"scatter3d\": [{\"line\": {\"colorbar\": {\"outlinewidth\": 0, \"ticks\": \"\"}}, \"marker\": {\"colorbar\": {\"outlinewidth\": 0, \"ticks\": \"\"}}, \"type\": \"scatter3d\"}], \"scattercarpet\": [{\"marker\": {\"colorbar\": {\"outlinewidth\": 0, \"ticks\": \"\"}}, \"type\": \"scattercarpet\"}], \"scattergeo\": [{\"marker\": {\"colorbar\": {\"outlinewidth\": 0, \"ticks\": \"\"}}, \"type\": \"scattergeo\"}], \"scattergl\": [{\"marker\": {\"colorbar\": {\"outlinewidth\": 0, \"ticks\": \"\"}}, \"type\": \"scattergl\"}], \"scattermapbox\": [{\"marker\": {\"colorbar\": {\"outlinewidth\": 0, \"ticks\": \"\"}}, \"type\": \"scattermapbox\"}], \"scatterpolar\": [{\"marker\": {\"colorbar\": {\"outlinewidth\": 0, \"ticks\": \"\"}}, \"type\": \"scatterpolar\"}], \"scatterpolargl\": [{\"marker\": {\"colorbar\": {\"outlinewidth\": 0, \"ticks\": \"\"}}, \"type\": \"scatterpolargl\"}], \"scatterternary\": [{\"marker\": {\"colorbar\": {\"outlinewidth\": 0, \"ticks\": \"\"}}, \"type\": \"scatterternary\"}], \"surface\": [{\"colorbar\": {\"outlinewidth\": 0, \"ticks\": \"\"}, \"colorscale\": [[0.0, \"#0d0887\"], [0.1111111111111111, \"#46039f\"], [0.2222222222222222, \"#7201a8\"], [0.3333333333333333, \"#9c179e\"], [0.4444444444444444, \"#bd3786\"], [0.5555555555555556, \"#d8576b\"], [0.6666666666666666, \"#ed7953\"], [0.7777777777777778, \"#fb9f3a\"], [0.8888888888888888, \"#fdca26\"], [1.0, \"#f0f921\"]], \"type\": \"surface\"}], \"table\": [{\"cells\": {\"fill\": {\"color\": \"#EBF0F8\"}, \"line\": {\"color\": \"white\"}}, \"header\": {\"fill\": {\"color\": \"#C8D4E3\"}, \"line\": {\"color\": \"white\"}}, \"type\": \"table\"}]}, \"layout\": {\"annotationdefaults\": {\"arrowcolor\": \"#2a3f5f\", \"arrowhead\": 0, \"arrowwidth\": 1}, \"coloraxis\": {\"colorbar\": {\"outlinewidth\": 0, \"ticks\": \"\"}}, \"colorscale\": {\"diverging\": [[0, \"#8e0152\"], [0.1, \"#c51b7d\"], [0.2, \"#de77ae\"], [0.3, \"#f1b6da\"], [0.4, \"#fde0ef\"], [0.5, \"#f7f7f7\"], [0.6, \"#e6f5d0\"], [0.7, \"#b8e186\"], [0.8, \"#7fbc41\"], [0.9, \"#4d9221\"], [1, \"#276419\"]], \"sequential\": [[0.0, \"#0d0887\"], [0.1111111111111111, \"#46039f\"], [0.2222222222222222, \"#7201a8\"], [0.3333333333333333, \"#9c179e\"], [0.4444444444444444, \"#bd3786\"], [0.5555555555555556, \"#d8576b\"], [0.6666666666666666, \"#ed7953\"], [0.7777777777777778, \"#fb9f3a\"], [0.8888888888888888, \"#fdca26\"], [1.0, \"#f0f921\"]], \"sequentialminus\": [[0.0, \"#0d0887\"], [0.1111111111111111, \"#46039f\"], [0.2222222222222222, \"#7201a8\"], [0.3333333333333333, \"#9c179e\"], [0.4444444444444444, \"#bd3786\"], [0.5555555555555556, \"#d8576b\"], [0.6666666666666666, \"#ed7953\"], [0.7777777777777778, \"#fb9f3a\"], [0.8888888888888888, \"#fdca26\"], [1.0, \"#f0f921\"]]}, \"colorway\": [\"#636efa\", \"#EF553B\", \"#00cc96\", \"#ab63fa\", \"#FFA15A\", \"#19d3f3\", \"#FF6692\", \"#B6E880\", \"#FF97FF\", \"#FECB52\"], \"font\": {\"color\": \"#2a3f5f\"}, \"geo\": {\"bgcolor\": \"white\", \"lakecolor\": \"white\", \"landcolor\": \"#E5ECF6\", \"showlakes\": true, \"showland\": true, \"subunitcolor\": \"white\"}, \"hoverlabel\": {\"align\": \"left\"}, \"hovermode\": \"closest\", \"mapbox\": {\"style\": \"light\"}, \"paper_bgcolor\": \"white\", \"plot_bgcolor\": \"#E5ECF6\", \"polar\": {\"angularaxis\": {\"gridcolor\": \"white\", \"linecolor\": \"white\", \"ticks\": \"\"}, \"bgcolor\": \"#E5ECF6\", \"radialaxis\": {\"gridcolor\": \"white\", \"linecolor\": \"white\", \"ticks\": \"\"}}, \"scene\": {\"xaxis\": {\"backgroundcolor\": \"#E5ECF6\", \"gridcolor\": \"white\", \"gridwidth\": 2, \"linecolor\": \"white\", \"showbackground\": true, \"ticks\": \"\", \"zerolinecolor\": \"white\"}, \"yaxis\": {\"backgroundcolor\": \"#E5ECF6\", \"gridcolor\": \"white\", \"gridwidth\": 2, \"linecolor\": \"white\", \"showbackground\": true, \"ticks\": \"\", \"zerolinecolor\": \"white\"}, \"zaxis\": {\"backgroundcolor\": \"#E5ECF6\", \"gridcolor\": \"white\", \"gridwidth\": 2, \"linecolor\": \"white\", \"showbackground\": true, \"ticks\": \"\", \"zerolinecolor\": \"white\"}}, \"shapedefaults\": {\"line\": {\"color\": \"#2a3f5f\"}}, \"ternary\": {\"aaxis\": {\"gridcolor\": \"white\", \"linecolor\": \"white\", \"ticks\": \"\"}, \"baxis\": {\"gridcolor\": \"white\", \"linecolor\": \"white\", \"ticks\": \"\"}, \"bgcolor\": \"#E5ECF6\", \"caxis\": {\"gridcolor\": \"white\", \"linecolor\": \"white\", \"ticks\": \"\"}}, \"title\": {\"x\": 0.05}, \"xaxis\": {\"automargin\": true, \"gridcolor\": \"white\", \"linecolor\": \"white\", \"ticks\": \"\", \"title\": {\"standoff\": 15}, \"zerolinecolor\": \"white\", \"zerolinewidth\": 2}, \"yaxis\": {\"automargin\": true, \"gridcolor\": \"white\", \"linecolor\": \"white\", \"ticks\": \"\", \"title\": {\"standoff\": 15}, \"zerolinecolor\": \"white\", \"zerolinewidth\": 2}}}, \"width\": 800, \"xaxis\": {\"mirror\": \"allticks\", \"rangemode\": \"tozero\", \"showgrid\": false, \"showline\": true, \"showticklabels\": true, \"tickmode\": \"array\", \"ticks\": \"outside\", \"ticktext\": [\"23\", \"24\", \"17\", \"9\", \"10\", \"7\", \"15\", \"8\", \"13\", \"4\", \"5\", \"14\", \"6\", \"11\", \"3\", \"12\", \"0\", \"1\", \"2\", \"16\", \"19\", \"18\", \"22\", \"20\", \"21\"], \"tickvals\": [5.0, 15.0, 25.0, 35.0, 45.0, 55.0, 65.0, 75.0, 85.0, 95.0, 105.0, 115.0, 125.0, 135.0, 145.0, 155.0, 165.0, 175.0, 185.0, 195.0, 205.0, 215.0, 225.0, 235.0, 245.0], \"type\": \"linear\", \"zeroline\": false}, \"yaxis\": {\"mirror\": \"allticks\", \"rangemode\": \"tozero\", \"showgrid\": false, \"showline\": true, \"showticklabels\": true, \"ticks\": \"outside\", \"type\": \"linear\", \"zeroline\": false}},\n",
       "                        {\"responsive\": true}\n",
       "                    ).then(function(){\n",
       "                            \n",
       "var gd = document.getElementById('b16143ca-3ab0-4e9d-ab3d-9c9c2a7b20b8');\n",
       "var x = new MutationObserver(function (mutations, observer) {{\n",
       "        var display = window.getComputedStyle(gd).display;\n",
       "        if (!display || display === 'none') {{\n",
       "            console.log([gd, 'removed!']);\n",
       "            Plotly.purge(gd);\n",
       "            observer.disconnect();\n",
       "        }}\n",
       "}});\n",
       "\n",
       "// Listen for the removal of the full notebook cells\n",
       "var notebookContainer = gd.closest('#notebook-container');\n",
       "if (notebookContainer) {{\n",
       "    x.observe(notebookContainer, {childList: true});\n",
       "}}\n",
       "\n",
       "// Listen for the clearing of the current output cell\n",
       "var outputEl = gd.closest('.output');\n",
       "if (outputEl) {{\n",
       "    x.observe(outputEl, {childList: true});\n",
       "}}\n",
       "\n",
       "                        })\n",
       "                };\n",
       "                });\n",
       "            </script>\n",
       "        </div>"
      ]
     },
     "metadata": {},
     "output_type": "display_data"
    }
   ],
   "source": [
    "import plotly.figure_factory as ff\n",
    "\n",
    "import numpy as np\n",
    "\n",
    "X = milk[['water','protein','fat','lactose','ash','y_km']]\n",
    "dendro = ff.create_dendrogram(X)\n",
    "dendro['layout'].update({'width':800, 'height':500})\n",
    "pyo.iplot(dendro, filename='simple_dendrogram')"
   ]
  },
  {
   "cell_type": "code",
   "execution_count": null,
   "metadata": {},
   "outputs": [],
   "source": []
  }
 ],
 "metadata": {
  "kernelspec": {
   "display_name": "Python 3",
   "language": "python",
   "name": "python3"
  },
  "language_info": {
   "codemirror_mode": {
    "name": "ipython",
    "version": 3
   },
   "file_extension": ".py",
   "mimetype": "text/x-python",
   "name": "python",
   "nbconvert_exporter": "python",
   "pygments_lexer": "ipython3",
   "version": "3.7.4"
  }
 },
 "nbformat": 4,
 "nbformat_minor": 2
}
