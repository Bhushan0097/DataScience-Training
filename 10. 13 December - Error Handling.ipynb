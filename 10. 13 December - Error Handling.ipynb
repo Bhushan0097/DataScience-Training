{
 "cells": [
  {
   "cell_type": "markdown",
   "metadata": {},
   "source": [
    "## Error Handling in Python"
   ]
  },
  {
   "cell_type": "markdown",
   "metadata": {},
   "source": [
    "1. Error are bound to happen in your code\n",
    "2. Especially when someone else ends up using it in an unexpected way.\n",
    "3. We can use error handling to attempt to paln for possible error. \n",
    "4. For Example, a user may try to write to a file that was only opened in mode ='r'\n",
    "5. Currently if there is any type of error in your code, the entire script will stop\n",
    "6. We can use Error handling to let the script continue with other code, even if there is an error."
   ]
  },
  {
   "cell_type": "markdown",
   "metadata": {},
   "source": [
    "### We use three KeyWords for this:\n",
    "    1. Try : This is the block of code to be attempted (may lead to an error)\n",
    "    2. Except: Block of code will execute in case there is an error in try block\n",
    "    3. Finally : A final block of code to be executed, regardless of an error."
   ]
  },
  {
   "cell_type": "markdown",
   "metadata": {},
   "source": [
    "The Syntax Folloes:\n",
    "    try: You do yor operations here......\n",
    "    ......"
   ]
  },
  {
   "cell_type": "code",
   "execution_count": 8,
   "metadata": {},
   "outputs": [
    {
     "name": "stdout",
     "output_type": "stream",
     "text": [
      "Content Written Successfully\n"
     ]
    }
   ],
   "source": [
    "try:\n",
    "    f = open('testfile.txt','w')\n",
    "    f.write(\"I AM LORD ALEX\")\n",
    "except: #Add IOError\n",
    "    print('Error :Could Not find file or read data')\n",
    "else:\n",
    "    print(\"Content Written Successfully\")\n",
    "    f.close()"
   ]
  },
  {
   "cell_type": "code",
   "execution_count": 9,
   "metadata": {},
   "outputs": [
    {
     "name": "stdout",
     "output_type": "stream",
     "text": [
      "Error :Could Not find file or read data\n"
     ]
    }
   ],
   "source": [
    "try:\n",
    "    f = open('','w')\n",
    "    f.write(\"I AM LORD ALEX\")\n",
    "except: #Add IOError\n",
    "    print('Error :Could Not find file or read data')\n",
    "else:\n",
    "    print(\"Content Written Successfully\")\n",
    "    f.close()"
   ]
  },
  {
   "cell_type": "code",
   "execution_count": 11,
   "metadata": {},
   "outputs": [
    {
     "name": "stdout",
     "output_type": "stream",
     "text": [
      "I AM LORD ALEX\n",
      "Content Written Successfully\n"
     ]
    }
   ],
   "source": [
    "try:\n",
    "    f = open('testfile.txt','r')\n",
    "    content = f.read()\n",
    "except: #Add IOError\n",
    "    print('Error :Could Not find file or read data')\n",
    "else:\n",
    "    print(content)\n",
    "    print(\"Content Written Successfully\")\n",
    "    f.close()"
   ]
  },
  {
   "cell_type": "code",
   "execution_count": 3,
   "metadata": {},
   "outputs": [],
   "source": [
    "def askint():\n",
    "    try:\n",
    "        val  = int(input('Pleade enter an integer: '))\n",
    "        print(val)\n",
    "    except ValueError:\n",
    "        print('Looks like you did not enter an integer!')\n",
    "    except UnboundLocalError:\n",
    "        print(\"Looks like you did not enter an integer !\")\n",
    "            \n",
    "    finally:\n",
    "        print('Finally, I executed')"
   ]
  },
  {
   "cell_type": "code",
   "execution_count": 4,
   "metadata": {},
   "outputs": [
    {
     "name": "stdout",
     "output_type": "stream",
     "text": [
      "Pleade enter an integer: 123\n",
      "123\n",
      "Finally, I executed\n"
     ]
    }
   ],
   "source": [
    "askint()"
   ]
  },
  {
   "cell_type": "code",
   "execution_count": 17,
   "metadata": {},
   "outputs": [
    {
     "name": "stdout",
     "output_type": "stream",
     "text": [
      "Pleade enter an integer: asd\n",
      "Looks like you did not enter an integer!\n",
      "Finally, I executed\n"
     ]
    }
   ],
   "source": [
    "askint()"
   ]
  },
  {
   "cell_type": "code",
   "execution_count": null,
   "metadata": {},
   "outputs": [],
   "source": [
    "x = 1\n",
    "while x < 3 :\n",
    "    print(x)\n",
    "    x = x +1"
   ]
  },
  {
   "cell_type": "code",
   "execution_count": 30,
   "metadata": {},
   "outputs": [
    {
     "name": "stdout",
     "output_type": "stream",
     "text": [
      "5\n"
     ]
    }
   ],
   "source": [
    "askint()"
   ]
  },
  {
   "cell_type": "code",
   "execution_count": null,
   "metadata": {},
   "outputs": [],
   "source": [
    "i = 1\n",
    "while i < 6:\n",
    "    print(i)\n",
    "    i += 1"
   ]
  },
  {
   "cell_type": "code",
   "execution_count": null,
   "metadata": {},
   "outputs": [],
   "source": [
    "def askint():\n",
    "    \n",
    "    try:\n",
    "        val  = int(input('Pleade enter an integer:'))\n",
    "        print(val)\n",
    "    except ValueError:\n",
    "        print('Looks like you did not enter an integer\\n {} Attempt Remaining  !'.format(3-i))\n",
    "        \n",
    "    except UnboundLocalError:\n",
    "        print('Looks like you did not enter an integer\\n {} Attempt Remaining  !'.format(3-i))\n",
    "      \n",
    "    finally:\n",
    "        print('Finally, I executed')\n",
    "        return x = 1\n",
    "\n",
    "x =0\n",
    "i = 1\n",
    "print('Maximum 3 tries')\n",
    "while i < 4:\n",
    "    askint()\n",
    "    if x == 1:\n",
    "        break\n",
    "    else :\n",
    "        i += 1\n"
   ]
  },
  {
   "cell_type": "code",
   "execution_count": null,
   "metadata": {},
   "outputs": [],
   "source": []
  },
  {
   "cell_type": "code",
   "execution_count": null,
   "metadata": {},
   "outputs": [],
   "source": []
  },
  {
   "cell_type": "code",
   "execution_count": null,
   "metadata": {},
   "outputs": [],
   "source": []
  }
 ],
 "metadata": {
  "kernelspec": {
   "display_name": "Python 3",
   "language": "python",
   "name": "python3"
  },
  "language_info": {
   "codemirror_mode": {
    "name": "ipython",
    "version": 3
   },
   "file_extension": ".py",
   "mimetype": "text/x-python",
   "name": "python",
   "nbconvert_exporter": "python",
   "pygments_lexer": "ipython3",
   "version": "3.7.4"
  }
 },
 "nbformat": 4,
 "nbformat_minor": 2
}
